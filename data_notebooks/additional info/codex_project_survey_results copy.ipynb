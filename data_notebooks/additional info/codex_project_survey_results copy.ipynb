{
 "cells": [
  {
   "cell_type": "markdown",
   "id": "cc3267cd-d0fe-4974-b61d-a9ce1c816955",
   "metadata": {},
   "source": [
    "# Codex_project\n",
    "# Data Cleaning Instructions\n",
    "\n",
    "In this phase, you will clean the survey data to ensure it's ready for modeling. Follow the guidelines below to help you structure your approach. \n",
    "While some hints are approved, you are encouraged to explore the best methods to handle these tasks.\n",
    "\n",
    "**Step1: Remove Duplicates**\n",
    " - Investigate if the dataset contains duplicate entries. Consider which columns could help identify duplicates. Think about how duplicate records might\n",
    "affect the outcome of the model and remove them accordingly.\n",
    "\n",
    "**Step2: Outlier Detection in Age:**\n",
    " - Explore the 'age' columns to spot potential outliers. You can use statistical methods or visualizations (e.g: box_plots) to help identify these. Reflect\n",
    "on why it's important to handle these outliers. Based on your findings, decide whether to keep, adjust, or remove them. \n",
    "\n",
    "**Step3: Handle Missing Data:**\n",
    "- For the 'income_levels' column, missing values can be problematic. What would be a reasonable way to replace them? (Hint: Consider using \"Not Reported\" \n",
    "for missing income levels)\n",
    "\n",
    "**Step4: Correcting Spelling Mistakes in Categorical Data:**\n",
    "- Review the entries in the 'zone' and 'current_brand' columns. Are these any inconsistencies in spelling or formatting ? How could you identify and fix\n",
    "these issues to ensure uniform categories?\n"
   ]
  },
  {
   "cell_type": "code",
   "execution_count": 1,
   "id": "379ab560-3b6a-4fa7-9705-b3df1da9f9bc",
   "metadata": {},
   "outputs": [
    {
     "data": {
      "text/html": [
       "<div>\n",
       "<style scoped>\n",
       "    .dataframe tbody tr th:only-of-type {\n",
       "        vertical-align: middle;\n",
       "    }\n",
       "\n",
       "    .dataframe tbody tr th {\n",
       "        vertical-align: top;\n",
       "    }\n",
       "\n",
       "    .dataframe thead th {\n",
       "        text-align: right;\n",
       "    }\n",
       "</style>\n",
       "<table border=\"1\" class=\"dataframe\">\n",
       "  <thead>\n",
       "    <tr style=\"text-align: right;\">\n",
       "      <th></th>\n",
       "      <th>respondent_id</th>\n",
       "      <th>age</th>\n",
       "      <th>gender</th>\n",
       "      <th>zone</th>\n",
       "      <th>occupation</th>\n",
       "      <th>income_levels</th>\n",
       "      <th>consume_frequency(weekly)</th>\n",
       "      <th>current_brand</th>\n",
       "      <th>preferable_consumption_size</th>\n",
       "      <th>awareness_of_other_brands</th>\n",
       "      <th>reasons_for_choosing_brands</th>\n",
       "      <th>flavor_preference</th>\n",
       "      <th>purchase_channel</th>\n",
       "      <th>packaging_preference</th>\n",
       "      <th>health_concerns</th>\n",
       "      <th>typical_consumption_situations</th>\n",
       "      <th>price_range</th>\n",
       "    </tr>\n",
       "  </thead>\n",
       "  <tbody>\n",
       "    <tr>\n",
       "      <th>0</th>\n",
       "      <td>R00001</td>\n",
       "      <td>30</td>\n",
       "      <td>M</td>\n",
       "      <td>Urban</td>\n",
       "      <td>Working Professional</td>\n",
       "      <td>&lt;10L</td>\n",
       "      <td>3-4 times</td>\n",
       "      <td>Newcomer</td>\n",
       "      <td>Medium (500 ml)</td>\n",
       "      <td>0 to 1</td>\n",
       "      <td>Price</td>\n",
       "      <td>Traditional</td>\n",
       "      <td>Online</td>\n",
       "      <td>Simple</td>\n",
       "      <td>Medium (Moderately health-conscious)</td>\n",
       "      <td>Active (eg. Sports, gym)</td>\n",
       "      <td>100-150</td>\n",
       "    </tr>\n",
       "    <tr>\n",
       "      <th>1</th>\n",
       "      <td>R00002</td>\n",
       "      <td>46</td>\n",
       "      <td>F</td>\n",
       "      <td>Metro</td>\n",
       "      <td>Working Professional</td>\n",
       "      <td>&gt; 35L</td>\n",
       "      <td>5-7 times</td>\n",
       "      <td>Established</td>\n",
       "      <td>Medium (500 ml)</td>\n",
       "      <td>2 to 4</td>\n",
       "      <td>Quality</td>\n",
       "      <td>Exotic</td>\n",
       "      <td>Retail Store</td>\n",
       "      <td>Premium</td>\n",
       "      <td>Medium (Moderately health-conscious)</td>\n",
       "      <td>Social (eg. Parties)</td>\n",
       "      <td>200-250</td>\n",
       "    </tr>\n",
       "    <tr>\n",
       "      <th>2</th>\n",
       "      <td>R00003</td>\n",
       "      <td>41</td>\n",
       "      <td>F</td>\n",
       "      <td>Rural</td>\n",
       "      <td>Working Professional</td>\n",
       "      <td>&gt; 35L</td>\n",
       "      <td>3-4 times</td>\n",
       "      <td>Newcomer</td>\n",
       "      <td>Medium (500 ml)</td>\n",
       "      <td>2 to 4</td>\n",
       "      <td>Availability</td>\n",
       "      <td>Traditional</td>\n",
       "      <td>Retail Store</td>\n",
       "      <td>Premium</td>\n",
       "      <td>Medium (Moderately health-conscious)</td>\n",
       "      <td>Active (eg. Sports, gym)</td>\n",
       "      <td>200-250</td>\n",
       "    </tr>\n",
       "    <tr>\n",
       "      <th>3</th>\n",
       "      <td>R00004</td>\n",
       "      <td>33</td>\n",
       "      <td>F</td>\n",
       "      <td>Urban</td>\n",
       "      <td>Working Professional</td>\n",
       "      <td>16L - 25L</td>\n",
       "      <td>5-7 times</td>\n",
       "      <td>Newcomer</td>\n",
       "      <td>Medium (500 ml)</td>\n",
       "      <td>0 to 1</td>\n",
       "      <td>Brand Reputation</td>\n",
       "      <td>Exotic</td>\n",
       "      <td>Online</td>\n",
       "      <td>Eco-Friendly</td>\n",
       "      <td>Low (Not very concerned)</td>\n",
       "      <td>Active (eg. Sports, gym)</td>\n",
       "      <td>150-200</td>\n",
       "    </tr>\n",
       "    <tr>\n",
       "      <th>4</th>\n",
       "      <td>R00005</td>\n",
       "      <td>23</td>\n",
       "      <td>M</td>\n",
       "      <td>Metro</td>\n",
       "      <td>Student</td>\n",
       "      <td>NaN</td>\n",
       "      <td>3-4 times</td>\n",
       "      <td>Established</td>\n",
       "      <td>Medium (500 ml)</td>\n",
       "      <td>0 to 1</td>\n",
       "      <td>Availability</td>\n",
       "      <td>Traditional</td>\n",
       "      <td>Online</td>\n",
       "      <td>Premium</td>\n",
       "      <td>Medium (Moderately health-conscious)</td>\n",
       "      <td>Active (eg. Sports, gym)</td>\n",
       "      <td>50-100</td>\n",
       "    </tr>\n",
       "  </tbody>\n",
       "</table>\n",
       "</div>"
      ],
      "text/plain": [
       "  respondent_id  age gender   zone            occupation income_levels  \\\n",
       "0        R00001   30      M  Urban  Working Professional          <10L   \n",
       "1        R00002   46      F  Metro  Working Professional         > 35L   \n",
       "2        R00003   41      F  Rural  Working Professional         > 35L   \n",
       "3        R00004   33      F  Urban  Working Professional     16L - 25L   \n",
       "4        R00005   23      M  Metro               Student           NaN   \n",
       "\n",
       "  consume_frequency(weekly) current_brand preferable_consumption_size  \\\n",
       "0                 3-4 times      Newcomer             Medium (500 ml)   \n",
       "1                 5-7 times   Established             Medium (500 ml)   \n",
       "2                 3-4 times      Newcomer             Medium (500 ml)   \n",
       "3                 5-7 times      Newcomer             Medium (500 ml)   \n",
       "4                 3-4 times   Established             Medium (500 ml)   \n",
       "\n",
       "  awareness_of_other_brands reasons_for_choosing_brands flavor_preference  \\\n",
       "0                    0 to 1                       Price       Traditional   \n",
       "1                    2 to 4                     Quality            Exotic   \n",
       "2                    2 to 4                Availability       Traditional   \n",
       "3                    0 to 1            Brand Reputation            Exotic   \n",
       "4                    0 to 1                Availability       Traditional   \n",
       "\n",
       "  purchase_channel packaging_preference                       health_concerns  \\\n",
       "0           Online               Simple  Medium (Moderately health-conscious)   \n",
       "1     Retail Store              Premium  Medium (Moderately health-conscious)   \n",
       "2     Retail Store              Premium  Medium (Moderately health-conscious)   \n",
       "3           Online         Eco-Friendly              Low (Not very concerned)   \n",
       "4           Online              Premium  Medium (Moderately health-conscious)   \n",
       "\n",
       "  typical_consumption_situations price_range  \n",
       "0       Active (eg. Sports, gym)     100-150  \n",
       "1           Social (eg. Parties)     200-250  \n",
       "2       Active (eg. Sports, gym)     200-250  \n",
       "3       Active (eg. Sports, gym)     150-200  \n",
       "4       Active (eg. Sports, gym)      50-100  "
      ]
     },
     "execution_count": 1,
     "metadata": {},
     "output_type": "execute_result"
    }
   ],
   "source": [
    "import pandas as pd\n",
    "df = pd.read_csv('survey_results.csv')\n",
    "df.head(5)"
   ]
  },
  {
   "cell_type": "markdown",
   "id": "81fa4c4c-2d8a-4895-9102-0650a21c8a6a",
   "metadata": {},
   "source": [
    "**Step1: Remove Duplicates**\n",
    " - Investigate if the dataset contains duplicate entries. Consider which columns could help identify duplicates. Think about how duplicate records might\n",
    "affect the outcome of the model and remove them accordingly.\n"
   ]
  },
  {
   "cell_type": "code",
   "execution_count": 2,
   "id": "bc6aa3a5-6e7a-4a00-9a05-b565423f3cd8",
   "metadata": {},
   "outputs": [
    {
     "data": {
      "text/plain": [
       "{'df shape': (30010, 17)}"
      ]
     },
     "execution_count": 2,
     "metadata": {},
     "output_type": "execute_result"
    }
   ],
   "source": [
    "# Display the shape of dataframe\n",
    "{'df shape': df.shape}"
   ]
  },
  {
   "cell_type": "code",
   "execution_count": 3,
   "id": "26c568b4-2abe-4ff4-8dac-25f67cd2ca5f",
   "metadata": {},
   "outputs": [
    {
     "data": {
      "text/plain": [
       "10"
      ]
     },
     "execution_count": 3,
     "metadata": {},
     "output_type": "execute_result"
    }
   ],
   "source": [
    "# Find the sum of duplicated rows\n",
    "df.duplicated().sum()"
   ]
  },
  {
   "cell_type": "code",
   "execution_count": 4,
   "id": "d2e7cc06-19c9-4e50-a0bf-849085a0eb4c",
   "metadata": {},
   "outputs": [
    {
     "data": {
      "text/html": [
       "<div>\n",
       "<style scoped>\n",
       "    .dataframe tbody tr th:only-of-type {\n",
       "        vertical-align: middle;\n",
       "    }\n",
       "\n",
       "    .dataframe tbody tr th {\n",
       "        vertical-align: top;\n",
       "    }\n",
       "\n",
       "    .dataframe thead th {\n",
       "        text-align: right;\n",
       "    }\n",
       "</style>\n",
       "<table border=\"1\" class=\"dataframe\">\n",
       "  <thead>\n",
       "    <tr style=\"text-align: right;\">\n",
       "      <th></th>\n",
       "      <th>respondent_id</th>\n",
       "      <th>age</th>\n",
       "      <th>gender</th>\n",
       "      <th>zone</th>\n",
       "      <th>occupation</th>\n",
       "      <th>income_levels</th>\n",
       "      <th>consume_frequency(weekly)</th>\n",
       "      <th>current_brand</th>\n",
       "      <th>preferable_consumption_size</th>\n",
       "      <th>awareness_of_other_brands</th>\n",
       "      <th>reasons_for_choosing_brands</th>\n",
       "      <th>flavor_preference</th>\n",
       "      <th>purchase_channel</th>\n",
       "      <th>packaging_preference</th>\n",
       "      <th>health_concerns</th>\n",
       "      <th>typical_consumption_situations</th>\n",
       "      <th>price_range</th>\n",
       "    </tr>\n",
       "  </thead>\n",
       "  <tbody>\n",
       "    <tr>\n",
       "      <th>2309</th>\n",
       "      <td>R02309</td>\n",
       "      <td>27</td>\n",
       "      <td>M</td>\n",
       "      <td>Urban</td>\n",
       "      <td>Working Professional</td>\n",
       "      <td>16L - 25L</td>\n",
       "      <td>3-4 times</td>\n",
       "      <td>Newcomer</td>\n",
       "      <td>Small (250 ml)</td>\n",
       "      <td>2 to 4</td>\n",
       "      <td>Brand Reputation</td>\n",
       "      <td>Traditional</td>\n",
       "      <td>Online</td>\n",
       "      <td>Simple</td>\n",
       "      <td>Medium (Moderately health-conscious)</td>\n",
       "      <td>Social (eg. Parties)</td>\n",
       "      <td>150-200</td>\n",
       "    </tr>\n",
       "    <tr>\n",
       "      <th>2666</th>\n",
       "      <td>R02665</td>\n",
       "      <td>61</td>\n",
       "      <td>M</td>\n",
       "      <td>Metro</td>\n",
       "      <td>Entrepreneur</td>\n",
       "      <td>16L - 25L</td>\n",
       "      <td>3-4 times</td>\n",
       "      <td>Established</td>\n",
       "      <td>Medium (500 ml)</td>\n",
       "      <td>above 4</td>\n",
       "      <td>Brand Reputation</td>\n",
       "      <td>Exotic</td>\n",
       "      <td>Retail Store</td>\n",
       "      <td>Simple</td>\n",
       "      <td>High (Very health-conscious)</td>\n",
       "      <td>Active (eg. Sports, gym)</td>\n",
       "      <td>200-250</td>\n",
       "    </tr>\n",
       "    <tr>\n",
       "      <th>5151</th>\n",
       "      <td>R05149</td>\n",
       "      <td>21</td>\n",
       "      <td>M</td>\n",
       "      <td>Semi-Urban</td>\n",
       "      <td>Student</td>\n",
       "      <td>NaN</td>\n",
       "      <td>3-4 times</td>\n",
       "      <td>Established</td>\n",
       "      <td>Small (250 ml)</td>\n",
       "      <td>2 to 4</td>\n",
       "      <td>Availability</td>\n",
       "      <td>Traditional</td>\n",
       "      <td>Retail Store</td>\n",
       "      <td>Simple</td>\n",
       "      <td>Low (Not very concerned)</td>\n",
       "      <td>Active (eg. Sports, gym)</td>\n",
       "      <td>50-100</td>\n",
       "    </tr>\n",
       "    <tr>\n",
       "      <th>7794</th>\n",
       "      <td>R07791</td>\n",
       "      <td>25</td>\n",
       "      <td>M</td>\n",
       "      <td>Metro</td>\n",
       "      <td>Working Professional</td>\n",
       "      <td>&lt;10L</td>\n",
       "      <td>3-4 times</td>\n",
       "      <td>Newcomer</td>\n",
       "      <td>Medium (500 ml)</td>\n",
       "      <td>2 to 4</td>\n",
       "      <td>Availability</td>\n",
       "      <td>Exotic</td>\n",
       "      <td>Online</td>\n",
       "      <td>Simple</td>\n",
       "      <td>Medium (Moderately health-conscious)</td>\n",
       "      <td>Casual (eg. At home)</td>\n",
       "      <td>100-150</td>\n",
       "    </tr>\n",
       "    <tr>\n",
       "      <th>8516</th>\n",
       "      <td>R08512</td>\n",
       "      <td>20</td>\n",
       "      <td>F</td>\n",
       "      <td>Metro</td>\n",
       "      <td>Student</td>\n",
       "      <td>NaN</td>\n",
       "      <td>5-7 times</td>\n",
       "      <td>Established</td>\n",
       "      <td>Large (1 L)</td>\n",
       "      <td>0 to 1</td>\n",
       "      <td>Price</td>\n",
       "      <td>Exotic</td>\n",
       "      <td>Online</td>\n",
       "      <td>Simple</td>\n",
       "      <td>Medium (Moderately health-conscious)</td>\n",
       "      <td>Casual (eg. At home)</td>\n",
       "      <td>100-150</td>\n",
       "    </tr>\n",
       "    <tr>\n",
       "      <th>11317</th>\n",
       "      <td>R11312</td>\n",
       "      <td>18</td>\n",
       "      <td>F</td>\n",
       "      <td>Urban</td>\n",
       "      <td>Student</td>\n",
       "      <td>NaN</td>\n",
       "      <td>0-2 times</td>\n",
       "      <td>Newcomer</td>\n",
       "      <td>Medium (500 ml)</td>\n",
       "      <td>2 to 4</td>\n",
       "      <td>Availability</td>\n",
       "      <td>Exotic</td>\n",
       "      <td>Online</td>\n",
       "      <td>Premium</td>\n",
       "      <td>Medium (Moderately health-conscious)</td>\n",
       "      <td>Social (eg. Parties)</td>\n",
       "      <td>100-150</td>\n",
       "    </tr>\n",
       "    <tr>\n",
       "      <th>19050</th>\n",
       "      <td>R19044</td>\n",
       "      <td>57</td>\n",
       "      <td>M</td>\n",
       "      <td>Semi-Urban</td>\n",
       "      <td>Retired</td>\n",
       "      <td>&lt;10L</td>\n",
       "      <td>3-4 times</td>\n",
       "      <td>Newcomer</td>\n",
       "      <td>Large (1 L)</td>\n",
       "      <td>2 to 4</td>\n",
       "      <td>Price</td>\n",
       "      <td>Traditional</td>\n",
       "      <td>Retail Store</td>\n",
       "      <td>Premium</td>\n",
       "      <td>High (Very health-conscious)</td>\n",
       "      <td>Social (eg. Parties)</td>\n",
       "      <td>150-200</td>\n",
       "    </tr>\n",
       "    <tr>\n",
       "      <th>22412</th>\n",
       "      <td>R22405</td>\n",
       "      <td>26</td>\n",
       "      <td>M</td>\n",
       "      <td>Metro</td>\n",
       "      <td>Working Professional</td>\n",
       "      <td>16L - 25L</td>\n",
       "      <td>0-2 times</td>\n",
       "      <td>Newcomer</td>\n",
       "      <td>Small (250 ml)</td>\n",
       "      <td>0 to 1</td>\n",
       "      <td>Price</td>\n",
       "      <td>Exotic</td>\n",
       "      <td>Online</td>\n",
       "      <td>Premium</td>\n",
       "      <td>Low (Not very concerned)</td>\n",
       "      <td>Active (eg. Sports, gym)</td>\n",
       "      <td>150-200</td>\n",
       "    </tr>\n",
       "    <tr>\n",
       "      <th>23406</th>\n",
       "      <td>R23398</td>\n",
       "      <td>27</td>\n",
       "      <td>M</td>\n",
       "      <td>Urban</td>\n",
       "      <td>Working Professional</td>\n",
       "      <td>10L - 15L</td>\n",
       "      <td>5-7 times</td>\n",
       "      <td>Newcomer</td>\n",
       "      <td>Large (1 L)</td>\n",
       "      <td>above 4</td>\n",
       "      <td>Availability</td>\n",
       "      <td>Traditional</td>\n",
       "      <td>Online</td>\n",
       "      <td>Premium</td>\n",
       "      <td>High (Very health-conscious)</td>\n",
       "      <td>Casual (eg. At home)</td>\n",
       "      <td>200-250</td>\n",
       "    </tr>\n",
       "    <tr>\n",
       "      <th>25068</th>\n",
       "      <td>R25059</td>\n",
       "      <td>34</td>\n",
       "      <td>F</td>\n",
       "      <td>Urban</td>\n",
       "      <td>Working Professional</td>\n",
       "      <td>16L - 25L</td>\n",
       "      <td>0-2 times</td>\n",
       "      <td>Newcomer</td>\n",
       "      <td>Small (250 ml)</td>\n",
       "      <td>2 to 4</td>\n",
       "      <td>Brand Reputation</td>\n",
       "      <td>Exotic</td>\n",
       "      <td>Online</td>\n",
       "      <td>Eco-Friendly</td>\n",
       "      <td>High (Very health-conscious)</td>\n",
       "      <td>Active (eg. Sports, gym)</td>\n",
       "      <td>150-200</td>\n",
       "    </tr>\n",
       "  </tbody>\n",
       "</table>\n",
       "</div>"
      ],
      "text/plain": [
       "      respondent_id  age gender        zone            occupation  \\\n",
       "2309         R02309   27      M       Urban  Working Professional   \n",
       "2666         R02665   61      M       Metro          Entrepreneur   \n",
       "5151         R05149   21      M  Semi-Urban               Student   \n",
       "7794         R07791   25      M       Metro  Working Professional   \n",
       "8516         R08512   20      F       Metro               Student   \n",
       "11317        R11312   18      F       Urban               Student   \n",
       "19050        R19044   57      M  Semi-Urban               Retired   \n",
       "22412        R22405   26      M       Metro  Working Professional   \n",
       "23406        R23398   27      M       Urban  Working Professional   \n",
       "25068        R25059   34      F       Urban  Working Professional   \n",
       "\n",
       "      income_levels consume_frequency(weekly) current_brand  \\\n",
       "2309      16L - 25L                 3-4 times      Newcomer   \n",
       "2666      16L - 25L                 3-4 times   Established   \n",
       "5151            NaN                 3-4 times   Established   \n",
       "7794           <10L                 3-4 times      Newcomer   \n",
       "8516            NaN                 5-7 times   Established   \n",
       "11317           NaN                 0-2 times      Newcomer   \n",
       "19050          <10L                 3-4 times      Newcomer   \n",
       "22412     16L - 25L                 0-2 times      Newcomer   \n",
       "23406     10L - 15L                 5-7 times      Newcomer   \n",
       "25068     16L - 25L                 0-2 times      Newcomer   \n",
       "\n",
       "      preferable_consumption_size awareness_of_other_brands  \\\n",
       "2309               Small (250 ml)                    2 to 4   \n",
       "2666              Medium (500 ml)                   above 4   \n",
       "5151               Small (250 ml)                    2 to 4   \n",
       "7794              Medium (500 ml)                    2 to 4   \n",
       "8516                  Large (1 L)                    0 to 1   \n",
       "11317             Medium (500 ml)                    2 to 4   \n",
       "19050                 Large (1 L)                    2 to 4   \n",
       "22412              Small (250 ml)                    0 to 1   \n",
       "23406                 Large (1 L)                   above 4   \n",
       "25068              Small (250 ml)                    2 to 4   \n",
       "\n",
       "      reasons_for_choosing_brands flavor_preference purchase_channel  \\\n",
       "2309             Brand Reputation       Traditional           Online   \n",
       "2666             Brand Reputation            Exotic     Retail Store   \n",
       "5151                 Availability       Traditional     Retail Store   \n",
       "7794                 Availability            Exotic           Online   \n",
       "8516                        Price            Exotic           Online   \n",
       "11317                Availability            Exotic           Online   \n",
       "19050                       Price       Traditional     Retail Store   \n",
       "22412                       Price            Exotic           Online   \n",
       "23406                Availability       Traditional           Online   \n",
       "25068            Brand Reputation            Exotic           Online   \n",
       "\n",
       "      packaging_preference                       health_concerns  \\\n",
       "2309                Simple  Medium (Moderately health-conscious)   \n",
       "2666                Simple          High (Very health-conscious)   \n",
       "5151                Simple              Low (Not very concerned)   \n",
       "7794                Simple  Medium (Moderately health-conscious)   \n",
       "8516                Simple  Medium (Moderately health-conscious)   \n",
       "11317              Premium  Medium (Moderately health-conscious)   \n",
       "19050              Premium          High (Very health-conscious)   \n",
       "22412              Premium              Low (Not very concerned)   \n",
       "23406              Premium          High (Very health-conscious)   \n",
       "25068         Eco-Friendly          High (Very health-conscious)   \n",
       "\n",
       "      typical_consumption_situations price_range  \n",
       "2309            Social (eg. Parties)     150-200  \n",
       "2666        Active (eg. Sports, gym)     200-250  \n",
       "5151        Active (eg. Sports, gym)      50-100  \n",
       "7794            Casual (eg. At home)     100-150  \n",
       "8516            Casual (eg. At home)     100-150  \n",
       "11317           Social (eg. Parties)     100-150  \n",
       "19050           Social (eg. Parties)     150-200  \n",
       "22412       Active (eg. Sports, gym)     150-200  \n",
       "23406           Casual (eg. At home)     200-250  \n",
       "25068       Active (eg. Sports, gym)     150-200  "
      ]
     },
     "execution_count": 4,
     "metadata": {},
     "output_type": "execute_result"
    }
   ],
   "source": [
    "df[df.duplicated(subset=['respondent_id', 'age'])]"
   ]
  },
  {
   "cell_type": "code",
   "execution_count": 5,
   "id": "c7467804-aa56-471d-bc19-a96a6113d8f4",
   "metadata": {},
   "outputs": [
    {
     "data": {
      "text/html": [
       "<div>\n",
       "<style scoped>\n",
       "    .dataframe tbody tr th:only-of-type {\n",
       "        vertical-align: middle;\n",
       "    }\n",
       "\n",
       "    .dataframe tbody tr th {\n",
       "        vertical-align: top;\n",
       "    }\n",
       "\n",
       "    .dataframe thead th {\n",
       "        text-align: right;\n",
       "    }\n",
       "</style>\n",
       "<table border=\"1\" class=\"dataframe\">\n",
       "  <thead>\n",
       "    <tr style=\"text-align: right;\">\n",
       "      <th></th>\n",
       "      <th>respondent_id</th>\n",
       "      <th>age</th>\n",
       "      <th>gender</th>\n",
       "      <th>zone</th>\n",
       "      <th>occupation</th>\n",
       "      <th>income_levels</th>\n",
       "      <th>consume_frequency(weekly)</th>\n",
       "      <th>current_brand</th>\n",
       "      <th>preferable_consumption_size</th>\n",
       "      <th>awareness_of_other_brands</th>\n",
       "      <th>reasons_for_choosing_brands</th>\n",
       "      <th>flavor_preference</th>\n",
       "      <th>purchase_channel</th>\n",
       "      <th>packaging_preference</th>\n",
       "      <th>health_concerns</th>\n",
       "      <th>typical_consumption_situations</th>\n",
       "      <th>price_range</th>\n",
       "    </tr>\n",
       "  </thead>\n",
       "  <tbody>\n",
       "    <tr>\n",
       "      <th>2308</th>\n",
       "      <td>R02309</td>\n",
       "      <td>27</td>\n",
       "      <td>M</td>\n",
       "      <td>Urban</td>\n",
       "      <td>Working Professional</td>\n",
       "      <td>16L - 25L</td>\n",
       "      <td>3-4 times</td>\n",
       "      <td>Newcomer</td>\n",
       "      <td>Small (250 ml)</td>\n",
       "      <td>2 to 4</td>\n",
       "      <td>Brand Reputation</td>\n",
       "      <td>Traditional</td>\n",
       "      <td>Online</td>\n",
       "      <td>Simple</td>\n",
       "      <td>Medium (Moderately health-conscious)</td>\n",
       "      <td>Social (eg. Parties)</td>\n",
       "      <td>150-200</td>\n",
       "    </tr>\n",
       "    <tr>\n",
       "      <th>2309</th>\n",
       "      <td>R02309</td>\n",
       "      <td>27</td>\n",
       "      <td>M</td>\n",
       "      <td>Urban</td>\n",
       "      <td>Working Professional</td>\n",
       "      <td>16L - 25L</td>\n",
       "      <td>3-4 times</td>\n",
       "      <td>Newcomer</td>\n",
       "      <td>Small (250 ml)</td>\n",
       "      <td>2 to 4</td>\n",
       "      <td>Brand Reputation</td>\n",
       "      <td>Traditional</td>\n",
       "      <td>Online</td>\n",
       "      <td>Simple</td>\n",
       "      <td>Medium (Moderately health-conscious)</td>\n",
       "      <td>Social (eg. Parties)</td>\n",
       "      <td>150-200</td>\n",
       "    </tr>\n",
       "    <tr>\n",
       "      <th>2665</th>\n",
       "      <td>R02665</td>\n",
       "      <td>61</td>\n",
       "      <td>M</td>\n",
       "      <td>Metro</td>\n",
       "      <td>Entrepreneur</td>\n",
       "      <td>16L - 25L</td>\n",
       "      <td>3-4 times</td>\n",
       "      <td>Established</td>\n",
       "      <td>Medium (500 ml)</td>\n",
       "      <td>above 4</td>\n",
       "      <td>Brand Reputation</td>\n",
       "      <td>Exotic</td>\n",
       "      <td>Retail Store</td>\n",
       "      <td>Simple</td>\n",
       "      <td>High (Very health-conscious)</td>\n",
       "      <td>Active (eg. Sports, gym)</td>\n",
       "      <td>200-250</td>\n",
       "    </tr>\n",
       "    <tr>\n",
       "      <th>2666</th>\n",
       "      <td>R02665</td>\n",
       "      <td>61</td>\n",
       "      <td>M</td>\n",
       "      <td>Metro</td>\n",
       "      <td>Entrepreneur</td>\n",
       "      <td>16L - 25L</td>\n",
       "      <td>3-4 times</td>\n",
       "      <td>Established</td>\n",
       "      <td>Medium (500 ml)</td>\n",
       "      <td>above 4</td>\n",
       "      <td>Brand Reputation</td>\n",
       "      <td>Exotic</td>\n",
       "      <td>Retail Store</td>\n",
       "      <td>Simple</td>\n",
       "      <td>High (Very health-conscious)</td>\n",
       "      <td>Active (eg. Sports, gym)</td>\n",
       "      <td>200-250</td>\n",
       "    </tr>\n",
       "    <tr>\n",
       "      <th>5150</th>\n",
       "      <td>R05149</td>\n",
       "      <td>21</td>\n",
       "      <td>M</td>\n",
       "      <td>Semi-Urban</td>\n",
       "      <td>Student</td>\n",
       "      <td>NaN</td>\n",
       "      <td>3-4 times</td>\n",
       "      <td>Established</td>\n",
       "      <td>Small (250 ml)</td>\n",
       "      <td>2 to 4</td>\n",
       "      <td>Availability</td>\n",
       "      <td>Traditional</td>\n",
       "      <td>Retail Store</td>\n",
       "      <td>Simple</td>\n",
       "      <td>Low (Not very concerned)</td>\n",
       "      <td>Active (eg. Sports, gym)</td>\n",
       "      <td>50-100</td>\n",
       "    </tr>\n",
       "    <tr>\n",
       "      <th>5151</th>\n",
       "      <td>R05149</td>\n",
       "      <td>21</td>\n",
       "      <td>M</td>\n",
       "      <td>Semi-Urban</td>\n",
       "      <td>Student</td>\n",
       "      <td>NaN</td>\n",
       "      <td>3-4 times</td>\n",
       "      <td>Established</td>\n",
       "      <td>Small (250 ml)</td>\n",
       "      <td>2 to 4</td>\n",
       "      <td>Availability</td>\n",
       "      <td>Traditional</td>\n",
       "      <td>Retail Store</td>\n",
       "      <td>Simple</td>\n",
       "      <td>Low (Not very concerned)</td>\n",
       "      <td>Active (eg. Sports, gym)</td>\n",
       "      <td>50-100</td>\n",
       "    </tr>\n",
       "    <tr>\n",
       "      <th>7793</th>\n",
       "      <td>R07791</td>\n",
       "      <td>25</td>\n",
       "      <td>M</td>\n",
       "      <td>Metro</td>\n",
       "      <td>Working Professional</td>\n",
       "      <td>&lt;10L</td>\n",
       "      <td>3-4 times</td>\n",
       "      <td>Newcomer</td>\n",
       "      <td>Medium (500 ml)</td>\n",
       "      <td>2 to 4</td>\n",
       "      <td>Availability</td>\n",
       "      <td>Exotic</td>\n",
       "      <td>Online</td>\n",
       "      <td>Simple</td>\n",
       "      <td>Medium (Moderately health-conscious)</td>\n",
       "      <td>Casual (eg. At home)</td>\n",
       "      <td>100-150</td>\n",
       "    </tr>\n",
       "    <tr>\n",
       "      <th>7794</th>\n",
       "      <td>R07791</td>\n",
       "      <td>25</td>\n",
       "      <td>M</td>\n",
       "      <td>Metro</td>\n",
       "      <td>Working Professional</td>\n",
       "      <td>&lt;10L</td>\n",
       "      <td>3-4 times</td>\n",
       "      <td>Newcomer</td>\n",
       "      <td>Medium (500 ml)</td>\n",
       "      <td>2 to 4</td>\n",
       "      <td>Availability</td>\n",
       "      <td>Exotic</td>\n",
       "      <td>Online</td>\n",
       "      <td>Simple</td>\n",
       "      <td>Medium (Moderately health-conscious)</td>\n",
       "      <td>Casual (eg. At home)</td>\n",
       "      <td>100-150</td>\n",
       "    </tr>\n",
       "    <tr>\n",
       "      <th>8515</th>\n",
       "      <td>R08512</td>\n",
       "      <td>20</td>\n",
       "      <td>F</td>\n",
       "      <td>Metro</td>\n",
       "      <td>Student</td>\n",
       "      <td>NaN</td>\n",
       "      <td>5-7 times</td>\n",
       "      <td>Established</td>\n",
       "      <td>Large (1 L)</td>\n",
       "      <td>0 to 1</td>\n",
       "      <td>Price</td>\n",
       "      <td>Exotic</td>\n",
       "      <td>Online</td>\n",
       "      <td>Simple</td>\n",
       "      <td>Medium (Moderately health-conscious)</td>\n",
       "      <td>Casual (eg. At home)</td>\n",
       "      <td>100-150</td>\n",
       "    </tr>\n",
       "    <tr>\n",
       "      <th>8516</th>\n",
       "      <td>R08512</td>\n",
       "      <td>20</td>\n",
       "      <td>F</td>\n",
       "      <td>Metro</td>\n",
       "      <td>Student</td>\n",
       "      <td>NaN</td>\n",
       "      <td>5-7 times</td>\n",
       "      <td>Established</td>\n",
       "      <td>Large (1 L)</td>\n",
       "      <td>0 to 1</td>\n",
       "      <td>Price</td>\n",
       "      <td>Exotic</td>\n",
       "      <td>Online</td>\n",
       "      <td>Simple</td>\n",
       "      <td>Medium (Moderately health-conscious)</td>\n",
       "      <td>Casual (eg. At home)</td>\n",
       "      <td>100-150</td>\n",
       "    </tr>\n",
       "    <tr>\n",
       "      <th>11316</th>\n",
       "      <td>R11312</td>\n",
       "      <td>18</td>\n",
       "      <td>F</td>\n",
       "      <td>Urban</td>\n",
       "      <td>Student</td>\n",
       "      <td>NaN</td>\n",
       "      <td>0-2 times</td>\n",
       "      <td>Newcomer</td>\n",
       "      <td>Medium (500 ml)</td>\n",
       "      <td>2 to 4</td>\n",
       "      <td>Availability</td>\n",
       "      <td>Exotic</td>\n",
       "      <td>Online</td>\n",
       "      <td>Premium</td>\n",
       "      <td>Medium (Moderately health-conscious)</td>\n",
       "      <td>Social (eg. Parties)</td>\n",
       "      <td>100-150</td>\n",
       "    </tr>\n",
       "    <tr>\n",
       "      <th>11317</th>\n",
       "      <td>R11312</td>\n",
       "      <td>18</td>\n",
       "      <td>F</td>\n",
       "      <td>Urban</td>\n",
       "      <td>Student</td>\n",
       "      <td>NaN</td>\n",
       "      <td>0-2 times</td>\n",
       "      <td>Newcomer</td>\n",
       "      <td>Medium (500 ml)</td>\n",
       "      <td>2 to 4</td>\n",
       "      <td>Availability</td>\n",
       "      <td>Exotic</td>\n",
       "      <td>Online</td>\n",
       "      <td>Premium</td>\n",
       "      <td>Medium (Moderately health-conscious)</td>\n",
       "      <td>Social (eg. Parties)</td>\n",
       "      <td>100-150</td>\n",
       "    </tr>\n",
       "    <tr>\n",
       "      <th>19049</th>\n",
       "      <td>R19044</td>\n",
       "      <td>57</td>\n",
       "      <td>M</td>\n",
       "      <td>Semi-Urban</td>\n",
       "      <td>Retired</td>\n",
       "      <td>&lt;10L</td>\n",
       "      <td>3-4 times</td>\n",
       "      <td>Newcomer</td>\n",
       "      <td>Large (1 L)</td>\n",
       "      <td>2 to 4</td>\n",
       "      <td>Price</td>\n",
       "      <td>Traditional</td>\n",
       "      <td>Retail Store</td>\n",
       "      <td>Premium</td>\n",
       "      <td>High (Very health-conscious)</td>\n",
       "      <td>Social (eg. Parties)</td>\n",
       "      <td>150-200</td>\n",
       "    </tr>\n",
       "    <tr>\n",
       "      <th>19050</th>\n",
       "      <td>R19044</td>\n",
       "      <td>57</td>\n",
       "      <td>M</td>\n",
       "      <td>Semi-Urban</td>\n",
       "      <td>Retired</td>\n",
       "      <td>&lt;10L</td>\n",
       "      <td>3-4 times</td>\n",
       "      <td>Newcomer</td>\n",
       "      <td>Large (1 L)</td>\n",
       "      <td>2 to 4</td>\n",
       "      <td>Price</td>\n",
       "      <td>Traditional</td>\n",
       "      <td>Retail Store</td>\n",
       "      <td>Premium</td>\n",
       "      <td>High (Very health-conscious)</td>\n",
       "      <td>Social (eg. Parties)</td>\n",
       "      <td>150-200</td>\n",
       "    </tr>\n",
       "    <tr>\n",
       "      <th>22411</th>\n",
       "      <td>R22405</td>\n",
       "      <td>26</td>\n",
       "      <td>M</td>\n",
       "      <td>Metro</td>\n",
       "      <td>Working Professional</td>\n",
       "      <td>16L - 25L</td>\n",
       "      <td>0-2 times</td>\n",
       "      <td>Newcomer</td>\n",
       "      <td>Small (250 ml)</td>\n",
       "      <td>0 to 1</td>\n",
       "      <td>Price</td>\n",
       "      <td>Exotic</td>\n",
       "      <td>Online</td>\n",
       "      <td>Premium</td>\n",
       "      <td>Low (Not very concerned)</td>\n",
       "      <td>Active (eg. Sports, gym)</td>\n",
       "      <td>150-200</td>\n",
       "    </tr>\n",
       "    <tr>\n",
       "      <th>22412</th>\n",
       "      <td>R22405</td>\n",
       "      <td>26</td>\n",
       "      <td>M</td>\n",
       "      <td>Metro</td>\n",
       "      <td>Working Professional</td>\n",
       "      <td>16L - 25L</td>\n",
       "      <td>0-2 times</td>\n",
       "      <td>Newcomer</td>\n",
       "      <td>Small (250 ml)</td>\n",
       "      <td>0 to 1</td>\n",
       "      <td>Price</td>\n",
       "      <td>Exotic</td>\n",
       "      <td>Online</td>\n",
       "      <td>Premium</td>\n",
       "      <td>Low (Not very concerned)</td>\n",
       "      <td>Active (eg. Sports, gym)</td>\n",
       "      <td>150-200</td>\n",
       "    </tr>\n",
       "    <tr>\n",
       "      <th>23405</th>\n",
       "      <td>R23398</td>\n",
       "      <td>27</td>\n",
       "      <td>M</td>\n",
       "      <td>Urban</td>\n",
       "      <td>Working Professional</td>\n",
       "      <td>10L - 15L</td>\n",
       "      <td>5-7 times</td>\n",
       "      <td>Newcomer</td>\n",
       "      <td>Large (1 L)</td>\n",
       "      <td>above 4</td>\n",
       "      <td>Availability</td>\n",
       "      <td>Traditional</td>\n",
       "      <td>Online</td>\n",
       "      <td>Premium</td>\n",
       "      <td>High (Very health-conscious)</td>\n",
       "      <td>Casual (eg. At home)</td>\n",
       "      <td>200-250</td>\n",
       "    </tr>\n",
       "    <tr>\n",
       "      <th>23406</th>\n",
       "      <td>R23398</td>\n",
       "      <td>27</td>\n",
       "      <td>M</td>\n",
       "      <td>Urban</td>\n",
       "      <td>Working Professional</td>\n",
       "      <td>10L - 15L</td>\n",
       "      <td>5-7 times</td>\n",
       "      <td>Newcomer</td>\n",
       "      <td>Large (1 L)</td>\n",
       "      <td>above 4</td>\n",
       "      <td>Availability</td>\n",
       "      <td>Traditional</td>\n",
       "      <td>Online</td>\n",
       "      <td>Premium</td>\n",
       "      <td>High (Very health-conscious)</td>\n",
       "      <td>Casual (eg. At home)</td>\n",
       "      <td>200-250</td>\n",
       "    </tr>\n",
       "    <tr>\n",
       "      <th>25067</th>\n",
       "      <td>R25059</td>\n",
       "      <td>34</td>\n",
       "      <td>F</td>\n",
       "      <td>Urban</td>\n",
       "      <td>Working Professional</td>\n",
       "      <td>16L - 25L</td>\n",
       "      <td>0-2 times</td>\n",
       "      <td>Newcomer</td>\n",
       "      <td>Small (250 ml)</td>\n",
       "      <td>2 to 4</td>\n",
       "      <td>Brand Reputation</td>\n",
       "      <td>Exotic</td>\n",
       "      <td>Online</td>\n",
       "      <td>Eco-Friendly</td>\n",
       "      <td>High (Very health-conscious)</td>\n",
       "      <td>Active (eg. Sports, gym)</td>\n",
       "      <td>150-200</td>\n",
       "    </tr>\n",
       "    <tr>\n",
       "      <th>25068</th>\n",
       "      <td>R25059</td>\n",
       "      <td>34</td>\n",
       "      <td>F</td>\n",
       "      <td>Urban</td>\n",
       "      <td>Working Professional</td>\n",
       "      <td>16L - 25L</td>\n",
       "      <td>0-2 times</td>\n",
       "      <td>Newcomer</td>\n",
       "      <td>Small (250 ml)</td>\n",
       "      <td>2 to 4</td>\n",
       "      <td>Brand Reputation</td>\n",
       "      <td>Exotic</td>\n",
       "      <td>Online</td>\n",
       "      <td>Eco-Friendly</td>\n",
       "      <td>High (Very health-conscious)</td>\n",
       "      <td>Active (eg. Sports, gym)</td>\n",
       "      <td>150-200</td>\n",
       "    </tr>\n",
       "  </tbody>\n",
       "</table>\n",
       "</div>"
      ],
      "text/plain": [
       "      respondent_id  age gender        zone            occupation  \\\n",
       "2308         R02309   27      M       Urban  Working Professional   \n",
       "2309         R02309   27      M       Urban  Working Professional   \n",
       "2665         R02665   61      M       Metro          Entrepreneur   \n",
       "2666         R02665   61      M       Metro          Entrepreneur   \n",
       "5150         R05149   21      M  Semi-Urban               Student   \n",
       "5151         R05149   21      M  Semi-Urban               Student   \n",
       "7793         R07791   25      M       Metro  Working Professional   \n",
       "7794         R07791   25      M       Metro  Working Professional   \n",
       "8515         R08512   20      F       Metro               Student   \n",
       "8516         R08512   20      F       Metro               Student   \n",
       "11316        R11312   18      F       Urban               Student   \n",
       "11317        R11312   18      F       Urban               Student   \n",
       "19049        R19044   57      M  Semi-Urban               Retired   \n",
       "19050        R19044   57      M  Semi-Urban               Retired   \n",
       "22411        R22405   26      M       Metro  Working Professional   \n",
       "22412        R22405   26      M       Metro  Working Professional   \n",
       "23405        R23398   27      M       Urban  Working Professional   \n",
       "23406        R23398   27      M       Urban  Working Professional   \n",
       "25067        R25059   34      F       Urban  Working Professional   \n",
       "25068        R25059   34      F       Urban  Working Professional   \n",
       "\n",
       "      income_levels consume_frequency(weekly) current_brand  \\\n",
       "2308      16L - 25L                 3-4 times      Newcomer   \n",
       "2309      16L - 25L                 3-4 times      Newcomer   \n",
       "2665      16L - 25L                 3-4 times   Established   \n",
       "2666      16L - 25L                 3-4 times   Established   \n",
       "5150            NaN                 3-4 times   Established   \n",
       "5151            NaN                 3-4 times   Established   \n",
       "7793           <10L                 3-4 times      Newcomer   \n",
       "7794           <10L                 3-4 times      Newcomer   \n",
       "8515            NaN                 5-7 times   Established   \n",
       "8516            NaN                 5-7 times   Established   \n",
       "11316           NaN                 0-2 times      Newcomer   \n",
       "11317           NaN                 0-2 times      Newcomer   \n",
       "19049          <10L                 3-4 times      Newcomer   \n",
       "19050          <10L                 3-4 times      Newcomer   \n",
       "22411     16L - 25L                 0-2 times      Newcomer   \n",
       "22412     16L - 25L                 0-2 times      Newcomer   \n",
       "23405     10L - 15L                 5-7 times      Newcomer   \n",
       "23406     10L - 15L                 5-7 times      Newcomer   \n",
       "25067     16L - 25L                 0-2 times      Newcomer   \n",
       "25068     16L - 25L                 0-2 times      Newcomer   \n",
       "\n",
       "      preferable_consumption_size awareness_of_other_brands  \\\n",
       "2308               Small (250 ml)                    2 to 4   \n",
       "2309               Small (250 ml)                    2 to 4   \n",
       "2665              Medium (500 ml)                   above 4   \n",
       "2666              Medium (500 ml)                   above 4   \n",
       "5150               Small (250 ml)                    2 to 4   \n",
       "5151               Small (250 ml)                    2 to 4   \n",
       "7793              Medium (500 ml)                    2 to 4   \n",
       "7794              Medium (500 ml)                    2 to 4   \n",
       "8515                  Large (1 L)                    0 to 1   \n",
       "8516                  Large (1 L)                    0 to 1   \n",
       "11316             Medium (500 ml)                    2 to 4   \n",
       "11317             Medium (500 ml)                    2 to 4   \n",
       "19049                 Large (1 L)                    2 to 4   \n",
       "19050                 Large (1 L)                    2 to 4   \n",
       "22411              Small (250 ml)                    0 to 1   \n",
       "22412              Small (250 ml)                    0 to 1   \n",
       "23405                 Large (1 L)                   above 4   \n",
       "23406                 Large (1 L)                   above 4   \n",
       "25067              Small (250 ml)                    2 to 4   \n",
       "25068              Small (250 ml)                    2 to 4   \n",
       "\n",
       "      reasons_for_choosing_brands flavor_preference purchase_channel  \\\n",
       "2308             Brand Reputation       Traditional           Online   \n",
       "2309             Brand Reputation       Traditional           Online   \n",
       "2665             Brand Reputation            Exotic     Retail Store   \n",
       "2666             Brand Reputation            Exotic     Retail Store   \n",
       "5150                 Availability       Traditional     Retail Store   \n",
       "5151                 Availability       Traditional     Retail Store   \n",
       "7793                 Availability            Exotic           Online   \n",
       "7794                 Availability            Exotic           Online   \n",
       "8515                        Price            Exotic           Online   \n",
       "8516                        Price            Exotic           Online   \n",
       "11316                Availability            Exotic           Online   \n",
       "11317                Availability            Exotic           Online   \n",
       "19049                       Price       Traditional     Retail Store   \n",
       "19050                       Price       Traditional     Retail Store   \n",
       "22411                       Price            Exotic           Online   \n",
       "22412                       Price            Exotic           Online   \n",
       "23405                Availability       Traditional           Online   \n",
       "23406                Availability       Traditional           Online   \n",
       "25067            Brand Reputation            Exotic           Online   \n",
       "25068            Brand Reputation            Exotic           Online   \n",
       "\n",
       "      packaging_preference                       health_concerns  \\\n",
       "2308                Simple  Medium (Moderately health-conscious)   \n",
       "2309                Simple  Medium (Moderately health-conscious)   \n",
       "2665                Simple          High (Very health-conscious)   \n",
       "2666                Simple          High (Very health-conscious)   \n",
       "5150                Simple              Low (Not very concerned)   \n",
       "5151                Simple              Low (Not very concerned)   \n",
       "7793                Simple  Medium (Moderately health-conscious)   \n",
       "7794                Simple  Medium (Moderately health-conscious)   \n",
       "8515                Simple  Medium (Moderately health-conscious)   \n",
       "8516                Simple  Medium (Moderately health-conscious)   \n",
       "11316              Premium  Medium (Moderately health-conscious)   \n",
       "11317              Premium  Medium (Moderately health-conscious)   \n",
       "19049              Premium          High (Very health-conscious)   \n",
       "19050              Premium          High (Very health-conscious)   \n",
       "22411              Premium              Low (Not very concerned)   \n",
       "22412              Premium              Low (Not very concerned)   \n",
       "23405              Premium          High (Very health-conscious)   \n",
       "23406              Premium          High (Very health-conscious)   \n",
       "25067         Eco-Friendly          High (Very health-conscious)   \n",
       "25068         Eco-Friendly          High (Very health-conscious)   \n",
       "\n",
       "      typical_consumption_situations price_range  \n",
       "2308            Social (eg. Parties)     150-200  \n",
       "2309            Social (eg. Parties)     150-200  \n",
       "2665        Active (eg. Sports, gym)     200-250  \n",
       "2666        Active (eg. Sports, gym)     200-250  \n",
       "5150        Active (eg. Sports, gym)      50-100  \n",
       "5151        Active (eg. Sports, gym)      50-100  \n",
       "7793            Casual (eg. At home)     100-150  \n",
       "7794            Casual (eg. At home)     100-150  \n",
       "8515            Casual (eg. At home)     100-150  \n",
       "8516            Casual (eg. At home)     100-150  \n",
       "11316           Social (eg. Parties)     100-150  \n",
       "11317           Social (eg. Parties)     100-150  \n",
       "19049           Social (eg. Parties)     150-200  \n",
       "19050           Social (eg. Parties)     150-200  \n",
       "22411       Active (eg. Sports, gym)     150-200  \n",
       "22412       Active (eg. Sports, gym)     150-200  \n",
       "23405           Casual (eg. At home)     200-250  \n",
       "23406           Casual (eg. At home)     200-250  \n",
       "25067       Active (eg. Sports, gym)     150-200  \n",
       "25068       Active (eg. Sports, gym)     150-200  "
      ]
     },
     "execution_count": 5,
     "metadata": {},
     "output_type": "execute_result"
    }
   ],
   "source": [
    "# List the original & duplicated rows \n",
    "df[df.duplicated(keep=False)]"
   ]
  },
  {
   "cell_type": "code",
   "execution_count": 6,
   "id": "22ab56b8-2e9c-4b8c-88a3-06c76cae5cf3",
   "metadata": {},
   "outputs": [
    {
     "data": {
      "text/html": [
       "<div>\n",
       "<style scoped>\n",
       "    .dataframe tbody tr th:only-of-type {\n",
       "        vertical-align: middle;\n",
       "    }\n",
       "\n",
       "    .dataframe tbody tr th {\n",
       "        vertical-align: top;\n",
       "    }\n",
       "\n",
       "    .dataframe thead th {\n",
       "        text-align: right;\n",
       "    }\n",
       "</style>\n",
       "<table border=\"1\" class=\"dataframe\">\n",
       "  <thead>\n",
       "    <tr style=\"text-align: right;\">\n",
       "      <th></th>\n",
       "      <th>respondent_id</th>\n",
       "      <th>age</th>\n",
       "      <th>gender</th>\n",
       "      <th>zone</th>\n",
       "      <th>occupation</th>\n",
       "      <th>income_levels</th>\n",
       "      <th>consume_frequency(weekly)</th>\n",
       "      <th>current_brand</th>\n",
       "      <th>preferable_consumption_size</th>\n",
       "      <th>awareness_of_other_brands</th>\n",
       "      <th>reasons_for_choosing_brands</th>\n",
       "      <th>flavor_preference</th>\n",
       "      <th>purchase_channel</th>\n",
       "      <th>packaging_preference</th>\n",
       "      <th>health_concerns</th>\n",
       "      <th>typical_consumption_situations</th>\n",
       "      <th>price_range</th>\n",
       "    </tr>\n",
       "  </thead>\n",
       "  <tbody>\n",
       "    <tr>\n",
       "      <th>2308</th>\n",
       "      <td>R02309</td>\n",
       "      <td>27</td>\n",
       "      <td>M</td>\n",
       "      <td>Urban</td>\n",
       "      <td>Working Professional</td>\n",
       "      <td>16L - 25L</td>\n",
       "      <td>3-4 times</td>\n",
       "      <td>Newcomer</td>\n",
       "      <td>Small (250 ml)</td>\n",
       "      <td>2 to 4</td>\n",
       "      <td>Brand Reputation</td>\n",
       "      <td>Traditional</td>\n",
       "      <td>Online</td>\n",
       "      <td>Simple</td>\n",
       "      <td>Medium (Moderately health-conscious)</td>\n",
       "      <td>Social (eg. Parties)</td>\n",
       "      <td>150-200</td>\n",
       "    </tr>\n",
       "    <tr>\n",
       "      <th>2309</th>\n",
       "      <td>R02309</td>\n",
       "      <td>27</td>\n",
       "      <td>M</td>\n",
       "      <td>Urban</td>\n",
       "      <td>Working Professional</td>\n",
       "      <td>16L - 25L</td>\n",
       "      <td>3-4 times</td>\n",
       "      <td>Newcomer</td>\n",
       "      <td>Small (250 ml)</td>\n",
       "      <td>2 to 4</td>\n",
       "      <td>Brand Reputation</td>\n",
       "      <td>Traditional</td>\n",
       "      <td>Online</td>\n",
       "      <td>Simple</td>\n",
       "      <td>Medium (Moderately health-conscious)</td>\n",
       "      <td>Social (eg. Parties)</td>\n",
       "      <td>150-200</td>\n",
       "    </tr>\n",
       "  </tbody>\n",
       "</table>\n",
       "</div>"
      ],
      "text/plain": [
       "     respondent_id  age gender   zone            occupation income_levels  \\\n",
       "2308        R02309   27      M  Urban  Working Professional     16L - 25L   \n",
       "2309        R02309   27      M  Urban  Working Professional     16L - 25L   \n",
       "\n",
       "     consume_frequency(weekly) current_brand preferable_consumption_size  \\\n",
       "2308                 3-4 times      Newcomer              Small (250 ml)   \n",
       "2309                 3-4 times      Newcomer              Small (250 ml)   \n",
       "\n",
       "     awareness_of_other_brands reasons_for_choosing_brands flavor_preference  \\\n",
       "2308                    2 to 4            Brand Reputation       Traditional   \n",
       "2309                    2 to 4            Brand Reputation       Traditional   \n",
       "\n",
       "     purchase_channel packaging_preference  \\\n",
       "2308           Online               Simple   \n",
       "2309           Online               Simple   \n",
       "\n",
       "                           health_concerns typical_consumption_situations  \\\n",
       "2308  Medium (Moderately health-conscious)           Social (eg. Parties)   \n",
       "2309  Medium (Moderately health-conscious)           Social (eg. Parties)   \n",
       "\n",
       "     price_range  \n",
       "2308     150-200  \n",
       "2309     150-200  "
      ]
     },
     "execution_count": 6,
     "metadata": {},
     "output_type": "execute_result"
    }
   ],
   "source": [
    "df.iloc[[2308,2309]]"
   ]
  },
  {
   "cell_type": "code",
   "execution_count": 7,
   "id": "d98e5d72-c551-4a53-a34a-30906c3772f9",
   "metadata": {},
   "outputs": [
    {
     "data": {
      "text/html": [
       "<div>\n",
       "<style scoped>\n",
       "    .dataframe tbody tr th:only-of-type {\n",
       "        vertical-align: middle;\n",
       "    }\n",
       "\n",
       "    .dataframe tbody tr th {\n",
       "        vertical-align: top;\n",
       "    }\n",
       "\n",
       "    .dataframe thead th {\n",
       "        text-align: right;\n",
       "    }\n",
       "</style>\n",
       "<table border=\"1\" class=\"dataframe\">\n",
       "  <thead>\n",
       "    <tr style=\"text-align: right;\">\n",
       "      <th></th>\n",
       "      <th>respondent_id</th>\n",
       "      <th>age</th>\n",
       "      <th>gender</th>\n",
       "      <th>zone</th>\n",
       "      <th>occupation</th>\n",
       "      <th>income_levels</th>\n",
       "      <th>consume_frequency(weekly)</th>\n",
       "      <th>current_brand</th>\n",
       "      <th>preferable_consumption_size</th>\n",
       "      <th>awareness_of_other_brands</th>\n",
       "      <th>reasons_for_choosing_brands</th>\n",
       "      <th>flavor_preference</th>\n",
       "      <th>purchase_channel</th>\n",
       "      <th>packaging_preference</th>\n",
       "      <th>health_concerns</th>\n",
       "      <th>typical_consumption_situations</th>\n",
       "      <th>price_range</th>\n",
       "    </tr>\n",
       "  </thead>\n",
       "  <tbody>\n",
       "    <tr>\n",
       "      <th>0</th>\n",
       "      <td>R00001</td>\n",
       "      <td>30</td>\n",
       "      <td>M</td>\n",
       "      <td>Urban</td>\n",
       "      <td>Working Professional</td>\n",
       "      <td>&lt;10L</td>\n",
       "      <td>3-4 times</td>\n",
       "      <td>Newcomer</td>\n",
       "      <td>Medium (500 ml)</td>\n",
       "      <td>0 to 1</td>\n",
       "      <td>Price</td>\n",
       "      <td>Traditional</td>\n",
       "      <td>Online</td>\n",
       "      <td>Simple</td>\n",
       "      <td>Medium (Moderately health-conscious)</td>\n",
       "      <td>Active (eg. Sports, gym)</td>\n",
       "      <td>100-150</td>\n",
       "    </tr>\n",
       "    <tr>\n",
       "      <th>1</th>\n",
       "      <td>R00002</td>\n",
       "      <td>46</td>\n",
       "      <td>F</td>\n",
       "      <td>Metro</td>\n",
       "      <td>Working Professional</td>\n",
       "      <td>&gt; 35L</td>\n",
       "      <td>5-7 times</td>\n",
       "      <td>Established</td>\n",
       "      <td>Medium (500 ml)</td>\n",
       "      <td>2 to 4</td>\n",
       "      <td>Quality</td>\n",
       "      <td>Exotic</td>\n",
       "      <td>Retail Store</td>\n",
       "      <td>Premium</td>\n",
       "      <td>Medium (Moderately health-conscious)</td>\n",
       "      <td>Social (eg. Parties)</td>\n",
       "      <td>200-250</td>\n",
       "    </tr>\n",
       "    <tr>\n",
       "      <th>2</th>\n",
       "      <td>R00003</td>\n",
       "      <td>41</td>\n",
       "      <td>F</td>\n",
       "      <td>Rural</td>\n",
       "      <td>Working Professional</td>\n",
       "      <td>&gt; 35L</td>\n",
       "      <td>3-4 times</td>\n",
       "      <td>Newcomer</td>\n",
       "      <td>Medium (500 ml)</td>\n",
       "      <td>2 to 4</td>\n",
       "      <td>Availability</td>\n",
       "      <td>Traditional</td>\n",
       "      <td>Retail Store</td>\n",
       "      <td>Premium</td>\n",
       "      <td>Medium (Moderately health-conscious)</td>\n",
       "      <td>Active (eg. Sports, gym)</td>\n",
       "      <td>200-250</td>\n",
       "    </tr>\n",
       "    <tr>\n",
       "      <th>3</th>\n",
       "      <td>R00004</td>\n",
       "      <td>33</td>\n",
       "      <td>F</td>\n",
       "      <td>Urban</td>\n",
       "      <td>Working Professional</td>\n",
       "      <td>16L - 25L</td>\n",
       "      <td>5-7 times</td>\n",
       "      <td>Newcomer</td>\n",
       "      <td>Medium (500 ml)</td>\n",
       "      <td>0 to 1</td>\n",
       "      <td>Brand Reputation</td>\n",
       "      <td>Exotic</td>\n",
       "      <td>Online</td>\n",
       "      <td>Eco-Friendly</td>\n",
       "      <td>Low (Not very concerned)</td>\n",
       "      <td>Active (eg. Sports, gym)</td>\n",
       "      <td>150-200</td>\n",
       "    </tr>\n",
       "    <tr>\n",
       "      <th>4</th>\n",
       "      <td>R00005</td>\n",
       "      <td>23</td>\n",
       "      <td>M</td>\n",
       "      <td>Metro</td>\n",
       "      <td>Student</td>\n",
       "      <td>NaN</td>\n",
       "      <td>3-4 times</td>\n",
       "      <td>Established</td>\n",
       "      <td>Medium (500 ml)</td>\n",
       "      <td>0 to 1</td>\n",
       "      <td>Availability</td>\n",
       "      <td>Traditional</td>\n",
       "      <td>Online</td>\n",
       "      <td>Premium</td>\n",
       "      <td>Medium (Moderately health-conscious)</td>\n",
       "      <td>Active (eg. Sports, gym)</td>\n",
       "      <td>50-100</td>\n",
       "    </tr>\n",
       "  </tbody>\n",
       "</table>\n",
       "</div>"
      ],
      "text/plain": [
       "  respondent_id  age gender   zone            occupation income_levels  \\\n",
       "0        R00001   30      M  Urban  Working Professional          <10L   \n",
       "1        R00002   46      F  Metro  Working Professional         > 35L   \n",
       "2        R00003   41      F  Rural  Working Professional         > 35L   \n",
       "3        R00004   33      F  Urban  Working Professional     16L - 25L   \n",
       "4        R00005   23      M  Metro               Student           NaN   \n",
       "\n",
       "  consume_frequency(weekly) current_brand preferable_consumption_size  \\\n",
       "0                 3-4 times      Newcomer             Medium (500 ml)   \n",
       "1                 5-7 times   Established             Medium (500 ml)   \n",
       "2                 3-4 times      Newcomer             Medium (500 ml)   \n",
       "3                 5-7 times      Newcomer             Medium (500 ml)   \n",
       "4                 3-4 times   Established             Medium (500 ml)   \n",
       "\n",
       "  awareness_of_other_brands reasons_for_choosing_brands flavor_preference  \\\n",
       "0                    0 to 1                       Price       Traditional   \n",
       "1                    2 to 4                     Quality            Exotic   \n",
       "2                    2 to 4                Availability       Traditional   \n",
       "3                    0 to 1            Brand Reputation            Exotic   \n",
       "4                    0 to 1                Availability       Traditional   \n",
       "\n",
       "  purchase_channel packaging_preference                       health_concerns  \\\n",
       "0           Online               Simple  Medium (Moderately health-conscious)   \n",
       "1     Retail Store              Premium  Medium (Moderately health-conscious)   \n",
       "2     Retail Store              Premium  Medium (Moderately health-conscious)   \n",
       "3           Online         Eco-Friendly              Low (Not very concerned)   \n",
       "4           Online              Premium  Medium (Moderately health-conscious)   \n",
       "\n",
       "  typical_consumption_situations price_range  \n",
       "0       Active (eg. Sports, gym)     100-150  \n",
       "1           Social (eg. Parties)     200-250  \n",
       "2       Active (eg. Sports, gym)     200-250  \n",
       "3       Active (eg. Sports, gym)     150-200  \n",
       "4       Active (eg. Sports, gym)      50-100  "
      ]
     },
     "execution_count": 7,
     "metadata": {},
     "output_type": "execute_result"
    }
   ],
   "source": [
    "df1=df.copy()\n",
    "df1.drop_duplicates(inplace=True)\n",
    "df1.head()"
   ]
  },
  {
   "cell_type": "code",
   "execution_count": 8,
   "id": "35a2f0c7-9b4b-4472-a179-88c59e680d26",
   "metadata": {},
   "outputs": [
    {
     "data": {
      "text/plain": [
       "(30000, 17)"
      ]
     },
     "execution_count": 8,
     "metadata": {},
     "output_type": "execute_result"
    }
   ],
   "source": [
    "# shape of the dataframe after doppped duplicate rows\n",
    "df1.shape"
   ]
  },
  {
   "cell_type": "markdown",
   "id": "d6713aa9-fe9d-4b13-866b-14ce6b29c152",
   "metadata": {},
   "source": [
    "**Duplicate record might affect the outcome of the model in the following areas/ Key Performance Indicators**\n",
    "- The model won't generalize well to other customer types (overfit).\n",
    "- Duplicates ➔ Biased learning ➔ Overfitting ➔ Wrong predictions ➔ Misleading KPIs.(Key Performance Indicators)\n",
    "- Always detect and handle duplicates carefully before building machine learning models."
   ]
  },
  {
   "cell_type": "code",
   "execution_count": null,
   "id": "9af1415b",
   "metadata": {},
   "outputs": [],
   "source": []
  },
  {
   "cell_type": "markdown",
   "id": "1f5391d3-b566-4dd3-a93e-9a0dc36d66fe",
   "metadata": {},
   "source": [
    "**Step2: Outlier Detection in Age:**\n",
    "- Explore the 'age' columns to spot potential outliers. You can use statistical methods or visualizations (e.g: box_plots) to help identify these. Reflect\n",
    "on why it's important to handle theser outliers. Based on your findings, decide whether to keep, adjust, or remove them. "
   ]
  },
  {
   "cell_type": "code",
   "execution_count": 9,
   "id": "fb9b539f-efab-459f-8fa8-1bd461be4406",
   "metadata": {},
   "outputs": [
    {
     "data": {
      "text/plain": [
       "count    30000.000000\n",
       "mean        33.048167\n",
       "std         13.438904\n",
       "min         18.000000\n",
       "25%         23.000000\n",
       "50%         31.000000\n",
       "75%         40.000000\n",
       "max        604.000000\n",
       "Name: age, dtype: float64"
      ]
     },
     "execution_count": 9,
     "metadata": {},
     "output_type": "execute_result"
    }
   ],
   "source": [
    "# **2.Outlier Detection in Age** \n",
    "# 🔎 2.1 Explore Basic Statistics\n",
    "# Get summary statistics \n",
    "# To check min, max, mean, quartiles / quantiles\n",
    "df1['age'].describe()"
   ]
  },
  {
   "cell_type": "code",
   "execution_count": 10,
   "id": "518fa454-0b38-4530-a61c-febb03cc1083",
   "metadata": {},
   "outputs": [],
   "source": [
    "# Gaussian/normal Distribution, But the mean+3*std gives age 73 years, But human age can be upto 100 years or some can live upto 120 years. This method is not to filter outliers rows\n",
    "mean=df1['age'].mean()\n",
    "median=df1['age'].median()\n",
    "mode=df1['age'].mode()[0]\n",
    "std=df1['age'].std()"
   ]
  },
  {
   "cell_type": "code",
   "execution_count": 11,
   "id": "9f132817-0701-4fbf-80d0-c02b21fe6968",
   "metadata": {},
   "outputs": [
    {
     "data": {
      "text/plain": [
       "73.36487785433714"
      ]
     },
     "execution_count": 11,
     "metadata": {},
     "output_type": "execute_result"
    }
   ],
   "source": [
    "mean+3*std"
   ]
  },
  {
   "cell_type": "code",
   "execution_count": 12,
   "id": "6030a6c7-8c36-4b8a-99d2-908f2fa234ee",
   "metadata": {},
   "outputs": [
    {
     "name": "stdout",
     "output_type": "stream",
     "text": [
      "<class 'pandas.core.frame.DataFrame'>\n",
      "Index: 30000 entries, 0 to 30009\n",
      "Data columns (total 17 columns):\n",
      " #   Column                          Non-Null Count  Dtype \n",
      "---  ------                          --------------  ----- \n",
      " 0   respondent_id                   30000 non-null  object\n",
      " 1   age                             30000 non-null  int64 \n",
      " 2   gender                          30000 non-null  object\n",
      " 3   zone                            30000 non-null  object\n",
      " 4   occupation                      30000 non-null  object\n",
      " 5   income_levels                   21939 non-null  object\n",
      " 6   consume_frequency(weekly)       29992 non-null  object\n",
      " 7   current_brand                   30000 non-null  object\n",
      " 8   preferable_consumption_size     30000 non-null  object\n",
      " 9   awareness_of_other_brands       30000 non-null  object\n",
      " 10  reasons_for_choosing_brands     30000 non-null  object\n",
      " 11  flavor_preference               30000 non-null  object\n",
      " 12  purchase_channel                29990 non-null  object\n",
      " 13  packaging_preference            30000 non-null  object\n",
      " 14  health_concerns                 30000 non-null  object\n",
      " 15  typical_consumption_situations  30000 non-null  object\n",
      " 16  price_range                     30000 non-null  object\n",
      "dtypes: int64(1), object(16)\n",
      "memory usage: 4.1+ MB\n"
     ]
    }
   ],
   "source": [
    "df1.info()"
   ]
  },
  {
   "cell_type": "markdown",
   "id": "e9e4e82d-99ff-42f8-87f0-a3c5989a88b2",
   "metadata": {},
   "source": [
    "<img src=\"./src_files/KPI cheat sheet.png\">"
   ]
  },
  {
   "cell_type": "code",
   "execution_count": 13,
   "id": "f6e30629-a34a-42da-9d44-afc8f153237e",
   "metadata": {},
   "outputs": [
    {
     "data": {
      "image/png": "[encoded data removed]",
      "text/plain": [
       "<Figure size 1000x400 with 1 Axes>"
      ]
     },
     "metadata": {},
     "output_type": "display_data"
    }
   ],
   "source": [
    "# Visualization method to identify outliers\n",
    "\n",
    "import matplotlib.pyplot as plt\n",
    "import seaborn as sns \n",
    "\n",
    "# Check for outliers in 'age'\n",
    "plt.figure(figsize=(10,4))\n",
    "sns.boxplot(x=df1['age'])\n",
    "plt.title(\"Age Distribution (Boxplot)\")\n",
    "plt.show()"
   ]
  },
  {
   "cell_type": "code",
   "execution_count": 14,
   "id": "985f37bc-96e1-4432-b7b9-b4216e061147",
   "metadata": {},
   "outputs": [
    {
     "name": "stdout",
     "output_type": "stream",
     "text": [
      "upper_bound=65.5years\n",
      "upper_bound filters outliers age, rows of age above 65.5 years. But this is not an acceptable outlier age\n",
      "No. of outliers in age: 493 rows out of 30000 rows\n"
     ]
    }
   ],
   "source": [
    "# Find statistical outliers using IQR\n",
    "Q1 = df1['age'].quantile(0.25)\n",
    "Q3 = df1['age'].quantile(0.75)\n",
    "IQR = Q3-Q1 \n",
    "lower_bound = Q1-1.5*IQR  # We use 1.5*IQR regularly \n",
    "upper_bound = Q3+1.5*IQR \n",
    "(lower_bound, upper_bound)\n",
    "\n",
    "print(f\"upper_bound={upper_bound}years\")\n",
    "print(f\"upper_bound filters outliers age, rows of age above 65.5 years. But this is not an acceptable outlier age\")\n",
    "outliers = df1[(df1['age']<lower_bound) | (df1['age']>upper_bound)]\n",
    "print(f\"No. of outliers in age: {outliers.shape[0]} rows out of {df1.shape[0]} rows\")\n"
   ]
  },
  {
   "cell_type": "code",
   "execution_count": 15,
   "id": "cfb3ea06-eb7a-48be-871f-bfc5749fb55b",
   "metadata": {},
   "outputs": [
    {
     "data": {
      "text/plain": [
       "108.0"
      ]
     },
     "execution_count": 15,
     "metadata": {},
     "output_type": "execute_result"
    }
   ],
   "source": [
    "Q3+4*IQR"
   ]
  },
  {
   "cell_type": "code",
   "execution_count": 16,
   "id": "6b6e94c3-cbaf-4bb5-9565-fdebcce7d6cf",
   "metadata": {},
   "outputs": [
    {
     "data": {
      "text/plain": [
       "8"
      ]
     },
     "execution_count": 16,
     "metadata": {},
     "output_type": "execute_result"
    }
   ],
   "source": [
    "# No. of outliers of 'age' column (above Q3+4*IQR= 108 years)\n",
    "df1[df1['age']>(Q3+4*IQR)].value_counts().sum()"
   ]
  },
  {
   "cell_type": "code",
   "execution_count": 17,
   "id": "a0476ddc-7574-4340-8783-5030bee48abe",
   "metadata": {},
   "outputs": [
    {
     "data": {
      "text/plain": [
       "9"
      ]
     },
     "execution_count": 17,
     "metadata": {},
     "output_type": "execute_result"
    }
   ],
   "source": [
    "# No. of outliers of 'age' column (above (Q3+4*IQR = 108 years)\n",
    "df1[df1['age']>(Q3+4*IQR)].shape[0]                    # Counts number of rows where age is an outlier"
   ]
  },
  {
   "cell_type": "code",
   "execution_count": 18,
   "id": "06e0d194-7675-42a6-ab14-b54819af4f2e",
   "metadata": {},
   "outputs": [
    {
     "data": {
      "text/html": [
       "<div>\n",
       "<style scoped>\n",
       "    .dataframe tbody tr th:only-of-type {\n",
       "        vertical-align: middle;\n",
       "    }\n",
       "\n",
       "    .dataframe tbody tr th {\n",
       "        vertical-align: top;\n",
       "    }\n",
       "\n",
       "    .dataframe thead th {\n",
       "        text-align: right;\n",
       "    }\n",
       "</style>\n",
       "<table border=\"1\" class=\"dataframe\">\n",
       "  <thead>\n",
       "    <tr style=\"text-align: right;\">\n",
       "      <th></th>\n",
       "      <th>respondent_id</th>\n",
       "      <th>age</th>\n",
       "      <th>gender</th>\n",
       "      <th>zone</th>\n",
       "      <th>occupation</th>\n",
       "      <th>income_levels</th>\n",
       "      <th>consume_frequency(weekly)</th>\n",
       "      <th>current_brand</th>\n",
       "      <th>preferable_consumption_size</th>\n",
       "      <th>awareness_of_other_brands</th>\n",
       "      <th>reasons_for_choosing_brands</th>\n",
       "      <th>flavor_preference</th>\n",
       "      <th>purchase_channel</th>\n",
       "      <th>packaging_preference</th>\n",
       "      <th>health_concerns</th>\n",
       "      <th>typical_consumption_situations</th>\n",
       "      <th>price_range</th>\n",
       "    </tr>\n",
       "  </thead>\n",
       "  <tbody>\n",
       "    <tr>\n",
       "      <th>3099</th>\n",
       "      <td>R03098</td>\n",
       "      <td>453</td>\n",
       "      <td>M</td>\n",
       "      <td>Metro</td>\n",
       "      <td>Working Professional</td>\n",
       "      <td>26L - 35L</td>\n",
       "      <td>3-4 times</td>\n",
       "      <td>Established</td>\n",
       "      <td>Medium (500 ml)</td>\n",
       "      <td>2 to 4</td>\n",
       "      <td>Brand Reputation</td>\n",
       "      <td>Traditional</td>\n",
       "      <td>Retail Store</td>\n",
       "      <td>Premium</td>\n",
       "      <td>Medium (Moderately health-conscious)</td>\n",
       "      <td>Social (eg. Parties)</td>\n",
       "      <td>200-250</td>\n",
       "    </tr>\n",
       "    <tr>\n",
       "      <th>6262</th>\n",
       "      <td>R06260</td>\n",
       "      <td>428</td>\n",
       "      <td>M</td>\n",
       "      <td>Urban</td>\n",
       "      <td>Entrepreneur</td>\n",
       "      <td>16L - 25L</td>\n",
       "      <td>5-7 times</td>\n",
       "      <td>Established</td>\n",
       "      <td>Large (1 L)</td>\n",
       "      <td>above 4</td>\n",
       "      <td>Quality</td>\n",
       "      <td>Exotic</td>\n",
       "      <td>Online</td>\n",
       "      <td>Simple</td>\n",
       "      <td>High (Very health-conscious)</td>\n",
       "      <td>Social (eg. Parties)</td>\n",
       "      <td>200-250</td>\n",
       "    </tr>\n",
       "    <tr>\n",
       "      <th>12403</th>\n",
       "      <td>R12398</td>\n",
       "      <td>604</td>\n",
       "      <td>M</td>\n",
       "      <td>Metro</td>\n",
       "      <td>Retired</td>\n",
       "      <td>&lt;10L</td>\n",
       "      <td>0-2 times</td>\n",
       "      <td>Newcomer</td>\n",
       "      <td>Small (250 ml)</td>\n",
       "      <td>2 to 4</td>\n",
       "      <td>Availability</td>\n",
       "      <td>Traditional</td>\n",
       "      <td>Online</td>\n",
       "      <td>Simple</td>\n",
       "      <td>Medium (Moderately health-conscious)</td>\n",
       "      <td>Casual (eg. At home)</td>\n",
       "      <td>100-150</td>\n",
       "    </tr>\n",
       "    <tr>\n",
       "      <th>22549</th>\n",
       "      <td>R22542</td>\n",
       "      <td>457</td>\n",
       "      <td>M</td>\n",
       "      <td>Metro</td>\n",
       "      <td>Working Professional</td>\n",
       "      <td>16L - 25L</td>\n",
       "      <td>3-4 times</td>\n",
       "      <td>Newcomer</td>\n",
       "      <td>Small (250 ml)</td>\n",
       "      <td>2 to 4</td>\n",
       "      <td>Price</td>\n",
       "      <td>Traditional</td>\n",
       "      <td>Online</td>\n",
       "      <td>Premium</td>\n",
       "      <td>High (Very health-conscious)</td>\n",
       "      <td>Casual (eg. At home)</td>\n",
       "      <td>200-250</td>\n",
       "    </tr>\n",
       "    <tr>\n",
       "      <th>22918</th>\n",
       "      <td>R22911</td>\n",
       "      <td>267</td>\n",
       "      <td>F</td>\n",
       "      <td>Metro</td>\n",
       "      <td>Working Professional</td>\n",
       "      <td>16L - 25L</td>\n",
       "      <td>3-4 times</td>\n",
       "      <td>Established</td>\n",
       "      <td>Medium (500 ml)</td>\n",
       "      <td>above 4</td>\n",
       "      <td>Brand Reputation</td>\n",
       "      <td>Exotic</td>\n",
       "      <td>Online</td>\n",
       "      <td>Eco-Friendly</td>\n",
       "      <td>Low (Not very concerned)</td>\n",
       "      <td>Active (eg. Sports, gym)</td>\n",
       "      <td>150-200</td>\n",
       "    </tr>\n",
       "    <tr>\n",
       "      <th>24958</th>\n",
       "      <td>R24950</td>\n",
       "      <td>285</td>\n",
       "      <td>M</td>\n",
       "      <td>Semi-Urban</td>\n",
       "      <td>Working Professional</td>\n",
       "      <td>&gt; 35L</td>\n",
       "      <td>0-2 times</td>\n",
       "      <td>Newcomer</td>\n",
       "      <td>Small (250 ml)</td>\n",
       "      <td>2 to 4</td>\n",
       "      <td>Price</td>\n",
       "      <td>Traditional</td>\n",
       "      <td>Online</td>\n",
       "      <td>Simple</td>\n",
       "      <td>Medium (Moderately health-conscious)</td>\n",
       "      <td>Active (eg. Sports, gym)</td>\n",
       "      <td>150-200</td>\n",
       "    </tr>\n",
       "    <tr>\n",
       "      <th>24960</th>\n",
       "      <td>R24952</td>\n",
       "      <td>192</td>\n",
       "      <td>F</td>\n",
       "      <td>Urban</td>\n",
       "      <td>Student</td>\n",
       "      <td>NaN</td>\n",
       "      <td>3-4 times</td>\n",
       "      <td>Newcomer</td>\n",
       "      <td>Medium (500 ml)</td>\n",
       "      <td>0 to 1</td>\n",
       "      <td>Price</td>\n",
       "      <td>Traditional</td>\n",
       "      <td>Online</td>\n",
       "      <td>Simple</td>\n",
       "      <td>Low (Not very concerned)</td>\n",
       "      <td>Active (eg. Sports, gym)</td>\n",
       "      <td>50-100</td>\n",
       "    </tr>\n",
       "    <tr>\n",
       "      <th>25105</th>\n",
       "      <td>R25096</td>\n",
       "      <td>203</td>\n",
       "      <td>M</td>\n",
       "      <td>Metro</td>\n",
       "      <td>Working Professional</td>\n",
       "      <td>16L - 25L</td>\n",
       "      <td>0-2 times</td>\n",
       "      <td>Established</td>\n",
       "      <td>Small (250 ml)</td>\n",
       "      <td>2 to 4</td>\n",
       "      <td>Brand Reputation</td>\n",
       "      <td>Exotic</td>\n",
       "      <td>Retail Store</td>\n",
       "      <td>Premium</td>\n",
       "      <td>High (Very health-conscious)</td>\n",
       "      <td>Active (eg. Sports, gym)</td>\n",
       "      <td>150-200</td>\n",
       "    </tr>\n",
       "    <tr>\n",
       "      <th>28770</th>\n",
       "      <td>R28761</td>\n",
       "      <td>428</td>\n",
       "      <td>F</td>\n",
       "      <td>Rural</td>\n",
       "      <td>Working Professional</td>\n",
       "      <td>26L - 35L</td>\n",
       "      <td>0-2 times</td>\n",
       "      <td>Established</td>\n",
       "      <td>Small (250 ml)</td>\n",
       "      <td>2 to 4</td>\n",
       "      <td>Brand Reputation</td>\n",
       "      <td>Exotic</td>\n",
       "      <td>Online</td>\n",
       "      <td>Simple</td>\n",
       "      <td>Medium (Moderately health-conscious)</td>\n",
       "      <td>Casual (eg. At home)</td>\n",
       "      <td>150-200</td>\n",
       "    </tr>\n",
       "  </tbody>\n",
       "</table>\n",
       "</div>"
      ],
      "text/plain": [
       "      respondent_id  age gender        zone            occupation  \\\n",
       "3099         R03098  453      M       Metro  Working Professional   \n",
       "6262         R06260  428      M       Urban          Entrepreneur   \n",
       "12403        R12398  604      M       Metro               Retired   \n",
       "22549        R22542  457      M       Metro  Working Professional   \n",
       "22918        R22911  267      F       Metro  Working Professional   \n",
       "24958        R24950  285      M  Semi-Urban  Working Professional   \n",
       "24960        R24952  192      F       Urban               Student   \n",
       "25105        R25096  203      M       Metro  Working Professional   \n",
       "28770        R28761  428      F       Rural  Working Professional   \n",
       "\n",
       "      income_levels consume_frequency(weekly) current_brand  \\\n",
       "3099      26L - 35L                 3-4 times   Established   \n",
       "6262      16L - 25L                 5-7 times   Established   \n",
       "12403          <10L                 0-2 times      Newcomer   \n",
       "22549     16L - 25L                 3-4 times      Newcomer   \n",
       "22918     16L - 25L                 3-4 times   Established   \n",
       "24958         > 35L                 0-2 times      Newcomer   \n",
       "24960           NaN                 3-4 times      Newcomer   \n",
       "25105     16L - 25L                 0-2 times   Established   \n",
       "28770     26L - 35L                 0-2 times   Established   \n",
       "\n",
       "      preferable_consumption_size awareness_of_other_brands  \\\n",
       "3099              Medium (500 ml)                    2 to 4   \n",
       "6262                  Large (1 L)                   above 4   \n",
       "12403              Small (250 ml)                    2 to 4   \n",
       "22549              Small (250 ml)                    2 to 4   \n",
       "22918             Medium (500 ml)                   above 4   \n",
       "24958              Small (250 ml)                    2 to 4   \n",
       "24960             Medium (500 ml)                    0 to 1   \n",
       "25105              Small (250 ml)                    2 to 4   \n",
       "28770              Small (250 ml)                    2 to 4   \n",
       "\n",
       "      reasons_for_choosing_brands flavor_preference purchase_channel  \\\n",
       "3099             Brand Reputation       Traditional     Retail Store   \n",
       "6262                      Quality            Exotic           Online   \n",
       "12403                Availability       Traditional           Online   \n",
       "22549                       Price       Traditional           Online   \n",
       "22918            Brand Reputation            Exotic           Online   \n",
       "24958                       Price       Traditional           Online   \n",
       "24960                       Price       Traditional           Online   \n",
       "25105            Brand Reputation            Exotic     Retail Store   \n",
       "28770            Brand Reputation            Exotic           Online   \n",
       "\n",
       "      packaging_preference                       health_concerns  \\\n",
       "3099               Premium  Medium (Moderately health-conscious)   \n",
       "6262                Simple          High (Very health-conscious)   \n",
       "12403               Simple  Medium (Moderately health-conscious)   \n",
       "22549              Premium          High (Very health-conscious)   \n",
       "22918         Eco-Friendly              Low (Not very concerned)   \n",
       "24958               Simple  Medium (Moderately health-conscious)   \n",
       "24960               Simple              Low (Not very concerned)   \n",
       "25105              Premium          High (Very health-conscious)   \n",
       "28770               Simple  Medium (Moderately health-conscious)   \n",
       "\n",
       "      typical_consumption_situations price_range  \n",
       "3099            Social (eg. Parties)     200-250  \n",
       "6262            Social (eg. Parties)     200-250  \n",
       "12403           Casual (eg. At home)     100-150  \n",
       "22549           Casual (eg. At home)     200-250  \n",
       "22918       Active (eg. Sports, gym)     150-200  \n",
       "24958       Active (eg. Sports, gym)     150-200  \n",
       "24960       Active (eg. Sports, gym)      50-100  \n",
       "25105       Active (eg. Sports, gym)     150-200  \n",
       "28770           Casual (eg. At home)     150-200  "
      ]
     },
     "execution_count": 18,
     "metadata": {},
     "output_type": "execute_result"
    }
   ],
   "source": [
    "# Outliers dataframe/outliers rows filtered \n",
    "df1[df1['age']>(Q3+4*IQR)]"
   ]
  },
  {
   "cell_type": "markdown",
   "id": "38d8bf0f-7d31-49cd-8346-bce8c2d39ecc",
   "metadata": {},
   "source": [
    "<img src=\"./src_files/shape, value_counts.png\">"
   ]
  },
  {
   "cell_type": "markdown",
   "id": "aac23763-ca85-4aa5-aeed-d9de37fc120e",
   "metadata": {},
   "source": [
    "<img src=\"./src_files/value_counts_avoided_1_row.png\">"
   ]
  },
  {
   "cell_type": "code",
   "execution_count": 19,
   "id": "53ba5698-4e9e-4ed5-a0f7-0c0ace7530c1",
   "metadata": {},
   "outputs": [
    {
     "data": {
      "text/plain": [
       "(29991, 17)"
      ]
     },
     "execution_count": 19,
     "metadata": {},
     "output_type": "execute_result"
    }
   ],
   "source": [
    "# DataFrame with No outliers\n",
    "df1=df1[df1['age']<(Q3+4*IQR)]\n",
    "df1.shape"
   ]
  },
  {
   "cell_type": "code",
   "execution_count": 20,
   "id": "58d18125-9a6f-4473-b6af-b6bc51dbaee6",
   "metadata": {},
   "outputs": [
    {
     "data": {
      "text/plain": [
       "(32.94748424527358,\n",
       " 31.0,\n",
       " 0    19\n",
       " Name: age, dtype: int64)"
      ]
     },
     "execution_count": 20,
     "metadata": {},
     "output_type": "execute_result"
    }
   ],
   "source": [
    "mean = df1['age'].mean()\n",
    "median = df1['age'].median()\n",
    "mode = df1['age'].mode()\n",
    "(mean, median, mode)"
   ]
  },
  {
   "cell_type": "code",
   "execution_count": null,
   "id": "696e396d-4677-45e1-8342-8d98ea23f24e",
   "metadata": {},
   "outputs": [],
   "source": []
  },
  {
   "cell_type": "markdown",
   "id": "97c00099-506a-45ac-8c62-f811dd7a0db6",
   "metadata": {},
   "source": [
    "**Step3: Handle Missing Data:**\n",
    "- For the 'income_levels' column, missing values can be problematic. What would be a reasonable way to replace them? (Hint: Consider using \"Not Reported\" \n",
    "for missing income levels)"
   ]
  },
  {
   "cell_type": "code",
   "execution_count": 21,
   "id": "5a0a848d-9cfa-4e6d-b227-e9a297988a89",
   "metadata": {},
   "outputs": [
    {
     "data": {
      "text/plain": [
       "respondent_id                        0\n",
       "age                                  0\n",
       "gender                               0\n",
       "zone                                 0\n",
       "occupation                           0\n",
       "income_levels                     8064\n",
       "consume_frequency(weekly)            8\n",
       "current_brand                        0\n",
       "preferable_consumption_size          0\n",
       "awareness_of_other_brands            0\n",
       "reasons_for_choosing_brands          0\n",
       "flavor_preference                    0\n",
       "purchase_channel                    10\n",
       "packaging_preference                 0\n",
       "health_concerns                      0\n",
       "typical_consumption_situations       0\n",
       "price_range                          0\n",
       "dtype: int64"
      ]
     },
     "execution_count": 21,
     "metadata": {},
     "output_type": "execute_result"
    }
   ],
   "source": [
    "df.isnull().sum()"
   ]
  },
  {
   "cell_type": "code",
   "execution_count": 22,
   "id": "6ed36597-28a9-4b93-9ac3-59985347c8a6",
   "metadata": {},
   "outputs": [
    {
     "data": {
      "text/plain": [
       "respondent_id                        0\n",
       "age                                  0\n",
       "gender                               0\n",
       "zone                                 0\n",
       "occupation                           0\n",
       "income_levels                     8060\n",
       "consume_frequency(weekly)            8\n",
       "current_brand                        0\n",
       "preferable_consumption_size          0\n",
       "awareness_of_other_brands            0\n",
       "reasons_for_choosing_brands          0\n",
       "flavor_preference                    0\n",
       "purchase_channel                    10\n",
       "packaging_preference                 0\n",
       "health_concerns                      0\n",
       "typical_consumption_situations       0\n",
       "price_range                          0\n",
       "dtype: int64"
      ]
     },
     "execution_count": 22,
     "metadata": {},
     "output_type": "execute_result"
    }
   ],
   "source": [
    "df1.isnull().sum()"
   ]
  },
  {
   "cell_type": "code",
   "execution_count": 23,
   "id": "4ca14a0c-8082-4228-9dc5-afc72557aa30",
   "metadata": {},
   "outputs": [
    {
     "data": {
      "text/plain": [
       "(8060, 17)"
      ]
     },
     "execution_count": 23,
     "metadata": {},
     "output_type": "execute_result"
    }
   ],
   "source": [
    "# null values in the dataframe # NaN values od 8060 rows\n",
    "df1[df1['income_levels'].isnull()].shape"
   ]
  },
  {
   "cell_type": "code",
   "execution_count": 24,
   "id": "e015faa3-ae7f-4632-96d9-d390e9b04778",
   "metadata": {},
   "outputs": [
    {
     "data": {
      "text/plain": [
       "occupation            income_levels\n",
       "Entrepreneur          16L - 25L        1392\n",
       "                      10L - 15L        1246\n",
       "                      26L - 35L        1076\n",
       "                      <10L              710\n",
       "                      > 35L             576\n",
       "Retired               <10L              790\n",
       "                      10L - 15L         221\n",
       "                      16L - 25L         119\n",
       "Working Professional  16L - 25L        4386\n",
       "                      10L - 15L        3784\n",
       "                      <10L             3161\n",
       "                      26L - 35L        2796\n",
       "                      > 35L            1674\n",
       "Name: count, dtype: int64"
      ]
     },
     "execution_count": 24,
     "metadata": {},
     "output_type": "execute_result"
    }
   ],
   "source": [
    "df1.groupby('occupation')['income_levels'].value_counts()"
   ]
  },
  {
   "cell_type": "code",
   "execution_count": 25,
   "id": "c2313fcb-fe5b-4d0d-9b72-13706f6e0539",
   "metadata": {},
   "outputs": [
    {
     "data": {
      "text/plain": [
       "0"
      ]
     },
     "execution_count": 25,
     "metadata": {},
     "output_type": "execute_result"
    }
   ],
   "source": [
    "# Replace missing 'income_levels' or NaN with \"not_reported\"\n",
    "df1['income_levels']=df1['income_levels'].fillna('Not Reported')\n",
    "\n",
    "# Check if any missing values still exist \n",
    "df1['income_levels'].isnull().sum()"
   ]
  },
  {
   "cell_type": "code",
   "execution_count": 26,
   "id": "dbc2a51d-d41b-413e-87d9-be619097ebdb",
   "metadata": {},
   "outputs": [
    {
     "data": {
      "text/plain": [
       "8060"
      ]
     },
     "execution_count": 26,
     "metadata": {},
     "output_type": "execute_result"
    }
   ],
   "source": [
    "# sum of income_levels column with \"Not Reported\"\n",
    "df1[df1['income_levels']=='Not Reported'].shape[0]"
   ]
  },
  {
   "cell_type": "code",
   "execution_count": 27,
   "id": "f6a3c793-13c0-4eaa-b773-75949665b8d9",
   "metadata": {},
   "outputs": [
    {
     "data": {
      "text/plain": [
       "10"
      ]
     },
     "execution_count": 27,
     "metadata": {},
     "output_type": "execute_result"
    }
   ],
   "source": [
    "df1[df1['purchase_channel'].isnull()].shape[0]"
   ]
  },
  {
   "cell_type": "code",
   "execution_count": 28,
   "id": "039081ad-e6a8-4339-a991-48447e95a6c6",
   "metadata": {},
   "outputs": [
    {
     "data": {
      "text/plain": [
       "(8, 17)"
      ]
     },
     "execution_count": 28,
     "metadata": {},
     "output_type": "execute_result"
    }
   ],
   "source": [
    "df1_null=df1[df1['consume_frequency(weekly)'].isnull()]\n",
    "df1_null.shape"
   ]
  },
  {
   "cell_type": "code",
   "execution_count": 29,
   "id": "d4a1ae86-aefb-4c38-a1dc-c4b177345825",
   "metadata": {},
   "outputs": [
    {
     "data": {
      "text/plain": [
       "'3-4 times'"
      ]
     },
     "execution_count": 29,
     "metadata": {},
     "output_type": "execute_result"
    }
   ],
   "source": [
    "df1['consume_frequency(weekly)'].mode()[0]"
   ]
  },
  {
   "cell_type": "code",
   "execution_count": 30,
   "id": "ef05a6e4-a878-410c-b90e-3cee26206e57",
   "metadata": {},
   "outputs": [
    {
     "data": {
      "text/plain": [
       "(0, 17)"
      ]
     },
     "execution_count": 30,
     "metadata": {},
     "output_type": "execute_result"
    }
   ],
   "source": [
    "df1[df1.age.isnull()].shape"
   ]
  },
  {
   "cell_type": "code",
   "execution_count": 31,
   "id": "3e53d6c5-fe51-44f7-b6b6-983bfa9943fe",
   "metadata": {},
   "outputs": [],
   "source": [
    "# To fill missing values with different values per column \n",
    "impute_values = {\n",
    "    'income_values': 'Not Reported',\n",
    "    'consume_frequency(weekly)': df1['consume_frequency(weekly)'].mode()[0],\n",
    "    'purchase_channel':'Other',\n",
    "    'age': df1['age'].median() # numeric column using median, not required as it is 0 null here.\n",
    "}\n",
    "\n",
    "# Fill missing values accordingly\n",
    "df1.fillna(value=impute_values, inplace=True)"
   ]
  },
  {
   "cell_type": "code",
   "execution_count": 32,
   "id": "bd8d93cf-c9c2-4c88-98db-c144cc356072",
   "metadata": {},
   "outputs": [
    {
     "data": {
      "text/plain": [
       "\"\\n# Fill NA values of income_levels columns with 'Not Reported' value\\n\\ndf.fillna(\\n    {'income_levels': 'Not Reported',\\n      'consume_frequency(weekly)': df['consume_frequency(weekly)'].mode()[0],      # filling with highest frequency value\\n      'purchase_channel': df['purchase_channel'].mode()[0]                         # filling with highest frequency value\\n    }, \\n    inplace=True)\\n\\n\""
      ]
     },
     "execution_count": 32,
     "metadata": {},
     "output_type": "execute_result"
    }
   ],
   "source": [
    "'''\n",
    "# 2. Fill missing values in all columns with the same value\n",
    "# For example, fill all NaNs with 'Unknown'\n",
    "df1.fillna('Unknown', inplace=True)\n",
    "\n",
    "\n",
    "# 3. Fill missing values only for selected columns, keeping others unchanged\n",
    "# Only specific columns\n",
    "columns_to_impute = ['income_levels', 'zone', 'current_brand']\n",
    "\n",
    "# Apply on selected columns\n",
    "df1[columns_to_impute] = df1[columns_to_impute].fillna('Unknown')\n",
    "\n",
    "'''\n",
    "\n",
    "\n",
    "'''\n",
    "# Fill NA values of income_levels columns with 'Not Reported' value\n",
    "\n",
    "df.fillna(\n",
    "    {'income_levels': 'Not Reported',\n",
    "      'consume_frequency(weekly)': df['consume_frequency(weekly)'].mode()[0],      # filling with highest frequency value\n",
    "      'purchase_channel': df['purchase_channel'].mode()[0]                         # filling with highest frequency value\n",
    "    }, \n",
    "    inplace=True)\n",
    "\n",
    "'''"
   ]
  },
  {
   "cell_type": "code",
   "execution_count": 33,
   "id": "39d9b1a0-67c5-4d9f-b1eb-2afe72a900a9",
   "metadata": {},
   "outputs": [
    {
     "data": {
      "text/plain": [
       "respondent_id                        0\n",
       "age                                  0\n",
       "gender                               0\n",
       "zone                                 0\n",
       "occupation                           0\n",
       "income_levels                     8064\n",
       "consume_frequency(weekly)            8\n",
       "current_brand                        0\n",
       "preferable_consumption_size          0\n",
       "awareness_of_other_brands            0\n",
       "reasons_for_choosing_brands          0\n",
       "flavor_preference                    0\n",
       "purchase_channel                    10\n",
       "packaging_preference                 0\n",
       "health_concerns                      0\n",
       "typical_consumption_situations       0\n",
       "price_range                          0\n",
       "dtype: int64"
      ]
     },
     "execution_count": 33,
     "metadata": {},
     "output_type": "execute_result"
    }
   ],
   "source": [
    "# before the fill\n",
    "df.isnull().sum()"
   ]
  },
  {
   "cell_type": "code",
   "execution_count": 34,
   "id": "ccd7c9ee-6ede-49ee-8859-72051bdb6914",
   "metadata": {},
   "outputs": [
    {
     "data": {
      "text/plain": [
       "respondent_id                     0\n",
       "age                               0\n",
       "gender                            0\n",
       "zone                              0\n",
       "occupation                        0\n",
       "income_levels                     0\n",
       "consume_frequency(weekly)         0\n",
       "current_brand                     0\n",
       "preferable_consumption_size       0\n",
       "awareness_of_other_brands         0\n",
       "reasons_for_choosing_brands       0\n",
       "flavor_preference                 0\n",
       "purchase_channel                  0\n",
       "packaging_preference              0\n",
       "health_concerns                   0\n",
       "typical_consumption_situations    0\n",
       "price_range                       0\n",
       "dtype: int64"
      ]
     },
     "execution_count": 34,
     "metadata": {},
     "output_type": "execute_result"
    }
   ],
   "source": [
    "# After the fill\n",
    "# fillna with 'income_levels' (8064 rows) :\"Not reported\" , consume_frequency(weekly) (8 rows) with mode() : \"3-4 times\" , purchase_channel (10 rows) : \"Other\"\n",
    "df1.isnull().sum()"
   ]
  },
  {
   "cell_type": "code",
   "execution_count": 35,
   "id": "0fb58846-cb5f-4388-a532-c982ea259853",
   "metadata": {},
   "outputs": [
    {
     "data": {
      "text/plain": [
       "'3-4 times'"
      ]
     },
     "execution_count": 35,
     "metadata": {},
     "output_type": "execute_result"
    }
   ],
   "source": [
    "mode_range=df1['consume_frequency(weekly)'].mode()\n",
    "mode_range[0]"
   ]
  },
  {
   "cell_type": "code",
   "execution_count": 36,
   "id": "a475fbc3-6115-4a00-b5e7-587b991734f6",
   "metadata": {},
   "outputs": [
    {
     "name": "stdout",
     "output_type": "stream",
     "text": [
      "Mode of purchases ranges: ['3-4 times']\n"
     ]
    }
   ],
   "source": [
    "print(f\"Mode of purchases ranges:\", mode_range.values)"
   ]
  },
  {
   "cell_type": "code",
   "execution_count": 37,
   "id": "02ba8bb5-147a-40e9-9acd-5cb0fbf9d05c",
   "metadata": {},
   "outputs": [
    {
     "data": {
      "text/plain": [
       "consume_frequency(weekly)\n",
       "0-2 times     8423\n",
       "3-4 times    11794\n",
       "5-7 times     9774\n",
       "Name: count, dtype: int64"
      ]
     },
     "execution_count": 37,
     "metadata": {},
     "output_type": "execute_result"
    }
   ],
   "source": [
    "df1.groupby('consume_frequency(weekly)')['consume_frequency(weekly)'].value_counts()"
   ]
  },
  {
   "cell_type": "markdown",
   "id": "155480cf-170c-4690-a320-a9fc48f0cbb0",
   "metadata": {},
   "source": [
    "# 4. Fix Spelling Mistakes in 'zone' and 'current_brand'"
   ]
  },
  {
   "cell_type": "markdown",
   "id": "7b8ba901-098d-4372-a489-eea9bdad262d",
   "metadata": {},
   "source": [
    "**Step4: Correcting Spelling Mistakes in Categorical Data:**\n",
    "- Review the entries in the 'zone' and 'current_brand' columns. Are these any inconsistencies in spelling or formatting ? How could you identify and fix\n",
    "these issues to ensure uniform categories?"
   ]
  },
  {
   "cell_type": "code",
   "execution_count": 38,
   "id": "c04ce28b-35d5-4948-8b7e-1af5b61b92d5",
   "metadata": {},
   "outputs": [],
   "source": [
    "# Normalize zone and current_brand columns\n",
    "df1['zone']=df1['zone'].str.strip()\n",
    "df1['current_brand']=df1['current_brand'].str.strip()"
   ]
  },
  {
   "cell_type": "code",
   "execution_count": 39,
   "id": "77b9284a-d056-4a68-b300-deb9d72847b0",
   "metadata": {},
   "outputs": [
    {
     "data": {
      "text/plain": [
       "array(['Newcomer', 'Established', 'newcomer', 'Establishd'], dtype=object)"
      ]
     },
     "execution_count": 39,
     "metadata": {},
     "output_type": "execute_result"
    }
   ],
   "source": [
    "# List of unique current_brand\n",
    "df1['current_brand'].unique()"
   ]
  },
  {
   "cell_type": "code",
   "execution_count": 40,
   "id": "dee5322e-952e-4dbb-a40d-d8a737af0306",
   "metadata": {},
   "outputs": [
    {
     "data": {
      "text/plain": [
       "array(['Urban', 'Metro', 'Rural', 'Semi-Urban', 'Metor', 'urbna'],\n",
       "      dtype=object)"
      ]
     },
     "execution_count": 40,
     "metadata": {},
     "output_type": "execute_result"
    }
   ],
   "source": [
    "# List Unique Zones\n",
    "df1['zone'].unique()"
   ]
  },
  {
   "cell_type": "code",
   "execution_count": 41,
   "id": "b3c70692-660d-4393-8e22-6b557b1906e3",
   "metadata": {},
   "outputs": [
    {
     "data": {
      "text/plain": [
       "current_brand\n",
       "Established    15442\n",
       "Newcomer       14499\n",
       "newcomer          30\n",
       "Establishd        20\n",
       "Name: count, dtype: int64"
      ]
     },
     "execution_count": 41,
     "metadata": {},
     "output_type": "execute_result"
    }
   ],
   "source": [
    "df1['current_brand'].value_counts()"
   ]
  },
  {
   "cell_type": "code",
   "execution_count": 42,
   "id": "48751ad2-783d-48fb-94b5-97a3293a3b84",
   "metadata": {},
   "outputs": [
    {
     "data": {
      "text/plain": [
       "zone\n",
       "Metro         11906\n",
       "Urban         10686\n",
       "Semi-Urban     5274\n",
       "Rural          2116\n",
       "urbna             5\n",
       "Metor             4\n",
       "Name: count, dtype: int64"
      ]
     },
     "execution_count": 42,
     "metadata": {},
     "output_type": "execute_result"
    }
   ],
   "source": [
    "# Count Occurrences of Each Zone\n",
    "df1['zone'].value_counts()"
   ]
  },
  {
   "cell_type": "code",
   "execution_count": null,
   "id": "98198b39-762c-42af-9742-34b3d21ea4aa",
   "metadata": {},
   "outputs": [],
   "source": []
  },
  {
   "cell_type": "code",
   "execution_count": 43,
   "id": "41b42337-7010-4042-a686-f0aa00754f5d",
   "metadata": {},
   "outputs": [
    {
     "data": {
      "text/plain": [
       "29991"
      ]
     },
     "execution_count": 43,
     "metadata": {},
     "output_type": "execute_result"
    }
   ],
   "source": [
    "# Total sum of all current_brand\n",
    "df1['current_brand'].value_counts().sum()"
   ]
  },
  {
   "cell_type": "code",
   "execution_count": 44,
   "id": "04c5e1c1-d78c-449f-bf8e-08bb017680c1",
   "metadata": {},
   "outputs": [
    {
     "data": {
      "text/plain": [
       "29991"
      ]
     },
     "execution_count": 44,
     "metadata": {},
     "output_type": "execute_result"
    }
   ],
   "source": [
    "# Total sum of all zone counts\n",
    "df1['zone'].value_counts().sum()"
   ]
  },
  {
   "cell_type": "code",
   "execution_count": 45,
   "id": "6d011c7f-3127-4972-ac4e-f477a228083e",
   "metadata": {},
   "outputs": [],
   "source": [
    "# Manual correction, Replace \"Metor\" with \"Metro\" and \"urbna\" with \"Urban\"\n",
    "df1['zone'] = df1['zone'].replace({'Metor':'Metro', 'urbna':'Urban'})"
   ]
  },
  {
   "cell_type": "code",
   "execution_count": 46,
   "id": "8bea3e72-9c44-487f-a219-2b5b40705e5a",
   "metadata": {},
   "outputs": [],
   "source": [
    "# Replaced 'Establishd' with 'Established' and 'newcomer' with 'Newcomer'\n",
    "df1['current_brand'] = df1['current_brand'].replace({'newcomer':'Newcomer', 'Establishd': 'Established'})"
   ]
  },
  {
   "cell_type": "code",
   "execution_count": 47,
   "id": "53ac2c97-0feb-4d92-ad0a-d3eeb2b6e494",
   "metadata": {},
   "outputs": [
    {
     "data": {
      "text/plain": [
       "zone\n",
       "Metro         11910\n",
       "Urban         10691\n",
       "Semi-Urban     5274\n",
       "Rural          2116\n",
       "Name: count, dtype: int64"
      ]
     },
     "execution_count": 47,
     "metadata": {},
     "output_type": "execute_result"
    }
   ],
   "source": [
    "df1.zone.value_counts()"
   ]
  },
  {
   "cell_type": "code",
   "execution_count": 48,
   "id": "be49b022-55cb-400a-9e82-317e3be1eaa7",
   "metadata": {},
   "outputs": [
    {
     "data": {
      "text/plain": [
       "current_brand\n",
       "Established    15462\n",
       "Newcomer       14529\n",
       "Name: count, dtype: int64"
      ]
     },
     "execution_count": 48,
     "metadata": {},
     "output_type": "execute_result"
    }
   ],
   "source": [
    "df1.current_brand.value_counts()"
   ]
  },
  {
   "cell_type": "code",
   "execution_count": 49,
   "id": "922cbab2-4185-473e-a26d-d8ce5e421112",
   "metadata": {},
   "outputs": [
    {
     "name": "stdout",
     "output_type": "stream",
     "text": [
      "<class 'pandas.core.frame.DataFrame'>\n",
      "Index: 29991 entries, 0 to 30009\n",
      "Data columns (total 17 columns):\n",
      " #   Column                          Non-Null Count  Dtype \n",
      "---  ------                          --------------  ----- \n",
      " 0   respondent_id                   29991 non-null  object\n",
      " 1   age                             29991 non-null  int64 \n",
      " 2   gender                          29991 non-null  object\n",
      " 3   zone                            29991 non-null  object\n",
      " 4   occupation                      29991 non-null  object\n",
      " 5   income_levels                   29991 non-null  object\n",
      " 6   consume_frequency(weekly)       29991 non-null  object\n",
      " 7   current_brand                   29991 non-null  object\n",
      " 8   preferable_consumption_size     29991 non-null  object\n",
      " 9   awareness_of_other_brands       29991 non-null  object\n",
      " 10  reasons_for_choosing_brands     29991 non-null  object\n",
      " 11  flavor_preference               29991 non-null  object\n",
      " 12  purchase_channel                29991 non-null  object\n",
      " 13  packaging_preference            29991 non-null  object\n",
      " 14  health_concerns                 29991 non-null  object\n",
      " 15  typical_consumption_situations  29991 non-null  object\n",
      " 16  price_range                     29991 non-null  object\n",
      "dtypes: int64(1), object(16)\n",
      "memory usage: 4.1+ MB\n"
     ]
    }
   ],
   "source": [
    "df1.info()"
   ]
  },
  {
   "cell_type": "code",
   "execution_count": 50,
   "id": "c01eb276-c83d-4007-810b-5d4e3ee111ea",
   "metadata": {},
   "outputs": [
    {
     "data": {
      "text/plain": [
       "income_levels\n",
       "Not Reported    8060\n",
       "16L - 25L       5897\n",
       "10L - 15L       5251\n",
       "<10L            4661\n",
       "26L - 35L       3872\n",
       "> 35L           2250\n",
       "Name: count, dtype: int64"
      ]
     },
     "execution_count": 50,
     "metadata": {},
     "output_type": "execute_result"
    }
   ],
   "source": [
    "df1.income_levels.value_counts()"
   ]
  },
  {
   "cell_type": "code",
   "execution_count": 51,
   "id": "de80cf55-076a-49bd-b357-59386459d29e",
   "metadata": {},
   "outputs": [
    {
     "data": {
      "text/plain": [
       "purchase_channel\n",
       "Online          16562\n",
       "Retail Store    13419\n",
       "Other              10\n",
       "Name: count, dtype: int64"
      ]
     },
     "execution_count": 51,
     "metadata": {},
     "output_type": "execute_result"
    }
   ],
   "source": [
    "df1['purchase_channel'].value_counts()"
   ]
  },
  {
   "cell_type": "markdown",
   "id": "2e492655-52fc-441d-8ece-c1109d72bb3e",
   "metadata": {},
   "source": [
    "# FEATURE ENGINEERING"
   ]
  },
  {
   "cell_type": "markdown",
   "id": "4d0f1b14-e1ae-4c0c-b2c8-26cc2333f3bb",
   "metadata": {},
   "source": [
    "In this task, you will be performing feature engineering by adding new columns to an existing dataset. You are required to create four new columns\n",
    "by following the instructions below."
   ]
  },
  {
   "cell_type": "raw",
   "id": "ce4dc907-4363-428e-aff1-1707a8e13ed8",
   "metadata": {},
   "source": [
    "**Feature Engineering**\n",
    "In this task, you will be performing feature engineering by adding new columns to an\n",
    "existing dataset. You are required to create four new columns by following the\n",
    "instructions below.\n",
    "Step 1: Categorize Age into Age Groups\n",
    "Objective: Create a new column `age_group` by categorizing the existing `age`\n",
    "column into specific age ranges.\n",
    "● Categorize ages into the following groups:\n",
    "○ 18-25\n",
    "○ 26-35\n",
    "○ 36-45\n",
    "○ 46-55\n",
    "○ 56-70\n",
    "○ 70+\n",
    "● Ensure that each age in the dataset is mapped to one of these age groups.\n",
    "● After that, remove the original `age` column from the dataset.\n",
    "---------------------------------------------------------------------------------------------------------------------\n",
    "Step 2: Create `cf_ab_score` (Consume Frequency and Awareness Brand\n",
    "Score)\n",
    "Objective: Create a new column `cf_ab_score` by combining the information from\n",
    "`consume_frequency(weekly)` and `awareness_of_other_brands` columns.\n",
    "● Use the following mappings for consume_frequency(weekly):\n",
    "○ \"0-2 times\" → 1\n",
    "○ \"3-4 times\" → 2\n",
    "○ \"5-7 times\" → 3\n",
    "● Use the following mappings for awareness_of_other_brands:\n",
    "○ \"0 to 1\" → 1\n",
    "○ \"2 to 4\" → 2\n",
    "○ \"above 4\" → 3\n",
    "● Calculate cf_ab_score using the following formula:\n",
    "● Round the result to two decimal places.\n",
    "---------------------------------------------------------------------------------------------------------------------\n",
    "Step 3: Create Zone Affluence Score (ZAS)\n",
    "Objective: Calculate the `zas_score` using a combination of the `zone` and\n",
    "`income_levels` columns.\n",
    "● Use the following mappings for the zone column:\n",
    "○ \"Urban\" → 3\n",
    "○ \"Metro\" → 4\n",
    "○ \"Rural\" → 1\n",
    "○ \"Semi-Urban\" → 2\n",
    "● Use the following mappings for the income_levels column:\n",
    "○ \"<10L\" → 1\n",
    "○ \"10L - 15L\" → 2\n",
    "○ \"16L - 25L\" → 3\n",
    "○ \"26L - 35L\" → 4\n",
    "○ \"> 35L\" → 5\n",
    "○ \"Not Reported\" → 0\n",
    "● Calculate the zas_score using the following formula:\n",
    "---------------------------------------------------------------------------------------------------------------------\n",
    "Step 4: Brand Switching Indicator (BSI)\n",
    "Objective: Create a binary indicator column `bsi` that identifies if a respondent is\n",
    "likely to switch brands.\n",
    "codebasics.io\n",
    "● Check if the respondent’s current_brand is not \"Established\".\n",
    "● Also check if the reasons_for_choosing_brands are either \"Price\" or\n",
    "\"Quality\".\n",
    "● If both conditions are true, assign a value of 1 to indicate potential for brand\n",
    "switching. Otherwise, assign 0.\n",
    "---------------------------------------------------------------------------------------------------------------------\n",
    "Final Cleaning Step:\n",
    "Removing Logical Outliers:\n",
    "● When reviewing the occupation data, we found logical inconsistencies. For\n",
    "instance, there are students listed in the `56-70` age group, which seems like an\n",
    "incorrect entry. We need to remove such records where the data doesn't make\n",
    "sense logically.\n",
    "---------------------------------------------------------------------------------------------------------------------"
   ]
  },
  {
   "cell_type": "code",
   "execution_count": 52,
   "id": "5d19ce27-3c57-4b0c-a2d6-08dc1bb84c50",
   "metadata": {},
   "outputs": [
    {
     "name": "stdout",
     "output_type": "stream",
     "text": [
      "******************************************************************************************************************************************************\n"
     ]
    }
   ],
   "source": [
    "print('*'*150)"
   ]
  },
  {
   "cell_type": "markdown",
   "id": "6f861d75-1d43-4076-b99c-5ccf1785568f",
   "metadata": {},
   "source": [
    "**Step1 : Categorize Age into Age Groups** \n",
    "\n",
    "**Objective: Create a new column 'age_group' by categorizing the existing 'age' column into specific age ranges.\n",
    "● Categorize ages into the following groups:\n",
    "○ 18-25\n",
    "○ 26-35\n",
    "○ 36-45\n",
    "○ 46-55\n",
    "○ 56-70\n",
    "○ 70+\n",
    "● Ensure that each age in the dataset is mapped to one of these age groups.\n",
    "● After that, remove the original `age` column from the dataset.\n"
   ]
  },
  {
   "cell_type": "code",
   "execution_count": 53,
   "id": "fdae05d2-0224-411a-b1e3-394707d4103b",
   "metadata": {},
   "outputs": [
    {
     "data": {
      "text/html": [
       "<div>\n",
       "<style scoped>\n",
       "    .dataframe tbody tr th:only-of-type {\n",
       "        vertical-align: middle;\n",
       "    }\n",
       "\n",
       "    .dataframe tbody tr th {\n",
       "        vertical-align: top;\n",
       "    }\n",
       "\n",
       "    .dataframe thead th {\n",
       "        text-align: right;\n",
       "    }\n",
       "</style>\n",
       "<table border=\"1\" class=\"dataframe\">\n",
       "  <thead>\n",
       "    <tr style=\"text-align: right;\">\n",
       "      <th></th>\n",
       "      <th>name</th>\n",
       "      <th>age</th>\n",
       "    </tr>\n",
       "  </thead>\n",
       "  <tbody>\n",
       "    <tr>\n",
       "      <th>0</th>\n",
       "      <td>a</td>\n",
       "      <td>18</td>\n",
       "    </tr>\n",
       "    <tr>\n",
       "      <th>1</th>\n",
       "      <td>b</td>\n",
       "      <td>56</td>\n",
       "    </tr>\n",
       "    <tr>\n",
       "      <th>2</th>\n",
       "      <td>c</td>\n",
       "      <td>45</td>\n",
       "    </tr>\n",
       "    <tr>\n",
       "      <th>3</th>\n",
       "      <td>d</td>\n",
       "      <td>35</td>\n",
       "    </tr>\n",
       "    <tr>\n",
       "      <th>4</th>\n",
       "      <td>e</td>\n",
       "      <td>70</td>\n",
       "    </tr>\n",
       "    <tr>\n",
       "      <th>5</th>\n",
       "      <td>f</td>\n",
       "      <td>72</td>\n",
       "    </tr>\n",
       "    <tr>\n",
       "      <th>6</th>\n",
       "      <td>g</td>\n",
       "      <td>85</td>\n",
       "    </tr>\n",
       "    <tr>\n",
       "      <th>7</th>\n",
       "      <td>h</td>\n",
       "      <td>14</td>\n",
       "    </tr>\n",
       "    <tr>\n",
       "      <th>8</th>\n",
       "      <td>i</td>\n",
       "      <td>26</td>\n",
       "    </tr>\n",
       "  </tbody>\n",
       "</table>\n",
       "</div>"
      ],
      "text/plain": [
       "  name  age\n",
       "0    a   18\n",
       "1    b   56\n",
       "2    c   45\n",
       "3    d   35\n",
       "4    e   70\n",
       "5    f   72\n",
       "6    g   85\n",
       "7    h   14\n",
       "8    i   26"
      ]
     },
     "execution_count": 53,
     "metadata": {},
     "output_type": "execute_result"
    }
   ],
   "source": [
    "# Example \n",
    "\n",
    "import pandas as pd \n",
    "data = {\n",
    "    'name':['a', 'b','c','d','e','f', 'g', 'h', 'i'],\n",
    "    'age': [18,56,45,35,70,72,85,14,26]\n",
    "}\n",
    "dataframe1 = pd.DataFrame(data)\n",
    "dataframe1"
   ]
  },
  {
   "cell_type": "code",
   "execution_count": 54,
   "id": "7b13fa26-06c5-46e7-bb5b-cf71971c6719",
   "metadata": {},
   "outputs": [
    {
     "data": {
      "text/html": [
       "<div>\n",
       "<style scoped>\n",
       "    .dataframe tbody tr th:only-of-type {\n",
       "        vertical-align: middle;\n",
       "    }\n",
       "\n",
       "    .dataframe tbody tr th {\n",
       "        vertical-align: top;\n",
       "    }\n",
       "\n",
       "    .dataframe thead th {\n",
       "        text-align: right;\n",
       "    }\n",
       "</style>\n",
       "<table border=\"1\" class=\"dataframe\">\n",
       "  <thead>\n",
       "    <tr style=\"text-align: right;\">\n",
       "      <th></th>\n",
       "      <th>name</th>\n",
       "      <th>age</th>\n",
       "      <th>age_group</th>\n",
       "    </tr>\n",
       "  </thead>\n",
       "  <tbody>\n",
       "    <tr>\n",
       "      <th>0</th>\n",
       "      <td>a</td>\n",
       "      <td>18</td>\n",
       "      <td>18-25</td>\n",
       "    </tr>\n",
       "    <tr>\n",
       "      <th>1</th>\n",
       "      <td>b</td>\n",
       "      <td>56</td>\n",
       "      <td>56-70</td>\n",
       "    </tr>\n",
       "    <tr>\n",
       "      <th>2</th>\n",
       "      <td>c</td>\n",
       "      <td>45</td>\n",
       "      <td>36-45</td>\n",
       "    </tr>\n",
       "    <tr>\n",
       "      <th>3</th>\n",
       "      <td>d</td>\n",
       "      <td>35</td>\n",
       "      <td>26-35</td>\n",
       "    </tr>\n",
       "    <tr>\n",
       "      <th>4</th>\n",
       "      <td>e</td>\n",
       "      <td>70</td>\n",
       "      <td>56-70</td>\n",
       "    </tr>\n",
       "    <tr>\n",
       "      <th>5</th>\n",
       "      <td>f</td>\n",
       "      <td>72</td>\n",
       "      <td>70+</td>\n",
       "    </tr>\n",
       "    <tr>\n",
       "      <th>6</th>\n",
       "      <td>g</td>\n",
       "      <td>85</td>\n",
       "      <td>70+</td>\n",
       "    </tr>\n",
       "    <tr>\n",
       "      <th>7</th>\n",
       "      <td>h</td>\n",
       "      <td>14</td>\n",
       "      <td>under 18</td>\n",
       "    </tr>\n",
       "    <tr>\n",
       "      <th>8</th>\n",
       "      <td>i</td>\n",
       "      <td>26</td>\n",
       "      <td>26-35</td>\n",
       "    </tr>\n",
       "  </tbody>\n",
       "</table>\n",
       "</div>"
      ],
      "text/plain": [
       "  name  age age_group\n",
       "0    a   18     18-25\n",
       "1    b   56     56-70\n",
       "2    c   45     36-45\n",
       "3    d   35     26-35\n",
       "4    e   70     56-70\n",
       "5    f   72       70+\n",
       "6    g   85       70+\n",
       "7    h   14  under 18\n",
       "8    i   26     26-35"
      ]
     },
     "execution_count": 54,
     "metadata": {},
     "output_type": "execute_result"
    }
   ],
   "source": [
    "# Define age_group function:\n",
    "def categorize_age(age):\n",
    "    if age<18:\n",
    "        return 'under 18'\n",
    "    elif 18 <= age <=25:\n",
    "        return '18-25'\n",
    "    elif 26 <= age <=35:\n",
    "        return '26-35'\n",
    "    elif 36 <= age <= 45:\n",
    "        return '36-45'\n",
    "    elif 46 <= age <= 55:\n",
    "        return '46-55'\n",
    "    elif 56 <= age <=70:\n",
    "        return '56-70'\n",
    "    else:\n",
    "        return '70+'\n",
    "dataframe1['age_group'] = dataframe1['age'].apply(categorize_age)\n",
    "dataframe1"
   ]
  },
  {
   "cell_type": "code",
   "execution_count": 55,
   "id": "305759a0",
   "metadata": {},
   "outputs": [],
   "source": [
    "df1['age_group'] = df1['age'].apply(categorize_age)"
   ]
  },
  {
   "cell_type": "code",
   "execution_count": 56,
   "id": "c6bde18c-1cac-4bb0-b2a6-56a694861113",
   "metadata": {},
   "outputs": [
    {
     "name": "stdout",
     "output_type": "stream",
     "text": [
      "******************************************************************************************************************************************************\n"
     ]
    }
   ],
   "source": [
    "print('*'*150)"
   ]
  },
  {
   "cell_type": "raw",
   "id": "756ed835-b87b-4f96-ab0f-aaba4ea12648",
   "metadata": {},
   "source": [
    "---------------------------------------------------------------------------------------------------------------------\n",
    "Step 2: Create `cf_ab_score` (Consume Frequency and Awareness Brand\n",
    "Score)\n",
    "Objective: Create a new column `cf_ab_score` by combining the information from\n",
    "`consume_frequency(weekly)` and `awareness_of_other_brands` columns.\n",
    "● Use the following mappings for consume_frequency(weekly):\n",
    "○ \"0-2 times\" → 1\n",
    "○ \"3-4 times\" → 2\n",
    "○ \"5-7 times\" → 3\n",
    "● Use the following mappings for awareness_of_other_brands:\n",
    "○ \"0 to 1\" → 1\n",
    "○ \"2 to 4\" → 2\n",
    "○ \"above 4\" → 3\n",
    "● Calculate cf_ab_score using the following formula:\n",
    "● Round the result to two decimal places.\n",
    "---------------------------------------------------------------------------------------------------------------------"
   ]
  },
  {
   "cell_type": "code",
   "execution_count": 57,
   "id": "19a9e543-8560-46ab-ba64-a3a1faf14106",
   "metadata": {},
   "outputs": [
    {
     "data": {
      "text/plain": [
       "(29991, 18)"
      ]
     },
     "execution_count": 57,
     "metadata": {},
     "output_type": "execute_result"
    }
   ],
   "source": [
    "df2=df1.copy()\n",
    "df2.shape"
   ]
  },
  {
   "cell_type": "raw",
   "id": "d54a5e6d-7f3b-42c9-b870-f0447aa0ca55",
   "metadata": {
    "vscode": {
     "languageId": "raw"
    }
   },
   "source": [
    "# step 1 : Categorize 'age' into 'age_group'\n",
    "# Define bins and labels\n",
    "bins = [17,25,35,45,55,70,150]\n",
    "labels = ['18-25', '26-35', '36-45', '46-55', '56-70', '70+']\n",
    "# Create new 'age_group' column\n",
    "df2['age_group'] = pd.cut(df2['age'], bins=bins , labels=labels, right=True)        # pd.cut(..) ==> Categorizes continuous age values into groups like '18-25' , right==> Includes the right edge of the bin (e.g., 25 is in '18–25')\n",
    "# Drop the original 'age' column\n",
    "df1.drop('age',axis=1, inplace=True)                                                # Removes the original numeric age column"
   ]
  },
  {
   "cell_type": "code",
   "execution_count": 58,
   "id": "a7601af4-e431-45ad-9ff0-1da1775836e5",
   "metadata": {},
   "outputs": [
    {
     "data": {
      "text/plain": [
       "consume_frequency(weekly)\n",
       "3-4 times    11794\n",
       "5-7 times     9774\n",
       "0-2 times     8423\n",
       "Name: count, dtype: int64"
      ]
     },
     "execution_count": 58,
     "metadata": {},
     "output_type": "execute_result"
    }
   ],
   "source": [
    "df2['consume_frequency(weekly)'].value_counts()"
   ]
  },
  {
   "cell_type": "code",
   "execution_count": 59,
   "id": "fb09c4a1-ff03-4f14-8103-6acaee2e0b50",
   "metadata": {},
   "outputs": [
    {
     "data": {
      "text/plain": [
       "awareness_of_other_brands\n",
       "0 to 1     12966\n",
       "2 to 4     11225\n",
       "above 4     5800\n",
       "Name: count, dtype: int64"
      ]
     },
     "execution_count": 59,
     "metadata": {},
     "output_type": "execute_result"
    }
   ],
   "source": [
    "df2['awareness_of_other_brands'].value_counts()"
   ]
  },
  {
   "cell_type": "code",
   "execution_count": 60,
   "id": "93d999a9-e730-428d-88b0-55037d16de2b",
   "metadata": {},
   "outputs": [
    {
     "data": {
      "text/html": [
       "<div>\n",
       "<style scoped>\n",
       "    .dataframe tbody tr th:only-of-type {\n",
       "        vertical-align: middle;\n",
       "    }\n",
       "\n",
       "    .dataframe tbody tr th {\n",
       "        vertical-align: top;\n",
       "    }\n",
       "\n",
       "    .dataframe thead th {\n",
       "        text-align: right;\n",
       "    }\n",
       "</style>\n",
       "<table border=\"1\" class=\"dataframe\">\n",
       "  <thead>\n",
       "    <tr style=\"text-align: right;\">\n",
       "      <th></th>\n",
       "      <th>respondent_id</th>\n",
       "      <th>age</th>\n",
       "      <th>gender</th>\n",
       "      <th>zone</th>\n",
       "      <th>occupation</th>\n",
       "      <th>income_levels</th>\n",
       "      <th>consume_frequency(weekly)</th>\n",
       "      <th>current_brand</th>\n",
       "      <th>preferable_consumption_size</th>\n",
       "      <th>awareness_of_other_brands</th>\n",
       "      <th>reasons_for_choosing_brands</th>\n",
       "      <th>flavor_preference</th>\n",
       "      <th>purchase_channel</th>\n",
       "      <th>packaging_preference</th>\n",
       "      <th>health_concerns</th>\n",
       "      <th>typical_consumption_situations</th>\n",
       "      <th>price_range</th>\n",
       "      <th>age_group</th>\n",
       "    </tr>\n",
       "  </thead>\n",
       "  <tbody>\n",
       "    <tr>\n",
       "      <th>0</th>\n",
       "      <td>R00001</td>\n",
       "      <td>30</td>\n",
       "      <td>M</td>\n",
       "      <td>Urban</td>\n",
       "      <td>Working Professional</td>\n",
       "      <td>&lt;10L</td>\n",
       "      <td>3-4 times</td>\n",
       "      <td>Newcomer</td>\n",
       "      <td>Medium (500 ml)</td>\n",
       "      <td>0 to 1</td>\n",
       "      <td>Price</td>\n",
       "      <td>Traditional</td>\n",
       "      <td>Online</td>\n",
       "      <td>Simple</td>\n",
       "      <td>Medium (Moderately health-conscious)</td>\n",
       "      <td>Active (eg. Sports, gym)</td>\n",
       "      <td>100-150</td>\n",
       "      <td>26-35</td>\n",
       "    </tr>\n",
       "    <tr>\n",
       "      <th>1</th>\n",
       "      <td>R00002</td>\n",
       "      <td>46</td>\n",
       "      <td>F</td>\n",
       "      <td>Metro</td>\n",
       "      <td>Working Professional</td>\n",
       "      <td>&gt; 35L</td>\n",
       "      <td>5-7 times</td>\n",
       "      <td>Established</td>\n",
       "      <td>Medium (500 ml)</td>\n",
       "      <td>2 to 4</td>\n",
       "      <td>Quality</td>\n",
       "      <td>Exotic</td>\n",
       "      <td>Retail Store</td>\n",
       "      <td>Premium</td>\n",
       "      <td>Medium (Moderately health-conscious)</td>\n",
       "      <td>Social (eg. Parties)</td>\n",
       "      <td>200-250</td>\n",
       "      <td>46-55</td>\n",
       "    </tr>\n",
       "  </tbody>\n",
       "</table>\n",
       "</div>"
      ],
      "text/plain": [
       "  respondent_id  age gender   zone            occupation income_levels  \\\n",
       "0        R00001   30      M  Urban  Working Professional          <10L   \n",
       "1        R00002   46      F  Metro  Working Professional         > 35L   \n",
       "\n",
       "  consume_frequency(weekly) current_brand preferable_consumption_size  \\\n",
       "0                 3-4 times      Newcomer             Medium (500 ml)   \n",
       "1                 5-7 times   Established             Medium (500 ml)   \n",
       "\n",
       "  awareness_of_other_brands reasons_for_choosing_brands flavor_preference  \\\n",
       "0                    0 to 1                       Price       Traditional   \n",
       "1                    2 to 4                     Quality            Exotic   \n",
       "\n",
       "  purchase_channel packaging_preference                       health_concerns  \\\n",
       "0           Online               Simple  Medium (Moderately health-conscious)   \n",
       "1     Retail Store              Premium  Medium (Moderately health-conscious)   \n",
       "\n",
       "  typical_consumption_situations price_range age_group  \n",
       "0       Active (eg. Sports, gym)     100-150     26-35  \n",
       "1           Social (eg. Parties)     200-250     46-55  "
      ]
     },
     "execution_count": 60,
     "metadata": {},
     "output_type": "execute_result"
    }
   ],
   "source": [
    "df2.head(2)"
   ]
  },
  {
   "cell_type": "code",
   "execution_count": 61,
   "id": "ddc32897-fbe3-4b10-a5dc-a1b54561ec6b",
   "metadata": {},
   "outputs": [],
   "source": [
    "# Step 2: Create cf_ab_score (Consume Frequency and Awareness Brand Score)\n",
    "# Define mapping\n",
    "consume_map = {\"0-2 times\":1, \"3-4 times\":2 , \"5-7 times\": 3}\n",
    "awareness_map = {\"0 to 1\":1, \"2 to 4\":2, \"above 4\":3}\n",
    "\n",
    "# Apply mapping\n",
    "df2[\"frequency_score\"] = df2[\"consume_frequency(weekly)\"].map(consume_map)\n",
    "df2[\"awareness_score\"] = df2[\"awareness_of_other_brands\"].map(awareness_map)\n",
    "\n",
    "# Calculate \"cf_ab_score\"\n",
    "df2[\"cf_ab_score\"] = round((df2[\"frequency_score\"]/(df2[\"frequency_score\"] + df2[\"awareness_score\"])), 2)\n",
    "\n",
    "# Drop helper columns if not needed \n",
    "df2.drop([\"frequency_score\",\"awareness_score\"], axis=1, inplace = True)"
   ]
  },
  {
   "cell_type": "code",
   "execution_count": 62,
   "id": "c2894332-fb31-46dd-9991-48dd0d566399",
   "metadata": {},
   "outputs": [
    {
     "data": {
      "text/html": [
       "<div>\n",
       "<style scoped>\n",
       "    .dataframe tbody tr th:only-of-type {\n",
       "        vertical-align: middle;\n",
       "    }\n",
       "\n",
       "    .dataframe tbody tr th {\n",
       "        vertical-align: top;\n",
       "    }\n",
       "\n",
       "    .dataframe thead th {\n",
       "        text-align: right;\n",
       "    }\n",
       "</style>\n",
       "<table border=\"1\" class=\"dataframe\">\n",
       "  <thead>\n",
       "    <tr style=\"text-align: right;\">\n",
       "      <th></th>\n",
       "      <th>respondent_id</th>\n",
       "      <th>age</th>\n",
       "      <th>gender</th>\n",
       "      <th>zone</th>\n",
       "      <th>occupation</th>\n",
       "      <th>income_levels</th>\n",
       "      <th>consume_frequency(weekly)</th>\n",
       "      <th>current_brand</th>\n",
       "      <th>preferable_consumption_size</th>\n",
       "      <th>awareness_of_other_brands</th>\n",
       "      <th>reasons_for_choosing_brands</th>\n",
       "      <th>flavor_preference</th>\n",
       "      <th>purchase_channel</th>\n",
       "      <th>packaging_preference</th>\n",
       "      <th>health_concerns</th>\n",
       "      <th>typical_consumption_situations</th>\n",
       "      <th>price_range</th>\n",
       "      <th>age_group</th>\n",
       "      <th>cf_ab_score</th>\n",
       "    </tr>\n",
       "  </thead>\n",
       "  <tbody>\n",
       "    <tr>\n",
       "      <th>0</th>\n",
       "      <td>R00001</td>\n",
       "      <td>30</td>\n",
       "      <td>M</td>\n",
       "      <td>Urban</td>\n",
       "      <td>Working Professional</td>\n",
       "      <td>&lt;10L</td>\n",
       "      <td>3-4 times</td>\n",
       "      <td>Newcomer</td>\n",
       "      <td>Medium (500 ml)</td>\n",
       "      <td>0 to 1</td>\n",
       "      <td>Price</td>\n",
       "      <td>Traditional</td>\n",
       "      <td>Online</td>\n",
       "      <td>Simple</td>\n",
       "      <td>Medium (Moderately health-conscious)</td>\n",
       "      <td>Active (eg. Sports, gym)</td>\n",
       "      <td>100-150</td>\n",
       "      <td>26-35</td>\n",
       "      <td>0.67</td>\n",
       "    </tr>\n",
       "    <tr>\n",
       "      <th>1</th>\n",
       "      <td>R00002</td>\n",
       "      <td>46</td>\n",
       "      <td>F</td>\n",
       "      <td>Metro</td>\n",
       "      <td>Working Professional</td>\n",
       "      <td>&gt; 35L</td>\n",
       "      <td>5-7 times</td>\n",
       "      <td>Established</td>\n",
       "      <td>Medium (500 ml)</td>\n",
       "      <td>2 to 4</td>\n",
       "      <td>Quality</td>\n",
       "      <td>Exotic</td>\n",
       "      <td>Retail Store</td>\n",
       "      <td>Premium</td>\n",
       "      <td>Medium (Moderately health-conscious)</td>\n",
       "      <td>Social (eg. Parties)</td>\n",
       "      <td>200-250</td>\n",
       "      <td>46-55</td>\n",
       "      <td>0.60</td>\n",
       "    </tr>\n",
       "  </tbody>\n",
       "</table>\n",
       "</div>"
      ],
      "text/plain": [
       "  respondent_id  age gender   zone            occupation income_levels  \\\n",
       "0        R00001   30      M  Urban  Working Professional          <10L   \n",
       "1        R00002   46      F  Metro  Working Professional         > 35L   \n",
       "\n",
       "  consume_frequency(weekly) current_brand preferable_consumption_size  \\\n",
       "0                 3-4 times      Newcomer             Medium (500 ml)   \n",
       "1                 5-7 times   Established             Medium (500 ml)   \n",
       "\n",
       "  awareness_of_other_brands reasons_for_choosing_brands flavor_preference  \\\n",
       "0                    0 to 1                       Price       Traditional   \n",
       "1                    2 to 4                     Quality            Exotic   \n",
       "\n",
       "  purchase_channel packaging_preference                       health_concerns  \\\n",
       "0           Online               Simple  Medium (Moderately health-conscious)   \n",
       "1     Retail Store              Premium  Medium (Moderately health-conscious)   \n",
       "\n",
       "  typical_consumption_situations price_range age_group  cf_ab_score  \n",
       "0       Active (eg. Sports, gym)     100-150     26-35         0.67  \n",
       "1           Social (eg. Parties)     200-250     46-55         0.60  "
      ]
     },
     "execution_count": 62,
     "metadata": {},
     "output_type": "execute_result"
    }
   ],
   "source": [
    "df2.head(2)"
   ]
  },
  {
   "cell_type": "code",
   "execution_count": 63,
   "id": "f68e5d7c-131d-4db0-a8d7-6e195a393e24",
   "metadata": {},
   "outputs": [
    {
     "data": {
      "text/plain": [
       "respondent_id                     0\n",
       "age                               0\n",
       "gender                            0\n",
       "zone                              0\n",
       "occupation                        0\n",
       "income_levels                     0\n",
       "consume_frequency(weekly)         0\n",
       "current_brand                     0\n",
       "preferable_consumption_size       0\n",
       "awareness_of_other_brands         0\n",
       "reasons_for_choosing_brands       0\n",
       "flavor_preference                 0\n",
       "purchase_channel                  0\n",
       "packaging_preference              0\n",
       "health_concerns                   0\n",
       "typical_consumption_situations    0\n",
       "price_range                       0\n",
       "age_group                         0\n",
       "cf_ab_score                       0\n",
       "dtype: int64"
      ]
     },
     "execution_count": 63,
     "metadata": {},
     "output_type": "execute_result"
    }
   ],
   "source": [
    "df2.isnull().sum()"
   ]
  },
  {
   "cell_type": "code",
   "execution_count": 64,
   "id": "2b2f70de-c6a0-4575-a9fd-5bcca9f8f631",
   "metadata": {},
   "outputs": [
    {
     "data": {
      "text/plain": [
       "cf_ab_score\n",
       "0.50    10244\n",
       "0.67     5094\n",
       "0.75     4043\n",
       "0.60     3756\n",
       "0.33     3029\n",
       "0.40     2260\n",
       "0.25     1565\n",
       "Name: count, dtype: int64"
      ]
     },
     "execution_count": 64,
     "metadata": {},
     "output_type": "execute_result"
    }
   ],
   "source": [
    "df2['cf_ab_score'].value_counts()"
   ]
  },
  {
   "cell_type": "code",
   "execution_count": 65,
   "id": "361fb473-2c4e-464a-af82-055354e5e56f",
   "metadata": {},
   "outputs": [
    {
     "data": {
      "text/plain": [
       "0.75"
      ]
     },
     "execution_count": 65,
     "metadata": {},
     "output_type": "execute_result"
    }
   ],
   "source": [
    "df2['cf_ab_score'].max()"
   ]
  },
  {
   "cell_type": "code",
   "execution_count": 66,
   "id": "18af87b6-1b1c-4aa6-a81c-28f920cb8cb9",
   "metadata": {},
   "outputs": [
    {
     "name": "stdout",
     "output_type": "stream",
     "text": [
      "******************************************************************************************************************************************************\n"
     ]
    }
   ],
   "source": [
    "print('*'*150)"
   ]
  },
  {
   "cell_type": "raw",
   "id": "48690892-5425-436c-a75f-639a3877b58e",
   "metadata": {},
   "source": [
    "**Step 3: Create Zone Affluence Score (ZAS)**\n",
    "Objective: Calculate the `zas_score` using a combination of the `zone` and\n",
    "`income_levels` columns.\n",
    "● Use the following mappings for the zone column:\n",
    "○ \"Urban\" → 3\n",
    "○ \"Metro\" → 4\n",
    "○ \"Rural\" → 1\n",
    "○ \"Semi-Urban\" → 2\n",
    "● Use the following mappings for the income_levels column:\n",
    "○ \"<10L\" → 1\n",
    "○ \"10L - 15L\" → 2\n",
    "○ \"16L - 25L\" → 3\n",
    "○ \"26L - 35L\" → 4\n",
    "○ \"> 35L\" → 5\n",
    "○ \"Not Reported\" → 0\n",
    "● Calculate the zas_score using the following formula:\n",
    "---------------------------------------------------------------------------------------------------------------------"
   ]
  },
  {
   "cell_type": "code",
   "execution_count": 67,
   "id": "c51705f8-5208-4dd8-a982-022f8c557493",
   "metadata": {},
   "outputs": [
    {
     "data": {
      "text/plain": [
       "zone\n",
       "Metro         11910\n",
       "Urban         10691\n",
       "Semi-Urban     5274\n",
       "Rural          2116\n",
       "Name: count, dtype: int64"
      ]
     },
     "execution_count": 67,
     "metadata": {},
     "output_type": "execute_result"
    }
   ],
   "source": [
    "df2.zone.value_counts()"
   ]
  },
  {
   "cell_type": "code",
   "execution_count": 68,
   "id": "c1561324-522a-4fb3-9c91-8cb44c194ce9",
   "metadata": {},
   "outputs": [
    {
     "data": {
      "text/plain": [
       "income_levels\n",
       "Not Reported    8060\n",
       "16L - 25L       5897\n",
       "10L - 15L       5251\n",
       "<10L            4661\n",
       "26L - 35L       3872\n",
       "> 35L           2250\n",
       "Name: count, dtype: int64"
      ]
     },
     "execution_count": 68,
     "metadata": {},
     "output_type": "execute_result"
    }
   ],
   "source": [
    "df2.income_levels.value_counts()"
   ]
  },
  {
   "cell_type": "code",
   "execution_count": 69,
   "id": "eb1f1fd1-24e2-4896-92ad-1bf6ec280cc2",
   "metadata": {},
   "outputs": [],
   "source": [
    "# Define mappings \n",
    "zone_map = {\"Rural\":1, \"Semi-Urban\":2, \"Urban\":3, \"Metro\":4}\n",
    "income_map={\"Not Reported\":0, \"<10L\":1, \"10L - 15L\":2, \"16L - 25L\":3, \"26L - 35L\":4, \"> 35L\":5}\n",
    "\n",
    "# Apply mappings\n",
    "df2['zone_score'] = df2['zone'].map(zone_map)\n",
    "df2['income_score']=df2['income_levels'].map(income_map)\n",
    "\n",
    "# Calculate zas_score\n",
    "df2['zas_score']=df2['zone_score']*df2['income_score']\n",
    "\n",
    "# Drop helper columns zone_score and income_score\n",
    "df2.drop(['zone_score','income_score'], axis=1, inplace=True)"
   ]
  },
  {
   "cell_type": "code",
   "execution_count": 70,
   "id": "87dfbef0-73fe-45fb-add6-8fc15e46075f",
   "metadata": {},
   "outputs": [
    {
     "data": {
      "text/html": [
       "<div>\n",
       "<style scoped>\n",
       "    .dataframe tbody tr th:only-of-type {\n",
       "        vertical-align: middle;\n",
       "    }\n",
       "\n",
       "    .dataframe tbody tr th {\n",
       "        vertical-align: top;\n",
       "    }\n",
       "\n",
       "    .dataframe thead th {\n",
       "        text-align: right;\n",
       "    }\n",
       "</style>\n",
       "<table border=\"1\" class=\"dataframe\">\n",
       "  <thead>\n",
       "    <tr style=\"text-align: right;\">\n",
       "      <th></th>\n",
       "      <th>respondent_id</th>\n",
       "      <th>age</th>\n",
       "      <th>gender</th>\n",
       "      <th>zone</th>\n",
       "      <th>occupation</th>\n",
       "      <th>income_levels</th>\n",
       "      <th>consume_frequency(weekly)</th>\n",
       "      <th>current_brand</th>\n",
       "      <th>preferable_consumption_size</th>\n",
       "      <th>awareness_of_other_brands</th>\n",
       "      <th>reasons_for_choosing_brands</th>\n",
       "      <th>flavor_preference</th>\n",
       "      <th>purchase_channel</th>\n",
       "      <th>packaging_preference</th>\n",
       "      <th>health_concerns</th>\n",
       "      <th>typical_consumption_situations</th>\n",
       "      <th>price_range</th>\n",
       "      <th>age_group</th>\n",
       "      <th>cf_ab_score</th>\n",
       "      <th>zas_score</th>\n",
       "    </tr>\n",
       "  </thead>\n",
       "  <tbody>\n",
       "    <tr>\n",
       "      <th>0</th>\n",
       "      <td>R00001</td>\n",
       "      <td>30</td>\n",
       "      <td>M</td>\n",
       "      <td>Urban</td>\n",
       "      <td>Working Professional</td>\n",
       "      <td>&lt;10L</td>\n",
       "      <td>3-4 times</td>\n",
       "      <td>Newcomer</td>\n",
       "      <td>Medium (500 ml)</td>\n",
       "      <td>0 to 1</td>\n",
       "      <td>Price</td>\n",
       "      <td>Traditional</td>\n",
       "      <td>Online</td>\n",
       "      <td>Simple</td>\n",
       "      <td>Medium (Moderately health-conscious)</td>\n",
       "      <td>Active (eg. Sports, gym)</td>\n",
       "      <td>100-150</td>\n",
       "      <td>26-35</td>\n",
       "      <td>0.67</td>\n",
       "      <td>3</td>\n",
       "    </tr>\n",
       "    <tr>\n",
       "      <th>1</th>\n",
       "      <td>R00002</td>\n",
       "      <td>46</td>\n",
       "      <td>F</td>\n",
       "      <td>Metro</td>\n",
       "      <td>Working Professional</td>\n",
       "      <td>&gt; 35L</td>\n",
       "      <td>5-7 times</td>\n",
       "      <td>Established</td>\n",
       "      <td>Medium (500 ml)</td>\n",
       "      <td>2 to 4</td>\n",
       "      <td>Quality</td>\n",
       "      <td>Exotic</td>\n",
       "      <td>Retail Store</td>\n",
       "      <td>Premium</td>\n",
       "      <td>Medium (Moderately health-conscious)</td>\n",
       "      <td>Social (eg. Parties)</td>\n",
       "      <td>200-250</td>\n",
       "      <td>46-55</td>\n",
       "      <td>0.60</td>\n",
       "      <td>20</td>\n",
       "    </tr>\n",
       "  </tbody>\n",
       "</table>\n",
       "</div>"
      ],
      "text/plain": [
       "  respondent_id  age gender   zone            occupation income_levels  \\\n",
       "0        R00001   30      M  Urban  Working Professional          <10L   \n",
       "1        R00002   46      F  Metro  Working Professional         > 35L   \n",
       "\n",
       "  consume_frequency(weekly) current_brand preferable_consumption_size  \\\n",
       "0                 3-4 times      Newcomer             Medium (500 ml)   \n",
       "1                 5-7 times   Established             Medium (500 ml)   \n",
       "\n",
       "  awareness_of_other_brands reasons_for_choosing_brands flavor_preference  \\\n",
       "0                    0 to 1                       Price       Traditional   \n",
       "1                    2 to 4                     Quality            Exotic   \n",
       "\n",
       "  purchase_channel packaging_preference                       health_concerns  \\\n",
       "0           Online               Simple  Medium (Moderately health-conscious)   \n",
       "1     Retail Store              Premium  Medium (Moderately health-conscious)   \n",
       "\n",
       "  typical_consumption_situations price_range age_group  cf_ab_score  zas_score  \n",
       "0       Active (eg. Sports, gym)     100-150     26-35         0.67          3  \n",
       "1           Social (eg. Parties)     200-250     46-55         0.60         20  "
      ]
     },
     "execution_count": 70,
     "metadata": {},
     "output_type": "execute_result"
    }
   ],
   "source": [
    "df2.head(2)"
   ]
  },
  {
   "cell_type": "code",
   "execution_count": 71,
   "id": "6a05c7fb-66b9-4343-8f80-4d6e268e3b39",
   "metadata": {},
   "outputs": [
    {
     "data": {
      "text/plain": [
       "array([ 3, 20,  5,  9,  0,  6, 12,  2,  4,  8, 15, 16,  1, 10],\n",
       "      dtype=int64)"
      ]
     },
     "execution_count": 71,
     "metadata": {},
     "output_type": "execute_result"
    }
   ],
   "source": [
    "df2['zas_score'].unique()"
   ]
  },
  {
   "cell_type": "code",
   "execution_count": 72,
   "id": "7d6dd542-b63b-41ad-8f01-c5ae307e35ff",
   "metadata": {},
   "outputs": [
    {
     "data": {
      "text/plain": [
       "zas_score\n",
       "0     8060\n",
       "12    3671\n",
       "4     3082\n",
       "6     2991\n",
       "8     2739\n",
       "3     2085\n",
       "9     2041\n",
       "16    1508\n",
       "2     1257\n",
       "20     921\n",
       "15     807\n",
       "10     379\n",
       "1      307\n",
       "5      143\n",
       "Name: count, dtype: int64"
      ]
     },
     "execution_count": 72,
     "metadata": {},
     "output_type": "execute_result"
    }
   ],
   "source": [
    "df2['zas_score'].value_counts()"
   ]
  },
  {
   "cell_type": "code",
   "execution_count": 73,
   "id": "cc817bc3-7442-4c5b-8b15-ead1ecfabb5b",
   "metadata": {},
   "outputs": [
    {
     "name": "stdout",
     "output_type": "stream",
     "text": [
      "******************************************************************************************************************************************************\n"
     ]
    }
   ],
   "source": [
    "print('*'*150)"
   ]
  },
  {
   "cell_type": "raw",
   "id": "83955e71-43a6-4074-aa71-b3ce3949824f",
   "metadata": {},
   "source": [
    "---------------------------------------------------------------------------------------------------------------------\n",
    "Step 4: Brand Switching Indicator (BSI)\n",
    "Objective: Create a binary indicator column `bsi` that identifies if a respondent is\n",
    "likely to switch brands.\n",
    "codebasics.io\n",
    "● Check if the respondent’s current_brand is not \"Established\".\n",
    "● Also check if the reasons_for_choosing_brands are either \"Price\" or\n",
    "\"Quality\".\n",
    "● If both conditions are true, assign a value of 1 to indicate potential for brand\n",
    "switching. Otherwise, assign 0.\n",
    "---------------------------------------------------------------------------------------------------------------------"
   ]
  },
  {
   "cell_type": "code",
   "execution_count": 74,
   "id": "58461cc6-b817-4dc2-93d4-ad9c669d7199",
   "metadata": {},
   "outputs": [
    {
     "data": {
      "text/html": [
       "<div>\n",
       "<style scoped>\n",
       "    .dataframe tbody tr th:only-of-type {\n",
       "        vertical-align: middle;\n",
       "    }\n",
       "\n",
       "    .dataframe tbody tr th {\n",
       "        vertical-align: top;\n",
       "    }\n",
       "\n",
       "    .dataframe thead th {\n",
       "        text-align: right;\n",
       "    }\n",
       "</style>\n",
       "<table border=\"1\" class=\"dataframe\">\n",
       "  <thead>\n",
       "    <tr style=\"text-align: right;\">\n",
       "      <th></th>\n",
       "      <th>respondent_id</th>\n",
       "      <th>age</th>\n",
       "      <th>gender</th>\n",
       "      <th>zone</th>\n",
       "      <th>occupation</th>\n",
       "      <th>income_levels</th>\n",
       "      <th>consume_frequency(weekly)</th>\n",
       "      <th>current_brand</th>\n",
       "      <th>preferable_consumption_size</th>\n",
       "      <th>awareness_of_other_brands</th>\n",
       "      <th>reasons_for_choosing_brands</th>\n",
       "      <th>flavor_preference</th>\n",
       "      <th>purchase_channel</th>\n",
       "      <th>packaging_preference</th>\n",
       "      <th>health_concerns</th>\n",
       "      <th>typical_consumption_situations</th>\n",
       "      <th>price_range</th>\n",
       "      <th>age_group</th>\n",
       "      <th>cf_ab_score</th>\n",
       "      <th>zas_score</th>\n",
       "    </tr>\n",
       "  </thead>\n",
       "  <tbody>\n",
       "    <tr>\n",
       "      <th>0</th>\n",
       "      <td>R00001</td>\n",
       "      <td>30</td>\n",
       "      <td>M</td>\n",
       "      <td>Urban</td>\n",
       "      <td>Working Professional</td>\n",
       "      <td>&lt;10L</td>\n",
       "      <td>3-4 times</td>\n",
       "      <td>Newcomer</td>\n",
       "      <td>Medium (500 ml)</td>\n",
       "      <td>0 to 1</td>\n",
       "      <td>Price</td>\n",
       "      <td>Traditional</td>\n",
       "      <td>Online</td>\n",
       "      <td>Simple</td>\n",
       "      <td>Medium (Moderately health-conscious)</td>\n",
       "      <td>Active (eg. Sports, gym)</td>\n",
       "      <td>100-150</td>\n",
       "      <td>26-35</td>\n",
       "      <td>0.67</td>\n",
       "      <td>3</td>\n",
       "    </tr>\n",
       "    <tr>\n",
       "      <th>2</th>\n",
       "      <td>R00003</td>\n",
       "      <td>41</td>\n",
       "      <td>F</td>\n",
       "      <td>Rural</td>\n",
       "      <td>Working Professional</td>\n",
       "      <td>&gt; 35L</td>\n",
       "      <td>3-4 times</td>\n",
       "      <td>Newcomer</td>\n",
       "      <td>Medium (500 ml)</td>\n",
       "      <td>2 to 4</td>\n",
       "      <td>Availability</td>\n",
       "      <td>Traditional</td>\n",
       "      <td>Retail Store</td>\n",
       "      <td>Premium</td>\n",
       "      <td>Medium (Moderately health-conscious)</td>\n",
       "      <td>Active (eg. Sports, gym)</td>\n",
       "      <td>200-250</td>\n",
       "      <td>36-45</td>\n",
       "      <td>0.50</td>\n",
       "      <td>5</td>\n",
       "    </tr>\n",
       "    <tr>\n",
       "      <th>3</th>\n",
       "      <td>R00004</td>\n",
       "      <td>33</td>\n",
       "      <td>F</td>\n",
       "      <td>Urban</td>\n",
       "      <td>Working Professional</td>\n",
       "      <td>16L - 25L</td>\n",
       "      <td>5-7 times</td>\n",
       "      <td>Newcomer</td>\n",
       "      <td>Medium (500 ml)</td>\n",
       "      <td>0 to 1</td>\n",
       "      <td>Brand Reputation</td>\n",
       "      <td>Exotic</td>\n",
       "      <td>Online</td>\n",
       "      <td>Eco-Friendly</td>\n",
       "      <td>Low (Not very concerned)</td>\n",
       "      <td>Active (eg. Sports, gym)</td>\n",
       "      <td>150-200</td>\n",
       "      <td>26-35</td>\n",
       "      <td>0.75</td>\n",
       "      <td>9</td>\n",
       "    </tr>\n",
       "    <tr>\n",
       "      <th>6</th>\n",
       "      <td>R00007</td>\n",
       "      <td>45</td>\n",
       "      <td>F</td>\n",
       "      <td>Urban</td>\n",
       "      <td>Entrepreneur</td>\n",
       "      <td>10L - 15L</td>\n",
       "      <td>5-7 times</td>\n",
       "      <td>Newcomer</td>\n",
       "      <td>Medium (500 ml)</td>\n",
       "      <td>2 to 4</td>\n",
       "      <td>Price</td>\n",
       "      <td>Traditional</td>\n",
       "      <td>Online</td>\n",
       "      <td>Premium</td>\n",
       "      <td>High (Very health-conscious)</td>\n",
       "      <td>Social (eg. Parties)</td>\n",
       "      <td>200-250</td>\n",
       "      <td>36-45</td>\n",
       "      <td>0.60</td>\n",
       "      <td>6</td>\n",
       "    </tr>\n",
       "    <tr>\n",
       "      <th>8</th>\n",
       "      <td>R00009</td>\n",
       "      <td>27</td>\n",
       "      <td>F</td>\n",
       "      <td>Semi-Urban</td>\n",
       "      <td>Working Professional</td>\n",
       "      <td>&lt;10L</td>\n",
       "      <td>5-7 times</td>\n",
       "      <td>Newcomer</td>\n",
       "      <td>Small (250 ml)</td>\n",
       "      <td>2 to 4</td>\n",
       "      <td>Availability</td>\n",
       "      <td>Exotic</td>\n",
       "      <td>Retail Store</td>\n",
       "      <td>Eco-Friendly</td>\n",
       "      <td>Medium (Moderately health-conscious)</td>\n",
       "      <td>Social (eg. Parties)</td>\n",
       "      <td>100-150</td>\n",
       "      <td>26-35</td>\n",
       "      <td>0.60</td>\n",
       "      <td>2</td>\n",
       "    </tr>\n",
       "    <tr>\n",
       "      <th>...</th>\n",
       "      <td>...</td>\n",
       "      <td>...</td>\n",
       "      <td>...</td>\n",
       "      <td>...</td>\n",
       "      <td>...</td>\n",
       "      <td>...</td>\n",
       "      <td>...</td>\n",
       "      <td>...</td>\n",
       "      <td>...</td>\n",
       "      <td>...</td>\n",
       "      <td>...</td>\n",
       "      <td>...</td>\n",
       "      <td>...</td>\n",
       "      <td>...</td>\n",
       "      <td>...</td>\n",
       "      <td>...</td>\n",
       "      <td>...</td>\n",
       "      <td>...</td>\n",
       "      <td>...</td>\n",
       "      <td>...</td>\n",
       "    </tr>\n",
       "    <tr>\n",
       "      <th>29995</th>\n",
       "      <td>R29986</td>\n",
       "      <td>24</td>\n",
       "      <td>F</td>\n",
       "      <td>Metro</td>\n",
       "      <td>Student</td>\n",
       "      <td>Not Reported</td>\n",
       "      <td>5-7 times</td>\n",
       "      <td>Newcomer</td>\n",
       "      <td>Small (250 ml)</td>\n",
       "      <td>0 to 1</td>\n",
       "      <td>Price</td>\n",
       "      <td>Traditional</td>\n",
       "      <td>Online</td>\n",
       "      <td>Premium</td>\n",
       "      <td>Low (Not very concerned)</td>\n",
       "      <td>Social (eg. Parties)</td>\n",
       "      <td>100-150</td>\n",
       "      <td>18-25</td>\n",
       "      <td>0.75</td>\n",
       "      <td>0</td>\n",
       "    </tr>\n",
       "    <tr>\n",
       "      <th>30001</th>\n",
       "      <td>R29992</td>\n",
       "      <td>23</td>\n",
       "      <td>F</td>\n",
       "      <td>Metro</td>\n",
       "      <td>Working Professional</td>\n",
       "      <td>16L - 25L</td>\n",
       "      <td>0-2 times</td>\n",
       "      <td>Newcomer</td>\n",
       "      <td>Medium (500 ml)</td>\n",
       "      <td>above 4</td>\n",
       "      <td>Availability</td>\n",
       "      <td>Exotic</td>\n",
       "      <td>Online</td>\n",
       "      <td>Eco-Friendly</td>\n",
       "      <td>High (Very health-conscious)</td>\n",
       "      <td>Casual (eg. At home)</td>\n",
       "      <td>200-250</td>\n",
       "      <td>18-25</td>\n",
       "      <td>0.25</td>\n",
       "      <td>12</td>\n",
       "    </tr>\n",
       "    <tr>\n",
       "      <th>30004</th>\n",
       "      <td>R29995</td>\n",
       "      <td>67</td>\n",
       "      <td>M</td>\n",
       "      <td>Semi-Urban</td>\n",
       "      <td>Retired</td>\n",
       "      <td>&lt;10L</td>\n",
       "      <td>5-7 times</td>\n",
       "      <td>Newcomer</td>\n",
       "      <td>Small (250 ml)</td>\n",
       "      <td>2 to 4</td>\n",
       "      <td>Availability</td>\n",
       "      <td>Exotic</td>\n",
       "      <td>Retail Store</td>\n",
       "      <td>Premium</td>\n",
       "      <td>Medium (Moderately health-conscious)</td>\n",
       "      <td>Active (eg. Sports, gym)</td>\n",
       "      <td>150-200</td>\n",
       "      <td>56-70</td>\n",
       "      <td>0.60</td>\n",
       "      <td>2</td>\n",
       "    </tr>\n",
       "    <tr>\n",
       "      <th>30005</th>\n",
       "      <td>R29996</td>\n",
       "      <td>29</td>\n",
       "      <td>M</td>\n",
       "      <td>Metro</td>\n",
       "      <td>Working Professional</td>\n",
       "      <td>16L - 25L</td>\n",
       "      <td>3-4 times</td>\n",
       "      <td>Newcomer</td>\n",
       "      <td>Medium (500 ml)</td>\n",
       "      <td>2 to 4</td>\n",
       "      <td>Availability</td>\n",
       "      <td>Traditional</td>\n",
       "      <td>Online</td>\n",
       "      <td>Simple</td>\n",
       "      <td>High (Very health-conscious)</td>\n",
       "      <td>Social (eg. Parties)</td>\n",
       "      <td>150-200</td>\n",
       "      <td>26-35</td>\n",
       "      <td>0.50</td>\n",
       "      <td>12</td>\n",
       "    </tr>\n",
       "    <tr>\n",
       "      <th>30009</th>\n",
       "      <td>R30000</td>\n",
       "      <td>26</td>\n",
       "      <td>M</td>\n",
       "      <td>Metro</td>\n",
       "      <td>Student</td>\n",
       "      <td>Not Reported</td>\n",
       "      <td>5-7 times</td>\n",
       "      <td>Newcomer</td>\n",
       "      <td>Medium (500 ml)</td>\n",
       "      <td>above 4</td>\n",
       "      <td>Price</td>\n",
       "      <td>Traditional</td>\n",
       "      <td>Retail Store</td>\n",
       "      <td>Simple</td>\n",
       "      <td>High (Very health-conscious)</td>\n",
       "      <td>Social (eg. Parties)</td>\n",
       "      <td>150-200</td>\n",
       "      <td>26-35</td>\n",
       "      <td>0.50</td>\n",
       "      <td>0</td>\n",
       "    </tr>\n",
       "  </tbody>\n",
       "</table>\n",
       "<p>14529 rows × 20 columns</p>\n",
       "</div>"
      ],
      "text/plain": [
       "      respondent_id  age gender        zone            occupation  \\\n",
       "0            R00001   30      M       Urban  Working Professional   \n",
       "2            R00003   41      F       Rural  Working Professional   \n",
       "3            R00004   33      F       Urban  Working Professional   \n",
       "6            R00007   45      F       Urban          Entrepreneur   \n",
       "8            R00009   27      F  Semi-Urban  Working Professional   \n",
       "...             ...  ...    ...         ...                   ...   \n",
       "29995        R29986   24      F       Metro               Student   \n",
       "30001        R29992   23      F       Metro  Working Professional   \n",
       "30004        R29995   67      M  Semi-Urban               Retired   \n",
       "30005        R29996   29      M       Metro  Working Professional   \n",
       "30009        R30000   26      M       Metro               Student   \n",
       "\n",
       "      income_levels consume_frequency(weekly) current_brand  \\\n",
       "0              <10L                 3-4 times      Newcomer   \n",
       "2             > 35L                 3-4 times      Newcomer   \n",
       "3         16L - 25L                 5-7 times      Newcomer   \n",
       "6         10L - 15L                 5-7 times      Newcomer   \n",
       "8              <10L                 5-7 times      Newcomer   \n",
       "...             ...                       ...           ...   \n",
       "29995  Not Reported                 5-7 times      Newcomer   \n",
       "30001     16L - 25L                 0-2 times      Newcomer   \n",
       "30004          <10L                 5-7 times      Newcomer   \n",
       "30005     16L - 25L                 3-4 times      Newcomer   \n",
       "30009  Not Reported                 5-7 times      Newcomer   \n",
       "\n",
       "      preferable_consumption_size awareness_of_other_brands  \\\n",
       "0                 Medium (500 ml)                    0 to 1   \n",
       "2                 Medium (500 ml)                    2 to 4   \n",
       "3                 Medium (500 ml)                    0 to 1   \n",
       "6                 Medium (500 ml)                    2 to 4   \n",
       "8                  Small (250 ml)                    2 to 4   \n",
       "...                           ...                       ...   \n",
       "29995              Small (250 ml)                    0 to 1   \n",
       "30001             Medium (500 ml)                   above 4   \n",
       "30004              Small (250 ml)                    2 to 4   \n",
       "30005             Medium (500 ml)                    2 to 4   \n",
       "30009             Medium (500 ml)                   above 4   \n",
       "\n",
       "      reasons_for_choosing_brands flavor_preference purchase_channel  \\\n",
       "0                           Price       Traditional           Online   \n",
       "2                    Availability       Traditional     Retail Store   \n",
       "3                Brand Reputation            Exotic           Online   \n",
       "6                           Price       Traditional           Online   \n",
       "8                    Availability            Exotic     Retail Store   \n",
       "...                           ...               ...              ...   \n",
       "29995                       Price       Traditional           Online   \n",
       "30001                Availability            Exotic           Online   \n",
       "30004                Availability            Exotic     Retail Store   \n",
       "30005                Availability       Traditional           Online   \n",
       "30009                       Price       Traditional     Retail Store   \n",
       "\n",
       "      packaging_preference                       health_concerns  \\\n",
       "0                   Simple  Medium (Moderately health-conscious)   \n",
       "2                  Premium  Medium (Moderately health-conscious)   \n",
       "3             Eco-Friendly              Low (Not very concerned)   \n",
       "6                  Premium          High (Very health-conscious)   \n",
       "8             Eco-Friendly  Medium (Moderately health-conscious)   \n",
       "...                    ...                                   ...   \n",
       "29995              Premium              Low (Not very concerned)   \n",
       "30001         Eco-Friendly          High (Very health-conscious)   \n",
       "30004              Premium  Medium (Moderately health-conscious)   \n",
       "30005               Simple          High (Very health-conscious)   \n",
       "30009               Simple          High (Very health-conscious)   \n",
       "\n",
       "      typical_consumption_situations price_range age_group  cf_ab_score  \\\n",
       "0           Active (eg. Sports, gym)     100-150     26-35         0.67   \n",
       "2           Active (eg. Sports, gym)     200-250     36-45         0.50   \n",
       "3           Active (eg. Sports, gym)     150-200     26-35         0.75   \n",
       "6               Social (eg. Parties)     200-250     36-45         0.60   \n",
       "8               Social (eg. Parties)     100-150     26-35         0.60   \n",
       "...                              ...         ...       ...          ...   \n",
       "29995           Social (eg. Parties)     100-150     18-25         0.75   \n",
       "30001           Casual (eg. At home)     200-250     18-25         0.25   \n",
       "30004       Active (eg. Sports, gym)     150-200     56-70         0.60   \n",
       "30005           Social (eg. Parties)     150-200     26-35         0.50   \n",
       "30009           Social (eg. Parties)     150-200     26-35         0.50   \n",
       "\n",
       "       zas_score  \n",
       "0              3  \n",
       "2              5  \n",
       "3              9  \n",
       "6              6  \n",
       "8              2  \n",
       "...          ...  \n",
       "29995          0  \n",
       "30001         12  \n",
       "30004          2  \n",
       "30005         12  \n",
       "30009          0  \n",
       "\n",
       "[14529 rows x 20 columns]"
      ]
     },
     "execution_count": 74,
     "metadata": {},
     "output_type": "execute_result"
    }
   ],
   "source": [
    "df2[(df2['current_brand']!='Established')]"
   ]
  },
  {
   "cell_type": "code",
   "execution_count": 75,
   "id": "33e626fe-07d8-400f-93e4-95c4d8574838",
   "metadata": {},
   "outputs": [
    {
     "data": {
      "text/plain": [
       "reasons_for_choosing_brands\n",
       "Price               14138\n",
       "Availability         6590\n",
       "Brand Reputation     4661\n",
       "Quality              4602\n",
       "Name: count, dtype: int64"
      ]
     },
     "execution_count": 75,
     "metadata": {},
     "output_type": "execute_result"
    }
   ],
   "source": [
    "df2['reasons_for_choosing_brands'].value_counts()"
   ]
  },
  {
   "cell_type": "code",
   "execution_count": 76,
   "id": "16285c1e-5bb1-46ba-b37f-1cabc9cca519",
   "metadata": {},
   "outputs": [
    {
     "data": {
      "text/plain": [
       "(18740, 20)"
      ]
     },
     "execution_count": 76,
     "metadata": {},
     "output_type": "execute_result"
    }
   ],
   "source": [
    "# check if the reasons_for_choosing_brands are either \"Price\" or\"Quality\".\n",
    "df2[df2['reasons_for_choosing_brands'].isin([\"Price\",\"Quality\"])].shape"
   ]
  },
  {
   "cell_type": "code",
   "execution_count": 77,
   "id": "eb336342-d9ba-4e45-9947-c5370bfa1924",
   "metadata": {},
   "outputs": [],
   "source": [
    "# Create a column of bsi with AND conditions , True when both are True else False , rows with not established brand and having either 'Price' or 'Quality' in \"reasons_for_choosing _brand\"\n",
    "df2['bsi']=((df2['current_brand']!='Established') & (df2['reasons_for_choosing_brands'].isin(['Price','Quality']))).astype(int)"
   ]
  },
  {
   "cell_type": "code",
   "execution_count": 78,
   "id": "54548065-dd1b-492b-8e84-36a2084fca2d",
   "metadata": {},
   "outputs": [
    {
     "data": {
      "text/html": [
       "<div>\n",
       "<style scoped>\n",
       "    .dataframe tbody tr th:only-of-type {\n",
       "        vertical-align: middle;\n",
       "    }\n",
       "\n",
       "    .dataframe tbody tr th {\n",
       "        vertical-align: top;\n",
       "    }\n",
       "\n",
       "    .dataframe thead th {\n",
       "        text-align: right;\n",
       "    }\n",
       "</style>\n",
       "<table border=\"1\" class=\"dataframe\">\n",
       "  <thead>\n",
       "    <tr style=\"text-align: right;\">\n",
       "      <th></th>\n",
       "      <th>respondent_id</th>\n",
       "      <th>age</th>\n",
       "      <th>gender</th>\n",
       "      <th>zone</th>\n",
       "      <th>occupation</th>\n",
       "      <th>income_levels</th>\n",
       "      <th>consume_frequency(weekly)</th>\n",
       "      <th>current_brand</th>\n",
       "      <th>preferable_consumption_size</th>\n",
       "      <th>awareness_of_other_brands</th>\n",
       "      <th>...</th>\n",
       "      <th>flavor_preference</th>\n",
       "      <th>purchase_channel</th>\n",
       "      <th>packaging_preference</th>\n",
       "      <th>health_concerns</th>\n",
       "      <th>typical_consumption_situations</th>\n",
       "      <th>price_range</th>\n",
       "      <th>age_group</th>\n",
       "      <th>cf_ab_score</th>\n",
       "      <th>zas_score</th>\n",
       "      <th>bsi</th>\n",
       "    </tr>\n",
       "  </thead>\n",
       "  <tbody>\n",
       "    <tr>\n",
       "      <th>0</th>\n",
       "      <td>R00001</td>\n",
       "      <td>30</td>\n",
       "      <td>M</td>\n",
       "      <td>Urban</td>\n",
       "      <td>Working Professional</td>\n",
       "      <td>&lt;10L</td>\n",
       "      <td>3-4 times</td>\n",
       "      <td>Newcomer</td>\n",
       "      <td>Medium (500 ml)</td>\n",
       "      <td>0 to 1</td>\n",
       "      <td>...</td>\n",
       "      <td>Traditional</td>\n",
       "      <td>Online</td>\n",
       "      <td>Simple</td>\n",
       "      <td>Medium (Moderately health-conscious)</td>\n",
       "      <td>Active (eg. Sports, gym)</td>\n",
       "      <td>100-150</td>\n",
       "      <td>26-35</td>\n",
       "      <td>0.67</td>\n",
       "      <td>3</td>\n",
       "      <td>1</td>\n",
       "    </tr>\n",
       "    <tr>\n",
       "      <th>1</th>\n",
       "      <td>R00002</td>\n",
       "      <td>46</td>\n",
       "      <td>F</td>\n",
       "      <td>Metro</td>\n",
       "      <td>Working Professional</td>\n",
       "      <td>&gt; 35L</td>\n",
       "      <td>5-7 times</td>\n",
       "      <td>Established</td>\n",
       "      <td>Medium (500 ml)</td>\n",
       "      <td>2 to 4</td>\n",
       "      <td>...</td>\n",
       "      <td>Exotic</td>\n",
       "      <td>Retail Store</td>\n",
       "      <td>Premium</td>\n",
       "      <td>Medium (Moderately health-conscious)</td>\n",
       "      <td>Social (eg. Parties)</td>\n",
       "      <td>200-250</td>\n",
       "      <td>46-55</td>\n",
       "      <td>0.60</td>\n",
       "      <td>20</td>\n",
       "      <td>0</td>\n",
       "    </tr>\n",
       "    <tr>\n",
       "      <th>2</th>\n",
       "      <td>R00003</td>\n",
       "      <td>41</td>\n",
       "      <td>F</td>\n",
       "      <td>Rural</td>\n",
       "      <td>Working Professional</td>\n",
       "      <td>&gt; 35L</td>\n",
       "      <td>3-4 times</td>\n",
       "      <td>Newcomer</td>\n",
       "      <td>Medium (500 ml)</td>\n",
       "      <td>2 to 4</td>\n",
       "      <td>...</td>\n",
       "      <td>Traditional</td>\n",
       "      <td>Retail Store</td>\n",
       "      <td>Premium</td>\n",
       "      <td>Medium (Moderately health-conscious)</td>\n",
       "      <td>Active (eg. Sports, gym)</td>\n",
       "      <td>200-250</td>\n",
       "      <td>36-45</td>\n",
       "      <td>0.50</td>\n",
       "      <td>5</td>\n",
       "      <td>0</td>\n",
       "    </tr>\n",
       "  </tbody>\n",
       "</table>\n",
       "<p>3 rows × 21 columns</p>\n",
       "</div>"
      ],
      "text/plain": [
       "  respondent_id  age gender   zone            occupation income_levels  \\\n",
       "0        R00001   30      M  Urban  Working Professional          <10L   \n",
       "1        R00002   46      F  Metro  Working Professional         > 35L   \n",
       "2        R00003   41      F  Rural  Working Professional         > 35L   \n",
       "\n",
       "  consume_frequency(weekly) current_brand preferable_consumption_size  \\\n",
       "0                 3-4 times      Newcomer             Medium (500 ml)   \n",
       "1                 5-7 times   Established             Medium (500 ml)   \n",
       "2                 3-4 times      Newcomer             Medium (500 ml)   \n",
       "\n",
       "  awareness_of_other_brands  ... flavor_preference purchase_channel  \\\n",
       "0                    0 to 1  ...       Traditional           Online   \n",
       "1                    2 to 4  ...            Exotic     Retail Store   \n",
       "2                    2 to 4  ...       Traditional     Retail Store   \n",
       "\n",
       "  packaging_preference                       health_concerns  \\\n",
       "0               Simple  Medium (Moderately health-conscious)   \n",
       "1              Premium  Medium (Moderately health-conscious)   \n",
       "2              Premium  Medium (Moderately health-conscious)   \n",
       "\n",
       "  typical_consumption_situations price_range age_group cf_ab_score  zas_score  \\\n",
       "0       Active (eg. Sports, gym)     100-150     26-35        0.67          3   \n",
       "1           Social (eg. Parties)     200-250     46-55        0.60         20   \n",
       "2       Active (eg. Sports, gym)     200-250     36-45        0.50          5   \n",
       "\n",
       "   bsi  \n",
       "0    1  \n",
       "1    0  \n",
       "2    0  \n",
       "\n",
       "[3 rows x 21 columns]"
      ]
     },
     "execution_count": 78,
     "metadata": {},
     "output_type": "execute_result"
    }
   ],
   "source": [
    "df2.head(3)"
   ]
  },
  {
   "cell_type": "code",
   "execution_count": 79,
   "id": "bd110c3f-e090-4f83-a902-161b039f2c57",
   "metadata": {},
   "outputs": [
    {
     "data": {
      "text/plain": [
       "bsi\n",
       "0    20816\n",
       "1     9175\n",
       "Name: count, dtype: int64"
      ]
     },
     "execution_count": 79,
     "metadata": {},
     "output_type": "execute_result"
    }
   ],
   "source": [
    "df2['bsi'].value_counts()"
   ]
  },
  {
   "cell_type": "code",
   "execution_count": 80,
   "id": "a7bd92d5-5e7d-4d35-a0d8-583445374c32",
   "metadata": {},
   "outputs": [
    {
     "name": "stdout",
     "output_type": "stream",
     "text": [
      "******************************************************************************************************************************************************\n"
     ]
    }
   ],
   "source": [
    "print('*'*150)"
   ]
  },
  {
   "cell_type": "raw",
   "id": "0d80eecd-1ee1-422d-8473-5dcdca1c3c34",
   "metadata": {},
   "source": [
    "✨ Final Cleaning Step: Remove Logical Outliers\n",
    "---------------------------------------------------------------------------------------------------------------------\n",
    "Final Cleaning Step:\n",
    "Removing Logical Outliers:\n",
    "● When reviewing the occupation data, we found logical inconsistencies. For\n",
    "instance, there are students listed in the `56-70` age group, which seems like an\n",
    "incorrect entry. We need to remove such records where the data doesn't make\n",
    "sense logically.\n",
    "---------------------------------------------------------------------------------------------------------------------"
   ]
  },
  {
   "cell_type": "code",
   "execution_count": 81,
   "id": "5d7d654c-3774-402f-a7e5-4c179d6771cb",
   "metadata": {},
   "outputs": [
    {
     "data": {
      "text/plain": [
       "occupation\n",
       "Working Professional    15801\n",
       "Student                  8060\n",
       "Entrepreneur             5000\n",
       "Retired                  1130\n",
       "Name: count, dtype: int64"
      ]
     },
     "execution_count": 81,
     "metadata": {},
     "output_type": "execute_result"
    }
   ],
   "source": [
    "df2['occupation'].value_counts()"
   ]
  },
  {
   "cell_type": "code",
   "execution_count": 82,
   "id": "1e77264c-0fab-4646-ac94-8b7cefd05786",
   "metadata": {},
   "outputs": [
    {
     "data": {
      "text/plain": [
       "(35, 21)"
      ]
     },
     "execution_count": 82,
     "metadata": {},
     "output_type": "execute_result"
    }
   ],
   "source": [
    "# Remove logical inconsistencies like students in '56-70' group\n",
    "df3_incosistent=df2[((df2['occupation']=='Student')& (df2['age_group']=='56-70'))]\n",
    "df3_incosistent.shape"
   ]
  },
  {
   "cell_type": "code",
   "execution_count": 83,
   "id": "9b760186-040a-4e82-a985-e2e5fbc1faf4",
   "metadata": {},
   "outputs": [
    {
     "data": {
      "text/plain": [
       "(29956, 21)"
      ]
     },
     "execution_count": 83,
     "metadata": {},
     "output_type": "execute_result"
    }
   ],
   "source": [
    "df3=df2[~((df2['occupation']=='Student')& (df2['age_group']=='56-70'))]\n",
    "df3.shape"
   ]
  },
  {
   "cell_type": "code",
   "execution_count": 84,
   "id": "3ab18371-5993-4615-9980-3e69560fac99",
   "metadata": {},
   "outputs": [
    {
     "data": {
      "text/html": [
       "<div>\n",
       "<style scoped>\n",
       "    .dataframe tbody tr th:only-of-type {\n",
       "        vertical-align: middle;\n",
       "    }\n",
       "\n",
       "    .dataframe tbody tr th {\n",
       "        vertical-align: top;\n",
       "    }\n",
       "\n",
       "    .dataframe thead th {\n",
       "        text-align: right;\n",
       "    }\n",
       "</style>\n",
       "<table border=\"1\" class=\"dataframe\">\n",
       "  <thead>\n",
       "    <tr style=\"text-align: right;\">\n",
       "      <th></th>\n",
       "      <th>occupation</th>\n",
       "    </tr>\n",
       "    <tr>\n",
       "      <th>age_group</th>\n",
       "      <th></th>\n",
       "    </tr>\n",
       "  </thead>\n",
       "  <tbody>\n",
       "    <tr>\n",
       "      <th>18-25</th>\n",
       "      <td>7328</td>\n",
       "    </tr>\n",
       "    <tr>\n",
       "      <th>26-35</th>\n",
       "      <td>697</td>\n",
       "    </tr>\n",
       "    <tr>\n",
       "      <th>56-70</th>\n",
       "      <td>35</td>\n",
       "    </tr>\n",
       "  </tbody>\n",
       "</table>\n",
       "</div>"
      ],
      "text/plain": [
       "           occupation\n",
       "age_group            \n",
       "18-25            7328\n",
       "26-35             697\n",
       "56-70              35"
      ]
     },
     "execution_count": 84,
     "metadata": {},
     "output_type": "execute_result"
    }
   ],
   "source": [
    "# To remove logical inconsistencies. \n",
    "df2[(df2['occupation']=='Student')].groupby('age_group')[['occupation']].count()"
   ]
  },
  {
   "cell_type": "code",
   "execution_count": 85,
   "id": "525efb7e-ed36-45ea-8010-3429ec55053a",
   "metadata": {},
   "outputs": [
    {
     "data": {
      "text/html": [
       "<div>\n",
       "<style scoped>\n",
       "    .dataframe tbody tr th:only-of-type {\n",
       "        vertical-align: middle;\n",
       "    }\n",
       "\n",
       "    .dataframe tbody tr th {\n",
       "        vertical-align: top;\n",
       "    }\n",
       "\n",
       "    .dataframe thead th {\n",
       "        text-align: right;\n",
       "    }\n",
       "</style>\n",
       "<table border=\"1\" class=\"dataframe\">\n",
       "  <thead>\n",
       "    <tr style=\"text-align: right;\">\n",
       "      <th></th>\n",
       "      <th></th>\n",
       "      <th>bsi</th>\n",
       "    </tr>\n",
       "    <tr>\n",
       "      <th>age_group</th>\n",
       "      <th>bsi</th>\n",
       "      <th></th>\n",
       "    </tr>\n",
       "  </thead>\n",
       "  <tbody>\n",
       "    <tr>\n",
       "      <th rowspan=\"2\" valign=\"top\">18-25</th>\n",
       "      <th>0</th>\n",
       "      <td>4812</td>\n",
       "    </tr>\n",
       "    <tr>\n",
       "      <th>1</th>\n",
       "      <td>2516</td>\n",
       "    </tr>\n",
       "    <tr>\n",
       "      <th rowspan=\"2\" valign=\"top\">26-35</th>\n",
       "      <th>0</th>\n",
       "      <td>481</td>\n",
       "    </tr>\n",
       "    <tr>\n",
       "      <th>1</th>\n",
       "      <td>216</td>\n",
       "    </tr>\n",
       "    <tr>\n",
       "      <th rowspan=\"2\" valign=\"top\">56-70</th>\n",
       "      <th>0</th>\n",
       "      <td>20</td>\n",
       "    </tr>\n",
       "    <tr>\n",
       "      <th>1</th>\n",
       "      <td>15</td>\n",
       "    </tr>\n",
       "  </tbody>\n",
       "</table>\n",
       "</div>"
      ],
      "text/plain": [
       "                bsi\n",
       "age_group bsi      \n",
       "18-25     0    4812\n",
       "          1    2516\n",
       "26-35     0     481\n",
       "          1     216\n",
       "56-70     0      20\n",
       "          1      15"
      ]
     },
     "execution_count": 85,
     "metadata": {},
     "output_type": "execute_result"
    }
   ],
   "source": [
    "df2[(df2['occupation']=='Student')].groupby(['age_group','bsi'])[['bsi']].count()"
   ]
  },
  {
   "cell_type": "code",
   "execution_count": 86,
   "id": "b9a042a6-5148-4b7e-b008-e8282292e9a7",
   "metadata": {},
   "outputs": [
    {
     "data": {
      "text/plain": [
       "age_group  occupation          \n",
       "18-25      Student                 7328\n",
       "           Working Professional    2605\n",
       "           Entrepreneur             535\n",
       "26-35      Working Professional    6570\n",
       "           Entrepreneur            1826\n",
       "           Student                  697\n",
       "36-45      Working Professional    4353\n",
       "           Entrepreneur            1619\n",
       "46-55      Working Professional    2167\n",
       "           Entrepreneur             799\n",
       "56-70      Retired                 1130\n",
       "           Entrepreneur             221\n",
       "           Working Professional     106\n",
       "           Student                   35\n",
       "Name: count, dtype: int64"
      ]
     },
     "execution_count": 86,
     "metadata": {},
     "output_type": "execute_result"
    }
   ],
   "source": [
    "df2.groupby('age_group')['occupation'].value_counts()"
   ]
  },
  {
   "cell_type": "code",
   "execution_count": 87,
   "id": "ea5f7ba1-bb4f-4697-addd-f5a64b2d4763",
   "metadata": {},
   "outputs": [
    {
     "data": {
      "text/plain": [
       "\"\\n# Alternative to remove logical outliers\\npd.crosstab(df['age_group'], df['occupation'], margins=True, margins_name='Total')\\ndf = df[((df['age_group']=='56-70') & (df['occupation'] == 'Student'))==False]\\n\""
      ]
     },
     "execution_count": 87,
     "metadata": {},
     "output_type": "execute_result"
    }
   ],
   "source": [
    "'''\n",
    "# Alternative to remove logical outliers\n",
    "pd.crosstab(df['age_group'], df['occupation'], margins=True, margins_name='Total')\n",
    "df = df[((df['age_group']=='56-70') & (df['occupation'] == 'Student'))==False]\n",
    "'''"
   ]
  },
  {
   "cell_type": "code",
   "execution_count": 88,
   "id": "8460e747-6d80-4e04-b378-d57ff3ff50b2",
   "metadata": {},
   "outputs": [],
   "source": [
    "# # Simple groupby with pivot\n",
    "# pivot_table = df2.pivot_table(\n",
    "#     index='age_group',       # Rows: Age groups\n",
    "#     columns='occupation',    # Columns: Occupations\n",
    "#    values='some_column',    # Any column (we will use 'occupation' counts instead)\n",
    "#    aggfunc='count',         # Counting how many entries\n",
    "#     fill_value=0             # Fill missing values with 0\n",
    "# )\n",
    "\n",
    "# pivot_table\n"
   ]
  },
  {
   "cell_type": "code",
   "execution_count": 89,
   "id": "341fe510-1bea-4d55-84a5-6d5dc8fec26c",
   "metadata": {},
   "outputs": [
    {
     "name": "stdout",
     "output_type": "stream",
     "text": [
      "******************************************************************************************************************************************************\n"
     ]
    }
   ],
   "source": [
    "print('*'*150)"
   ]
  },
  {
   "cell_type": "code",
   "execution_count": 90,
   "id": "6570ef9f-7ce4-4cdc-aa4d-8e09d2ce6301",
   "metadata": {},
   "outputs": [
    {
     "data": {
      "text/plain": [
       "bsi\n",
       "0    20816\n",
       "1     9175\n",
       "Name: count, dtype: int64"
      ]
     },
     "execution_count": 90,
     "metadata": {},
     "output_type": "execute_result"
    }
   ],
   "source": [
    "# How many rows contain BSI types\n",
    "df2['bsi'].value_counts()"
   ]
  },
  {
   "cell_type": "code",
   "execution_count": 91,
   "id": "b14477dc-62e8-4fd2-a73e-18f1fe0da151",
   "metadata": {},
   "outputs": [
    {
     "data": {
      "text/plain": [
       "bsi\n",
       "0    20796\n",
       "1     9160\n",
       "Name: count, dtype: int64"
      ]
     },
     "execution_count": 91,
     "metadata": {},
     "output_type": "execute_result"
    }
   ],
   "source": [
    "# Internship question\n",
    "# How many rows contain the Brand Switching Indicator (BSI) with a value of 0 after removing logical outliers \n",
    "df3['bsi'].value_counts()"
   ]
  },
  {
   "cell_type": "code",
   "execution_count": 92,
   "id": "b9a07157-d5ea-4c0a-be2f-eb896a12a21c",
   "metadata": {},
   "outputs": [
    {
     "data": {
      "text/plain": [
       "bsi\n",
       "0    20\n",
       "1    15\n",
       "Name: count, dtype: int64"
      ]
     },
     "execution_count": 92,
     "metadata": {},
     "output_type": "execute_result"
    }
   ],
   "source": [
    "# Difference in change i.e dropped rows , sum of removed types in bsi types\n",
    "df2['bsi'].value_counts()-df3['bsi'].value_counts()"
   ]
  },
  {
   "cell_type": "code",
   "execution_count": null,
   "id": "0de8ae9c-6145-4c8a-9fff-095e0775f9bb",
   "metadata": {},
   "outputs": [],
   "source": []
  },
  {
   "cell_type": "code",
   "execution_count": 93,
   "id": "e4cbe02a-0cbf-43c6-913f-5b0ea468b9fb",
   "metadata": {},
   "outputs": [
    {
     "name": "stdout",
     "output_type": "stream",
     "text": [
      "******************************************************************************************************************************************************\n",
      "Modeling Instructions\n",
      "******************************************************************************************************************************************************\n"
     ]
    }
   ],
   "source": [
    "print('*'*150)\n",
    "print(\"Modeling Instructions\")\n",
    "print('*'*150)"
   ]
  },
  {
   "cell_type": "markdown",
   "id": "a8c342ee-212a-4d5d-9bab-3c4114d7b9a5",
   "metadata": {},
   "source": [
    "Follow the steps below to guide you through the modeling process:\n",
    "**1.Prepare Features and Target Variables:**\n",
    "- Create a feature matrix 'X' and target variable 'y'. Ensure that 'X' does not include columns such as respondent_id and the target variable (price_rage).\n",
    "\n",
    "**2.Data Splitting**\n",
    "- Split the dataset into training and test sets, using 75% of the data for training and 25% for testing. In train_test_split function call, please use\n",
    "  random_state value of 42, this way your notebook and our notebook have same split and it helps with results verification.\n",
    "\n",
    "**3. Feature Encoding**\n",
    "- Apply appropriate encoding techniques to the features:\n",
    "      - Use Label Encoding for the following columns: age_group, income_levels, health_concerns, consume_frequency(weekly), and preferable_consumption_size.\n",
    "- Apply One-Hot Encoding to all remaining categorical columns.\n",
    "- Ensure the target variable(price_range) is also label encoded.\n",
    "\n",
    "**4.Model Selection**\n",
    "Test the following machine learning models on the prepared data:\n",
    "- Gaussian Naive Bayes\n",
    "- Logical Regression\n",
    "- Support Vector Machine (SBM)\n",
    "- Random Forest\n",
    "- XGBoost\n",
    "- Light Gradient Boosting Machine(Light GBM)\n",
    "\n",
    "**5. Performance Evaluation:**\n",
    "- For each model, calculate and print the accuracy score and the classification report.\n",
    "\n",
    "**6. Model comparison:**\n",
    "- Track the performance of each model and select the best-performing model for the next steps (which will be communicated in future tasks).\n",
    "\n",
    "If you encounter any difficulties during the modeling phase, don't hesitate to reach out to your senior team members for guidance.\n",
    "                                                                                            "
   ]
  },
  {
   "cell_type": "code",
   "execution_count": 94,
   "id": "1671be15-8226-4e44-a4d0-e922fe3223a8",
   "metadata": {},
   "outputs": [],
   "source": [
    "# df4 = df3.copy()"
   ]
  },
  {
   "cell_type": "code",
   "execution_count": 95,
   "id": "259957ea-a49a-4a0b-be4e-62adacc966ea",
   "metadata": {},
   "outputs": [
    {
     "data": {
      "text/html": [
       "<div>\n",
       "<style scoped>\n",
       "    .dataframe tbody tr th:only-of-type {\n",
       "        vertical-align: middle;\n",
       "    }\n",
       "\n",
       "    .dataframe tbody tr th {\n",
       "        vertical-align: top;\n",
       "    }\n",
       "\n",
       "    .dataframe thead th {\n",
       "        text-align: right;\n",
       "    }\n",
       "</style>\n",
       "<table border=\"1\" class=\"dataframe\">\n",
       "  <thead>\n",
       "    <tr style=\"text-align: right;\">\n",
       "      <th></th>\n",
       "      <th>respondent_id</th>\n",
       "      <th>age</th>\n",
       "      <th>gender</th>\n",
       "      <th>zone</th>\n",
       "      <th>occupation</th>\n",
       "      <th>income_levels</th>\n",
       "      <th>consume_frequency(weekly)</th>\n",
       "      <th>current_brand</th>\n",
       "      <th>preferable_consumption_size</th>\n",
       "      <th>awareness_of_other_brands</th>\n",
       "      <th>...</th>\n",
       "      <th>flavor_preference</th>\n",
       "      <th>purchase_channel</th>\n",
       "      <th>packaging_preference</th>\n",
       "      <th>health_concerns</th>\n",
       "      <th>typical_consumption_situations</th>\n",
       "      <th>price_range</th>\n",
       "      <th>age_group</th>\n",
       "      <th>cf_ab_score</th>\n",
       "      <th>zas_score</th>\n",
       "      <th>bsi</th>\n",
       "    </tr>\n",
       "  </thead>\n",
       "  <tbody>\n",
       "    <tr>\n",
       "      <th>0</th>\n",
       "      <td>R00001</td>\n",
       "      <td>30</td>\n",
       "      <td>M</td>\n",
       "      <td>Urban</td>\n",
       "      <td>Working Professional</td>\n",
       "      <td>&lt;10L</td>\n",
       "      <td>3-4 times</td>\n",
       "      <td>Newcomer</td>\n",
       "      <td>Medium (500 ml)</td>\n",
       "      <td>0 to 1</td>\n",
       "      <td>...</td>\n",
       "      <td>Traditional</td>\n",
       "      <td>Online</td>\n",
       "      <td>Simple</td>\n",
       "      <td>Medium (Moderately health-conscious)</td>\n",
       "      <td>Active (eg. Sports, gym)</td>\n",
       "      <td>100-150</td>\n",
       "      <td>26-35</td>\n",
       "      <td>0.67</td>\n",
       "      <td>3</td>\n",
       "      <td>1</td>\n",
       "    </tr>\n",
       "    <tr>\n",
       "      <th>1</th>\n",
       "      <td>R00002</td>\n",
       "      <td>46</td>\n",
       "      <td>F</td>\n",
       "      <td>Metro</td>\n",
       "      <td>Working Professional</td>\n",
       "      <td>&gt; 35L</td>\n",
       "      <td>5-7 times</td>\n",
       "      <td>Established</td>\n",
       "      <td>Medium (500 ml)</td>\n",
       "      <td>2 to 4</td>\n",
       "      <td>...</td>\n",
       "      <td>Exotic</td>\n",
       "      <td>Retail Store</td>\n",
       "      <td>Premium</td>\n",
       "      <td>Medium (Moderately health-conscious)</td>\n",
       "      <td>Social (eg. Parties)</td>\n",
       "      <td>200-250</td>\n",
       "      <td>46-55</td>\n",
       "      <td>0.60</td>\n",
       "      <td>20</td>\n",
       "      <td>0</td>\n",
       "    </tr>\n",
       "  </tbody>\n",
       "</table>\n",
       "<p>2 rows × 21 columns</p>\n",
       "</div>"
      ],
      "text/plain": [
       "  respondent_id  age gender   zone            occupation income_levels  \\\n",
       "0        R00001   30      M  Urban  Working Professional          <10L   \n",
       "1        R00002   46      F  Metro  Working Professional         > 35L   \n",
       "\n",
       "  consume_frequency(weekly) current_brand preferable_consumption_size  \\\n",
       "0                 3-4 times      Newcomer             Medium (500 ml)   \n",
       "1                 5-7 times   Established             Medium (500 ml)   \n",
       "\n",
       "  awareness_of_other_brands  ... flavor_preference purchase_channel  \\\n",
       "0                    0 to 1  ...       Traditional           Online   \n",
       "1                    2 to 4  ...            Exotic     Retail Store   \n",
       "\n",
       "  packaging_preference                       health_concerns  \\\n",
       "0               Simple  Medium (Moderately health-conscious)   \n",
       "1              Premium  Medium (Moderately health-conscious)   \n",
       "\n",
       "  typical_consumption_situations price_range age_group cf_ab_score  zas_score  \\\n",
       "0       Active (eg. Sports, gym)     100-150     26-35        0.67          3   \n",
       "1           Social (eg. Parties)     200-250     46-55        0.60         20   \n",
       "\n",
       "   bsi  \n",
       "0    1  \n",
       "1    0  \n",
       "\n",
       "[2 rows x 21 columns]"
      ]
     },
     "execution_count": 95,
     "metadata": {},
     "output_type": "execute_result"
    }
   ],
   "source": [
    "df3.head(2)"
   ]
  },
  {
   "cell_type": "code",
   "execution_count": 96,
   "id": "06181fb8",
   "metadata": {},
   "outputs": [
    {
     "data": {
      "text/plain": [
       "Index(['respondent_id', 'age', 'gender', 'zone', 'occupation', 'income_levels',\n",
       "       'consume_frequency(weekly)', 'current_brand',\n",
       "       'preferable_consumption_size', 'awareness_of_other_brands',\n",
       "       'reasons_for_choosing_brands', 'flavor_preference', 'purchase_channel',\n",
       "       'packaging_preference', 'health_concerns',\n",
       "       'typical_consumption_situations', 'price_range'],\n",
       "      dtype='object')"
      ]
     },
     "execution_count": 96,
     "metadata": {},
     "output_type": "execute_result"
    }
   ],
   "source": [
    "df.columns  # 17 columns "
   ]
  },
  {
   "cell_type": "code",
   "execution_count": 97,
   "id": "807cae7e",
   "metadata": {},
   "outputs": [
    {
     "data": {
      "text/plain": [
       "Index(['respondent_id', 'age', 'gender', 'zone', 'occupation', 'income_levels',\n",
       "       'consume_frequency(weekly)', 'current_brand',\n",
       "       'preferable_consumption_size', 'awareness_of_other_brands',\n",
       "       'reasons_for_choosing_brands', 'flavor_preference', 'purchase_channel',\n",
       "       'packaging_preference', 'health_concerns',\n",
       "       'typical_consumption_situations', 'price_range', 'age_group',\n",
       "       'cf_ab_score', 'zas_score', 'bsi'],\n",
       "      dtype='object')"
      ]
     },
     "execution_count": 97,
     "metadata": {},
     "output_type": "execute_result"
    }
   ],
   "source": [
    "df3.columns # 21 columns  ==> 8 for label encoding + 8 one-hot-encoding + 3 scores, bsi + 2 removing"
   ]
  },
  {
   "cell_type": "markdown",
   "id": "2d3ff99d",
   "metadata": {},
   "source": [
    "## Label encoding"
   ]
  },
  {
   "cell_type": "raw",
   "id": "f4c497e8",
   "metadata": {
    "vscode": {
     "languageId": "raw"
    }
   },
   "source": [
    "# Label encoding \n",
    "\n",
    "| Feature       | Label Encoding                                    | One-Hot Encoding                                  |\n",
    "| ------------- | ------------------------------------------------- | ------------------------------------------------- |\n",
    "| What it does  | Converts categories to numeric labels (integers). | Converts categories into binary columns (0 or 1). |\n",
    "| Output format | Single integer column per feature.                | Multiple binary columns (one for each category).  |\n",
    "\n",
    "\n",
    "\n",
    "\n",
    "Let's take a feature Color = [Red, Green, Blue]:\n",
    "\n",
    "| Encoding Type        | Result                                                  |\n",
    "| -------------------- | ------------------------------------------------------- |\n",
    "| **Label Encoding**   | Red → 0, Green → 1, Blue → 2                            |\n",
    "| **One-Hot Encoding** | Red → \\[1, 0, 0], Green → \\[0, 1, 0], Blue → \\[0, 0, 1] |\n",
    "\n",
    "\n",
    "\n",
    "| Task Type                   | Encode Target?  | Encoding Type                 |\n",
    "| --------------------------- | --------------  | ----------------------------- |\n",
    "| Classification              | ✅ Yes          | Label Encoding                |\n",
    "| Regression                  | ❌ No           | Leave numeric                 |\n",
    "| Deep Learning (multi-class) | ✅ Yes          | One-Hot or Sparse Categorical |\n",
    "\n"
   ]
  },
  {
   "cell_type": "code",
   "execution_count": 98,
   "id": "8ace1b1c",
   "metadata": {},
   "outputs": [
    {
     "data": {
      "text/plain": [
       "age_group\n",
       "18-25    10468\n",
       "26-35     9093\n",
       "36-45     5972\n",
       "46-55     2966\n",
       "56-70     1457\n",
       "Name: count, dtype: int64"
      ]
     },
     "execution_count": 98,
     "metadata": {},
     "output_type": "execute_result"
    }
   ],
   "source": [
    "df3['age_group'].value_counts()"
   ]
  },
  {
   "cell_type": "code",
   "execution_count": 99,
   "id": "f9b3c131",
   "metadata": {},
   "outputs": [
    {
     "data": {
      "text/plain": [
       "zone\n",
       "Metro         11901\n",
       "Urban         10677\n",
       "Semi-Urban     5265\n",
       "Rural          2113\n",
       "Name: count, dtype: int64"
      ]
     },
     "execution_count": 99,
     "metadata": {},
     "output_type": "execute_result"
    }
   ],
   "source": [
    "df3['zone'].value_counts()"
   ]
  },
  {
   "cell_type": "code",
   "execution_count": 100,
   "id": "0236b969",
   "metadata": {},
   "outputs": [
    {
     "data": {
      "text/plain": [
       "income_levels\n",
       "Not Reported    8025\n",
       "16L - 25L       5897\n",
       "10L - 15L       5251\n",
       "<10L            4661\n",
       "26L - 35L       3872\n",
       "> 35L           2250\n",
       "Name: count, dtype: int64"
      ]
     },
     "execution_count": 100,
     "metadata": {},
     "output_type": "execute_result"
    }
   ],
   "source": [
    "df3['income_levels'].value_counts()"
   ]
  },
  {
   "cell_type": "code",
   "execution_count": 101,
   "id": "7823e0a7",
   "metadata": {},
   "outputs": [
    {
     "data": {
      "text/plain": [
       "consume_frequency(weekly)\n",
       "3-4 times    11786\n",
       "5-7 times     9765\n",
       "0-2 times     8405\n",
       "Name: count, dtype: int64"
      ]
     },
     "execution_count": 101,
     "metadata": {},
     "output_type": "execute_result"
    }
   ],
   "source": [
    "df3['consume_frequency(weekly)'].value_counts()"
   ]
  },
  {
   "cell_type": "code",
   "execution_count": 102,
   "id": "cb4f0043",
   "metadata": {},
   "outputs": [
    {
     "data": {
      "text/plain": [
       "preferable_consumption_size\n",
       "Medium (500 ml)    13205\n",
       "Small (250 ml)      9709\n",
       "Large (1 L)         7042\n",
       "Name: count, dtype: int64"
      ]
     },
     "execution_count": 102,
     "metadata": {},
     "output_type": "execute_result"
    }
   ],
   "source": [
    "df3['preferable_consumption_size'].value_counts()"
   ]
  },
  {
   "cell_type": "code",
   "execution_count": 103,
   "id": "d6a8206b",
   "metadata": {},
   "outputs": [
    {
     "data": {
      "text/plain": [
       "awareness_of_other_brands\n",
       "0 to 1     12945\n",
       "2 to 4     11215\n",
       "above 4     5796\n",
       "Name: count, dtype: int64"
      ]
     },
     "execution_count": 103,
     "metadata": {},
     "output_type": "execute_result"
    }
   ],
   "source": [
    "df3['awareness_of_other_brands'].value_counts()"
   ]
  },
  {
   "cell_type": "code",
   "execution_count": 104,
   "id": "5369f017",
   "metadata": {},
   "outputs": [
    {
     "data": {
      "text/plain": [
       "health_concerns\n",
       "High (Very health-conscious)            11893\n",
       "Medium (Moderately health-conscious)    10624\n",
       "Low (Not very concerned)                 7439\n",
       "Name: count, dtype: int64"
      ]
     },
     "execution_count": 104,
     "metadata": {},
     "output_type": "execute_result"
    }
   ],
   "source": [
    "df3['health_concerns'].value_counts()"
   ]
  },
  {
   "cell_type": "code",
   "execution_count": 105,
   "id": "4555c0d7",
   "metadata": {},
   "outputs": [
    {
     "data": {
      "text/plain": [
       "price_range\n",
       "200-250    9711\n",
       "150-200    8797\n",
       "100-150    7793\n",
       "50-100     3655\n",
       "Name: count, dtype: int64"
      ]
     },
     "execution_count": 105,
     "metadata": {},
     "output_type": "execute_result"
    }
   ],
   "source": [
    "# Output enoding\n",
    "df3['price_range'].value_counts()"
   ]
  },
  {
   "cell_type": "code",
   "execution_count": 114,
   "id": "773e2bc0",
   "metadata": {},
   "outputs": [
    {
     "name": "stderr",
     "output_type": "stream",
     "text": [
      "C:\\Users\\reach\\AppData\\Local\\Temp\\ipykernel_27292\\2411925955.py:3: SettingWithCopyWarning: \n",
      "A value is trying to be set on a copy of a slice from a DataFrame.\n",
      "Try using .loc[row_indexer,col_indexer] = value instead\n",
      "\n",
      "See the caveats in the documentation: https://pandas.pydata.org/pandas-docs/stable/user_guide/indexing.html#returning-a-view-versus-a-copy\n",
      "  df3['age_group'] = df3['age_group'].map({'18-25':1, '26-35':2, '36-45':3, '46-55':4, '56-70':5, '70+':6})\n",
      "C:\\Users\\reach\\AppData\\Local\\Temp\\ipykernel_27292\\2411925955.py:4: SettingWithCopyWarning: \n",
      "A value is trying to be set on a copy of a slice from a DataFrame.\n",
      "Try using .loc[row_indexer,col_indexer] = value instead\n",
      "\n",
      "See the caveats in the documentation: https://pandas.pydata.org/pandas-docs/stable/user_guide/indexing.html#returning-a-view-versus-a-copy\n",
      "  df3['zone'] = df3['zone'].map({'Rural':1, 'Semi-Urban':2, 'Urban':3, 'Metro':4})\n",
      "C:\\Users\\reach\\AppData\\Local\\Temp\\ipykernel_27292\\2411925955.py:5: SettingWithCopyWarning: \n",
      "A value is trying to be set on a copy of a slice from a DataFrame.\n",
      "Try using .loc[row_indexer,col_indexer] = value instead\n",
      "\n",
      "See the caveats in the documentation: https://pandas.pydata.org/pandas-docs/stable/user_guide/indexing.html#returning-a-view-versus-a-copy\n",
      "  df3['income_levels'] = df3['income_levels'].map({'<10L':1, '10L - 15L':2, '16L - 25L':3, '26L - 35L':4, '> 35L':5})\n",
      "C:\\Users\\reach\\AppData\\Local\\Temp\\ipykernel_27292\\2411925955.py:6: SettingWithCopyWarning: \n",
      "A value is trying to be set on a copy of a slice from a DataFrame.\n",
      "Try using .loc[row_indexer,col_indexer] = value instead\n",
      "\n",
      "See the caveats in the documentation: https://pandas.pydata.org/pandas-docs/stable/user_guide/indexing.html#returning-a-view-versus-a-copy\n",
      "  df3['consume_frequency(weekly)'] = df3['consume_frequency(weekly)'].map({'0-2 times':1, '3-4 times':2, '5-7 times':3})\n",
      "C:\\Users\\reach\\AppData\\Local\\Temp\\ipykernel_27292\\2411925955.py:7: SettingWithCopyWarning: \n",
      "A value is trying to be set on a copy of a slice from a DataFrame.\n",
      "Try using .loc[row_indexer,col_indexer] = value instead\n",
      "\n",
      "See the caveats in the documentation: https://pandas.pydata.org/pandas-docs/stable/user_guide/indexing.html#returning-a-view-versus-a-copy\n",
      "  df3['preferable_consumption_size'] = df3['preferable_consumption_size'].map({'Small (250 ml)':1, 'Medium (500 ml)':2, 'Large (1 L)':3})\n",
      "C:\\Users\\reach\\AppData\\Local\\Temp\\ipykernel_27292\\2411925955.py:8: SettingWithCopyWarning: \n",
      "A value is trying to be set on a copy of a slice from a DataFrame.\n",
      "Try using .loc[row_indexer,col_indexer] = value instead\n",
      "\n",
      "See the caveats in the documentation: https://pandas.pydata.org/pandas-docs/stable/user_guide/indexing.html#returning-a-view-versus-a-copy\n",
      "  df3['awareness_of_other_brands'] = df3['awareness_of_other_brands'].map({'0 to 1':1, '2 to 4':2, 'above 4':3})\n",
      "C:\\Users\\reach\\AppData\\Local\\Temp\\ipykernel_27292\\2411925955.py:9: SettingWithCopyWarning: \n",
      "A value is trying to be set on a copy of a slice from a DataFrame.\n",
      "Try using .loc[row_indexer,col_indexer] = value instead\n",
      "\n",
      "See the caveats in the documentation: https://pandas.pydata.org/pandas-docs/stable/user_guide/indexing.html#returning-a-view-versus-a-copy\n",
      "  df3['health_concerns'] = df3['health_concerns'].map({'Low (Not very concerned)':1, 'Medium (Moderately health-conscious)':2, 'High (Very health-conscious)':3})\n",
      "C:\\Users\\reach\\AppData\\Local\\Temp\\ipykernel_27292\\2411925955.py:11: SettingWithCopyWarning: \n",
      "A value is trying to be set on a copy of a slice from a DataFrame.\n",
      "Try using .loc[row_indexer,col_indexer] = value instead\n",
      "\n",
      "See the caveats in the documentation: https://pandas.pydata.org/pandas-docs/stable/user_guide/indexing.html#returning-a-view-versus-a-copy\n",
      "  df3['price_range'] = df3['price_range'].map({'50-100':1, '100-150':2, '150-200':3, '200-250':4})\n"
     ]
    }
   ],
   "source": [
    "# Label encoding, Converts categories to numeric labels (integers)\n",
    "\n",
    "df3['age_group'] = df3['age_group'].map({'18-25':1, '26-35':2, '36-45':3, '46-55':4, '56-70':5, '70+':6})\n",
    "df3['zone'] = df3['zone'].map({'Rural':1, 'Semi-Urban':2, 'Urban':3, 'Metro':4})\n",
    "df3['income_levels'] = df3['income_levels'].map({'<10L':1, '10L - 15L':2, '16L - 25L':3, '26L - 35L':4, '> 35L':5})\n",
    "df3['consume_frequency(weekly)'] = df3['consume_frequency(weekly)'].map({'0-2 times':1, '3-4 times':2, '5-7 times':3})\n",
    "df3['preferable_consumption_size'] = df3['preferable_consumption_size'].map({'Small (250 ml)':1, 'Medium (500 ml)':2, 'Large (1 L)':3})\n",
    "df3['awareness_of_other_brands'] = df3['awareness_of_other_brands'].map({'0 to 1':1, '2 to 4':2, 'above 4':3})\n",
    "df3['health_concerns'] = df3['health_concerns'].map({'Low (Not very concerned)':1, 'Medium (Moderately health-conscious)':2, 'High (Very health-conscious)':3})\n",
    "\n",
    "df3['price_range'] = df3['price_range'].map({'50-100':1, '100-150':2, '150-200':3, '200-250':4})\n",
    "\n"
   ]
  },
  {
   "cell_type": "code",
   "execution_count": 115,
   "id": "c20438a8",
   "metadata": {},
   "outputs": [
    {
     "data": {
      "text/plain": [
       "respondent_id                         0\n",
       "age                                   0\n",
       "gender                                0\n",
       "zone                              29956\n",
       "occupation                            0\n",
       "income_levels                     29956\n",
       "consume_frequency(weekly)         29956\n",
       "current_brand                         0\n",
       "preferable_consumption_size       29956\n",
       "awareness_of_other_brands         29956\n",
       "reasons_for_choosing_brands           0\n",
       "flavor_preference                     0\n",
       "purchase_channel                      0\n",
       "packaging_preference                  0\n",
       "health_concerns                   29956\n",
       "typical_consumption_situations        0\n",
       "price_range                       29956\n",
       "age_group                         29956\n",
       "cf_ab_score                           0\n",
       "zas_score                             0\n",
       "bsi                                   0\n",
       "dtype: int64"
      ]
     },
     "execution_count": 115,
     "metadata": {},
     "output_type": "execute_result"
    }
   ],
   "source": [
    "df3.isnull().sum()"
   ]
  },
  {
   "cell_type": "code",
   "execution_count": 112,
   "id": "305c2fe1",
   "metadata": {},
   "outputs": [
    {
     "data": {
      "text/plain": [
       "respondent_id                         0\n",
       "age                                   0\n",
       "gender                                0\n",
       "zone                              29956\n",
       "occupation                            0\n",
       "income_levels                         0\n",
       "consume_frequency(weekly)         29956\n",
       "current_brand                         0\n",
       "preferable_consumption_size       29956\n",
       "awareness_of_other_brands         29956\n",
       "reasons_for_choosing_brands           0\n",
       "flavor_preference                     0\n",
       "purchase_channel                      0\n",
       "packaging_preference                  0\n",
       "health_concerns                   29956\n",
       "typical_consumption_situations        0\n",
       "price_range                       29956\n",
       "age_group                             0\n",
       "cf_ab_score                           0\n",
       "zas_score                             0\n",
       "bsi                                   0\n",
       "dtype: int64"
      ]
     },
     "execution_count": 112,
     "metadata": {},
     "output_type": "execute_result"
    }
   ],
   "source": [
    "df3.isnull().sum()"
   ]
  },
  {
   "cell_type": "code",
   "execution_count": 113,
   "id": "70957687",
   "metadata": {},
   "outputs": [
    {
     "data": {
      "text/html": [
       "<div>\n",
       "<style scoped>\n",
       "    .dataframe tbody tr th:only-of-type {\n",
       "        vertical-align: middle;\n",
       "    }\n",
       "\n",
       "    .dataframe tbody tr th {\n",
       "        vertical-align: top;\n",
       "    }\n",
       "\n",
       "    .dataframe thead th {\n",
       "        text-align: right;\n",
       "    }\n",
       "</style>\n",
       "<table border=\"1\" class=\"dataframe\">\n",
       "  <thead>\n",
       "    <tr style=\"text-align: right;\">\n",
       "      <th></th>\n",
       "      <th>respondent_id</th>\n",
       "      <th>age</th>\n",
       "      <th>gender</th>\n",
       "      <th>zone</th>\n",
       "      <th>occupation</th>\n",
       "      <th>income_levels</th>\n",
       "      <th>consume_frequency(weekly)</th>\n",
       "      <th>current_brand</th>\n",
       "      <th>preferable_consumption_size</th>\n",
       "      <th>awareness_of_other_brands</th>\n",
       "      <th>...</th>\n",
       "      <th>flavor_preference</th>\n",
       "      <th>purchase_channel</th>\n",
       "      <th>packaging_preference</th>\n",
       "      <th>health_concerns</th>\n",
       "      <th>typical_consumption_situations</th>\n",
       "      <th>price_range</th>\n",
       "      <th>age_group</th>\n",
       "      <th>cf_ab_score</th>\n",
       "      <th>zas_score</th>\n",
       "      <th>bsi</th>\n",
       "    </tr>\n",
       "  </thead>\n",
       "  <tbody>\n",
       "    <tr>\n",
       "      <th>0</th>\n",
       "      <td>R00001</td>\n",
       "      <td>30</td>\n",
       "      <td>M</td>\n",
       "      <td>NaN</td>\n",
       "      <td>Working Professional</td>\n",
       "      <td>1</td>\n",
       "      <td>NaN</td>\n",
       "      <td>Newcomer</td>\n",
       "      <td>NaN</td>\n",
       "      <td>NaN</td>\n",
       "      <td>...</td>\n",
       "      <td>Traditional</td>\n",
       "      <td>Online</td>\n",
       "      <td>Simple</td>\n",
       "      <td>NaN</td>\n",
       "      <td>Active (eg. Sports, gym)</td>\n",
       "      <td>NaN</td>\n",
       "      <td>2</td>\n",
       "      <td>0.67</td>\n",
       "      <td>3</td>\n",
       "      <td>1</td>\n",
       "    </tr>\n",
       "    <tr>\n",
       "      <th>1</th>\n",
       "      <td>R00002</td>\n",
       "      <td>46</td>\n",
       "      <td>F</td>\n",
       "      <td>NaN</td>\n",
       "      <td>Working Professional</td>\n",
       "      <td>5</td>\n",
       "      <td>NaN</td>\n",
       "      <td>Established</td>\n",
       "      <td>NaN</td>\n",
       "      <td>NaN</td>\n",
       "      <td>...</td>\n",
       "      <td>Exotic</td>\n",
       "      <td>Retail Store</td>\n",
       "      <td>Premium</td>\n",
       "      <td>NaN</td>\n",
       "      <td>Social (eg. Parties)</td>\n",
       "      <td>NaN</td>\n",
       "      <td>4</td>\n",
       "      <td>0.60</td>\n",
       "      <td>20</td>\n",
       "      <td>0</td>\n",
       "    </tr>\n",
       "    <tr>\n",
       "      <th>2</th>\n",
       "      <td>R00003</td>\n",
       "      <td>41</td>\n",
       "      <td>F</td>\n",
       "      <td>NaN</td>\n",
       "      <td>Working Professional</td>\n",
       "      <td>5</td>\n",
       "      <td>NaN</td>\n",
       "      <td>Newcomer</td>\n",
       "      <td>NaN</td>\n",
       "      <td>NaN</td>\n",
       "      <td>...</td>\n",
       "      <td>Traditional</td>\n",
       "      <td>Retail Store</td>\n",
       "      <td>Premium</td>\n",
       "      <td>NaN</td>\n",
       "      <td>Active (eg. Sports, gym)</td>\n",
       "      <td>NaN</td>\n",
       "      <td>3</td>\n",
       "      <td>0.50</td>\n",
       "      <td>5</td>\n",
       "      <td>0</td>\n",
       "    </tr>\n",
       "  </tbody>\n",
       "</table>\n",
       "<p>3 rows × 21 columns</p>\n",
       "</div>"
      ],
      "text/plain": [
       "  respondent_id  age gender  zone            occupation income_levels  \\\n",
       "0        R00001   30      M   NaN  Working Professional             1   \n",
       "1        R00002   46      F   NaN  Working Professional             5   \n",
       "2        R00003   41      F   NaN  Working Professional             5   \n",
       "\n",
       "   consume_frequency(weekly) current_brand  preferable_consumption_size  \\\n",
       "0                        NaN      Newcomer                          NaN   \n",
       "1                        NaN   Established                          NaN   \n",
       "2                        NaN      Newcomer                          NaN   \n",
       "\n",
       "   awareness_of_other_brands  ... flavor_preference purchase_channel  \\\n",
       "0                        NaN  ...       Traditional           Online   \n",
       "1                        NaN  ...            Exotic     Retail Store   \n",
       "2                        NaN  ...       Traditional     Retail Store   \n",
       "\n",
       "  packaging_preference health_concerns  typical_consumption_situations  \\\n",
       "0               Simple             NaN        Active (eg. Sports, gym)   \n",
       "1              Premium             NaN            Social (eg. Parties)   \n",
       "2              Premium             NaN        Active (eg. Sports, gym)   \n",
       "\n",
       "  price_range  age_group  cf_ab_score  zas_score  bsi  \n",
       "0         NaN          2         0.67          3    1  \n",
       "1         NaN          4         0.60         20    0  \n",
       "2         NaN          3         0.50          5    0  \n",
       "\n",
       "[3 rows x 21 columns]"
      ]
     },
     "execution_count": 113,
     "metadata": {},
     "output_type": "execute_result"
    }
   ],
   "source": [
    "df3.head(3)"
   ]
  },
  {
   "cell_type": "code",
   "execution_count": null,
   "id": "6afd29d2",
   "metadata": {},
   "outputs": [],
   "source": [
    "# One-hot encoding \n",
    "nominal_cols = ['gender', '', '' ]"
   ]
  },
  {
   "cell_type": "code",
   "execution_count": null,
   "id": "23fb3efd",
   "metadata": {},
   "outputs": [],
   "source": []
  },
  {
   "cell_type": "code",
   "execution_count": 96,
   "id": "5536a778-879f-4344-9e8e-c806ef4ff4be",
   "metadata": {},
   "outputs": [],
   "source": [
    "X=df4.drop(['respondent_id','price_range'], axis=1)\n",
    "y = df4['price_range']"
   ]
  },
  {
   "cell_type": "code",
   "execution_count": 157,
   "id": "65c80ed7-f291-4283-b505-8ff32df843ab",
   "metadata": {},
   "outputs": [],
   "source": [
    "# Step2 : Data Splitting\n",
    "from sklearn.model_selection import train_test_split\n",
    "X_train,X_test, y_train,y_test = train_test_split(X,y, test_size=0.25, random_state=42)"
   ]
  },
  {
   "cell_type": "code",
   "execution_count": 158,
   "id": "fcc771f2-cd9e-4e8c-954a-ffedcd63be79",
   "metadata": {},
   "outputs": [],
   "source": [
    "# Steep 3: Feature Engineering\n",
    "# Label Encoding for specific columns. \n",
    "# One-Hot_encoding for the rest\n",
    "import pandas as pd\n",
    "from sklearn.preprocessing import LabelEncoder\n",
    "\n",
    "# Label Encoding Columns\n",
    "label_cols = ['age_group','income_levels','health_concerns', 'consume_frequency(weekly)','preferable_consumption_size']\n",
    "\n",
    "le=LabelEncoder()\n",
    "\n",
    "for col in label_cols:\n",
    "    X_train[col] = le.fit_transform(X_train[col])\n",
    "    X_test[col] = le.transform(X_test[col])\n",
    "\n",
    "# One-hot encode other categorical columns\n",
    "X_train = pd.get_dummies(X_train, drop_first=True)\n",
    "X_test = pd.get_dummies(X_test, drop_first=True)\n",
    "\n",
    "# Align columns after dummies (make sure X_train and X_test match)\n",
    "X_train, X_test = X_train.align(X_test, join='left', axis=1, fill_value=0)# Encode target variable y\n",
    "\n",
    "y_le = LabelEncoder()\n",
    "y_train = y_le.fit_transform(y_train)\n",
    "y_test = y_le.transform(y_test)"
   ]
  },
  {
   "cell_type": "code",
   "execution_count": 159,
   "id": "73122ef4-5108-43a2-9c35-a76b21790acf",
   "metadata": {},
   "outputs": [
    {
     "name": "stdout",
     "output_type": "stream",
     "text": [
      "(22467, 29) (7489, 29)\n",
      "(22467,) (7489,)\n"
     ]
    }
   ],
   "source": [
    "print(X_train.shape,X_test.shape)\n",
    "print(y_train.shape, y_test.shape)"
   ]
  },
  {
   "cell_type": "code",
   "execution_count": 162,
   "id": "b702f086-bb7f-4fd3-8fd4-c260ecfae5e1",
   "metadata": {},
   "outputs": [
    {
     "name": "stdout",
     "output_type": "stream",
     "text": [
      "Model:GaussianNB\n",
      "Accuracy:0.5384\n",
      "Classification Report:\n",
      "               precision    recall  f1-score   support\n",
      "\n",
      "           0       0.37      0.43      0.40      1930\n",
      "           1       0.59      0.13      0.21      2223\n",
      "           2       0.71      0.86      0.78      2430\n",
      "           3       0.45      0.91      0.60       906\n",
      "\n",
      "    accuracy                           0.54      7489\n",
      "   macro avg       0.53      0.58      0.50      7489\n",
      "weighted avg       0.56      0.54      0.49      7489\n",
      "\n",
      "--------------------------------------------------\n",
      "Model:LogisticRegression\n",
      "Accuracy:0.8013\n",
      "Classification Report:\n",
      "               precision    recall  f1-score   support\n",
      "\n",
      "           0       0.73      0.76      0.75      1930\n",
      "           1       0.75      0.77      0.76      2223\n",
      "           2       0.91      0.89      0.90      2430\n",
      "           3       0.80      0.75      0.77       906\n",
      "\n",
      "    accuracy                           0.80      7489\n",
      "   macro avg       0.80      0.79      0.79      7489\n",
      "weighted avg       0.80      0.80      0.80      7489\n",
      "\n",
      "--------------------------------------------------\n",
      "Model:SVC\n",
      "Accuracy:0.7520\n",
      "Classification Report:\n",
      "               precision    recall  f1-score   support\n",
      "\n",
      "           0       0.68      0.71      0.69      1930\n",
      "           1       0.68      0.75      0.71      2223\n",
      "           2       0.89      0.84      0.86      2430\n",
      "           3       0.77      0.62      0.69       906\n",
      "\n",
      "    accuracy                           0.75      7489\n",
      "   macro avg       0.75      0.73      0.74      7489\n",
      "weighted avg       0.76      0.75      0.75      7489\n",
      "\n",
      "--------------------------------------------------\n",
      "Model:RandomForest\n",
      "Accuracy:0.8922\n",
      "Classification Report:\n",
      "               precision    recall  f1-score   support\n",
      "\n",
      "           0       0.89      0.86      0.88      1930\n",
      "           1       0.84      0.88      0.86      2223\n",
      "           2       0.94      0.93      0.93      2430\n",
      "           3       0.92      0.88      0.90       906\n",
      "\n",
      "    accuracy                           0.89      7489\n",
      "   macro avg       0.90      0.89      0.89      7489\n",
      "weighted avg       0.89      0.89      0.89      7489\n",
      "\n",
      "--------------------------------------------------\n",
      "Model:XGBoost\n",
      "Accuracy:0.9207\n",
      "Classification Report:\n",
      "               precision    recall  f1-score   support\n",
      "\n",
      "           0       0.91      0.90      0.91      1930\n",
      "           1       0.89      0.91      0.90      2223\n",
      "           2       0.96      0.95      0.95      2430\n",
      "           3       0.93      0.91      0.92       906\n",
      "\n",
      "    accuracy                           0.92      7489\n",
      "   macro avg       0.92      0.92      0.92      7489\n",
      "weighted avg       0.92      0.92      0.92      7489\n",
      "\n",
      "--------------------------------------------------\n",
      "[LightGBM] [Warning] Found whitespace in feature_names, replace with underlines\n",
      "[LightGBM] [Info] Auto-choosing row-wise multi-threading, the overhead of testing was 0.000588 seconds.\n",
      "You can set `force_row_wise=true` to remove the overhead.\n",
      "And if memory is not enough, you can set `force_col_wise=true`.\n",
      "[LightGBM] [Info] Total Bins 136\n",
      "[LightGBM] [Info] Number of data points in the train set: 22467, number of used features: 28\n",
      "[LightGBM] [Info] Start training from score -1.343386\n",
      "[LightGBM] [Info] Start training from score -1.228925\n",
      "[LightGBM] [Info] Start training from score -1.126779\n",
      "[LightGBM] [Info] Start training from score -2.100810\n",
      "Model:LightGBM\n",
      "Accuracy:0.9207\n",
      "Classification Report:\n",
      "               precision    recall  f1-score   support\n",
      "\n",
      "           0       0.90      0.90      0.90      1930\n",
      "           1       0.89      0.91      0.90      2223\n",
      "           2       0.96      0.95      0.96      2430\n",
      "           3       0.92      0.91      0.92       906\n",
      "\n",
      "    accuracy                           0.92      7489\n",
      "   macro avg       0.92      0.92      0.92      7489\n",
      "weighted avg       0.92      0.92      0.92      7489\n",
      "\n",
      "--------------------------------------------------\n"
     ]
    }
   ],
   "source": [
    "# Step 4: Model Selection\n",
    "'''\n",
    "1.GaussianNB\n",
    "2.LogisticRegression\n",
    "3.SVC (Support Vector Classifier)\n",
    "4.RandomForestClassifier\n",
    "5.XGBClassifier (XGBoost)\n",
    "6.LGBMClassifier (LightGBM)\n",
    "'''\n",
    "\n",
    "from sklearn.naive_bayes import GaussianNB\n",
    "from sklearn.linear_model import LogisticRegression\n",
    "from sklearn.svm import SVC\n",
    "from sklearn.ensemble import RandomForestClassifier\n",
    "from xgboost import XGBClassifier\n",
    "from lightgbm import LGBMClassifier\n",
    "from sklearn.metrics import accuracy_score, classification_report \n",
    "\n",
    "# define models\n",
    "models = {\n",
    "    'GaussianNB':GaussianNB(),\n",
    "    'LogisticRegression':LogisticRegression(max_iter=5000),\n",
    "    'SVC':SVC(),\n",
    "    'RandomForest':RandomForestClassifier(),\n",
    "    'XGBoost': XGBClassifier(eval_metric='mlogloss'),\n",
    "    'LightGBM': LGBMClassifier()\n",
    "}\n",
    "\n",
    "# Train and evaluate models\n",
    "model_results = {}\n",
    "for name, model in models.items():\n",
    "    model.fit(X_train, y_train)\n",
    "    y_pred = model.predict(X_test)\n",
    "\n",
    "    acc = accuracy_score(y_test, y_pred)\n",
    "    report = classification_report(y_test, y_pred)\n",
    "\n",
    "    model_results[name] = acc\n",
    "    print(f\"Model:{name}\")\n",
    "    print(f\"Accuracy:{acc:.4f}\")\n",
    "    print(\"Classification Report:\\n\", report)\n",
    "    print('-'*50)\n",
    "    "
   ]
  },
  {
   "cell_type": "code",
   "execution_count": 163,
   "id": "22838230-8f08-421e-a220-79436df888b9",
   "metadata": {},
   "outputs": [
    {
     "name": "stdout",
     "output_type": "stream",
     "text": [
      "GaussianNB 0.54\n",
      "LogisticRegression 0.8\n",
      "SVC 0.75\n",
      "RandomForest 0.89\n",
      "XGBoost 0.92\n",
      "LightGBM 0.92\n"
     ]
    }
   ],
   "source": [
    "for k,v in model_results.items():\n",
    "    print(k,round(v,2))"
   ]
  },
  {
   "cell_type": "code",
   "execution_count": null,
   "id": "df5c6011-d8df-4a46-b981-2473c23a6a4d",
   "metadata": {},
   "outputs": [],
   "source": []
  },
  {
   "cell_type": "code",
   "execution_count": 164,
   "id": "8c1a378f-c49c-477d-a18e-da1767259bc8",
   "metadata": {},
   "outputs": [
    {
     "name": "stdout",
     "output_type": "stream",
     "text": [
      "******************************************************************************************************************************************************\n",
      "Tracking Models in MLflow, Locally 'OPTIONAL' \n",
      "******************************************************************************************************************************************************\n"
     ]
    }
   ],
   "source": [
    "print('*'*150)\n",
    "print(\"Tracking Models in MLflow, Locally 'OPTIONAL' \")\n",
    "print('*'*150)"
   ]
  },
  {
   "cell_type": "raw",
   "id": "73cf2f92-0f9e-4a3b-92b9-0a4049775ec1",
   "metadata": {},
   "source": [
    "✅ Goal: Track all six models in MLflow locally\n",
    "This includes:\n",
    "Logging model name, parameters\n",
    "Logging metrics (accuracy, precision, recall, f1)\n",
    "Saving each model artifact\n",
    "Starting a unique MLflow run per model\n",
    "\n",
    "📌 What’s Tracked in MLflow:\n",
    "\n",
    "Category\tTracked Item\n",
    "Params\tAll model hyperparameters\n",
    "Metrics\tAccuracy, precision, recall, f1 (per class)\n",
    "Artifacts\tTrained models\n",
    "Experiment Name\tFMCG_Model_Comparison\n",
    "Individual Runs\tGaussianNB, LogisticRegression, etc."
   ]
  },
  {
   "cell_type": "code",
   "execution_count": 167,
   "id": "43997d13-cbcd-4c93-8cdc-6bcbd7ccb04f",
   "metadata": {},
   "outputs": [
    {
     "name": "stdout",
     "output_type": "stream",
     "text": [
      "\n",
      "Training: GaussianNB\n"
     ]
    },
    {
     "name": "stderr",
     "output_type": "stream",
     "text": [
      "2025/07/22 21:20:04 WARNING mlflow.models.model: `artifact_path` is deprecated. Please use `name` instead.\n",
      "2025/07/22 21:20:16 WARNING mlflow.models.model: Model logged without a signature and input example. Please set `input_example` parameter when logging the model to auto infer the model signature.\n"
     ]
    },
    {
     "name": "stdout",
     "output_type": "stream",
     "text": [
      "Accuracy:0.5384\n",
      "🏃 View run GaussianNB at: http://localhost:5000/#/experiments/930663568830388562/runs/fcd92efbce604b81a6d8cdc6f8d01862\n",
      "🧪 View experiment at: http://localhost:5000/#/experiments/930663568830388562\n",
      "\n",
      "Training: LogisticRegression\n"
     ]
    },
    {
     "name": "stderr",
     "output_type": "stream",
     "text": [
      "2025/07/22 21:20:33 WARNING mlflow.models.model: `artifact_path` is deprecated. Please use `name` instead.\n",
      "2025/07/22 21:20:39 WARNING mlflow.models.model: Model logged without a signature and input example. Please set `input_example` parameter when logging the model to auto infer the model signature.\n"
     ]
    },
    {
     "name": "stdout",
     "output_type": "stream",
     "text": [
      "Accuracy:0.8013\n",
      "🏃 View run LogisticRegression at: http://localhost:5000/#/experiments/930663568830388562/runs/08b265a26abd4c4391ae2ccbfdf1f8d9\n",
      "🧪 View experiment at: http://localhost:5000/#/experiments/930663568830388562\n",
      "\n",
      "Training: SVC\n"
     ]
    },
    {
     "name": "stderr",
     "output_type": "stream",
     "text": [
      "2025/07/22 21:21:24 WARNING mlflow.models.model: `artifact_path` is deprecated. Please use `name` instead.\n",
      "2025/07/22 21:21:29 WARNING mlflow.models.model: Model logged without a signature and input example. Please set `input_example` parameter when logging the model to auto infer the model signature.\n"
     ]
    },
    {
     "name": "stdout",
     "output_type": "stream",
     "text": [
      "Accuracy:0.7520\n",
      "🏃 View run SVC at: http://localhost:5000/#/experiments/930663568830388562/runs/c7e9bb12aa4c452f81fd3b36fb2ff634\n",
      "🧪 View experiment at: http://localhost:5000/#/experiments/930663568830388562\n",
      "\n",
      "Training: RandomForest\n"
     ]
    },
    {
     "name": "stderr",
     "output_type": "stream",
     "text": [
      "2025/07/22 21:21:33 WARNING mlflow.models.model: `artifact_path` is deprecated. Please use `name` instead.\n",
      "2025/07/22 21:21:39 WARNING mlflow.models.model: Model logged without a signature and input example. Please set `input_example` parameter when logging the model to auto infer the model signature.\n"
     ]
    },
    {
     "name": "stdout",
     "output_type": "stream",
     "text": [
      "Accuracy:0.8948\n",
      "🏃 View run RandomForest at: http://localhost:5000/#/experiments/930663568830388562/runs/b85cfac26d30484bb342068c1c4f457a\n",
      "🧪 View experiment at: http://localhost:5000/#/experiments/930663568830388562\n",
      "\n",
      "Training: XGBoost\n"
     ]
    },
    {
     "name": "stderr",
     "output_type": "stream",
     "text": [
      "C:\\Users\\reach\\AppData\\Local\\Programs\\Python\\Python310\\lib\\site-packages\\xgboost\\training.py:183: UserWarning: [21:21:40] WARNING: C:\\actions-runner\\_work\\xgboost\\xgboost\\src\\learner.cc:738: \n",
      "Parameters: { \"use_label_encoder\" } are not used.\n",
      "\n",
      "  bst.update(dtrain, iteration=i, fobj=obj)\n",
      "2025/07/22 21:21:43 WARNING mlflow.models.model: `artifact_path` is deprecated. Please use `name` instead.\n",
      "C:\\Users\\reach\\AppData\\Local\\Programs\\Python\\Python310\\lib\\site-packages\\xgboost\\sklearn.py:1028: UserWarning: [21:21:44] WARNING: C:\\actions-runner\\_work\\xgboost\\xgboost\\src\\c_api\\c_api.cc:1427: Saving model in the UBJSON format as default.  You can use file extension: `json`, `ubj` or `deprecated` to choose between formats.\n",
      "  self.get_booster().save_model(fname)\n",
      "2025/07/22 21:21:51 WARNING mlflow.models.model: Model logged without a signature and input example. Please set `input_example` parameter when logging the model to auto infer the model signature.\n"
     ]
    },
    {
     "name": "stdout",
     "output_type": "stream",
     "text": [
      "Accuracy:0.9207\n",
      "🏃 View run XGBoost at: http://localhost:5000/#/experiments/930663568830388562/runs/d98e63f5215f488b87b0e569298f1acd\n",
      "🧪 View experiment at: http://localhost:5000/#/experiments/930663568830388562\n",
      "\n",
      "Training: LightGBM\n",
      "[LightGBM] [Warning] Found whitespace in feature_names, replace with underlines\n",
      "[LightGBM] [Info] Auto-choosing row-wise multi-threading, the overhead of testing was 0.000343 seconds.\n",
      "You can set `force_row_wise=true` to remove the overhead.\n",
      "And if memory is not enough, you can set `force_col_wise=true`.\n",
      "[LightGBM] [Info] Total Bins 136\n",
      "[LightGBM] [Info] Number of data points in the train set: 22467, number of used features: 28\n",
      "[LightGBM] [Info] Start training from score -1.343386\n",
      "[LightGBM] [Info] Start training from score -1.228925\n",
      "[LightGBM] [Info] Start training from score -1.126779\n",
      "[LightGBM] [Info] Start training from score -2.100810\n"
     ]
    },
    {
     "name": "stderr",
     "output_type": "stream",
     "text": [
      "2025/07/22 21:21:54 WARNING mlflow.models.model: `artifact_path` is deprecated. Please use `name` instead.\n",
      "2025/07/22 21:22:01 WARNING mlflow.models.model: Model logged without a signature and input example. Please set `input_example` parameter when logging the model to auto infer the model signature.\n"
     ]
    },
    {
     "name": "stdout",
     "output_type": "stream",
     "text": [
      "Accuracy:0.9207\n",
      "🏃 View run LightGBM at: http://localhost:5000/#/experiments/930663568830388562/runs/b18e14146c584df0a95a2030b837e80a\n",
      "🧪 View experiment at: http://localhost:5000/#/experiments/930663568830388562\n"
     ]
    }
   ],
   "source": [
    "# Track all six models in MLflow locally (OPTIONAL)            # use gitbash to run :  mlflow ui   and go to    uri \"http://localhost:5000\"  or uri \"http://127.0.0.1:5000\"\n",
    "\n",
    "import mlflow                 # Base MLflow module – needed for setting up experiments, runs, and logging\n",
    "import mlflow.sklearn         # Logging scikit-learn models using mlflow.sklearn.log_model(...)  , For models like LogisticRegression, RandomForestClassifier, SVC, etc.\n",
    "import mlflow.xgboost         # Logging XGBoost models using mlflow.xgboost.log_model(...) , If you're using XGBClassifier()\n",
    "import mlflow.lightgbm        # Logging LightGBM models using mlflow.lightgbm.log_model(...) , If you're using LGBMClassifier()\n",
    "\n",
    "# MLFlow experiment  # Initialize MLflow\n",
    "mlflow.set_experiment(\"FMCG_Model_Comparison2\")\n",
    "mlflow.set_tracking_uri(\"http://localhost:5000\")\n",
    "\n",
    "from sklearn.naive_bayes import GaussianNB\n",
    "from sklearn.linear_model import LogisticRegression\n",
    "from sklearn.svm import SVC\n",
    "from sklearn.ensemble import RandomForestClassifier\n",
    "from xgboost import XGBClassifier\n",
    "from lightgbm import LGBMClassifier\n",
    "from sklearn.metrics import accuracy_score, classification_report \n",
    "\n",
    "# Define models \n",
    "models = {\n",
    "    'GaussianNB': GaussianNB(),\n",
    "    'LogisticRegression': LogisticRegression(max_iter=5000),\n",
    "    'SVC': SVC(),\n",
    "    'RandomForest':RandomForestClassifier(),\n",
    "    'XGBoost':XGBClassifier(eval_metric='mlogloss',use_label_encoder=False),\n",
    "    'LightGBM':LGBMClassifier()  \n",
    "}\n",
    "\n",
    "model_results={}\n",
    "# Loop through each model\n",
    "for name,model in models.items():\n",
    "    with mlflow.start_run(run_name=name):\n",
    "        print(f\"\\nTraining: {name}\")\n",
    "        model.fit(X_train,y_train)\n",
    "        y_pred = model.predict(X_test)\n",
    "\n",
    "        # Metrics / Accuracy & Report\n",
    "        acc=accuracy_score(y_test, y_pred)\n",
    "        report_dict = classification_report(y_test, y_pred, output_dict=True)\n",
    "\n",
    "        # Log Parameters\n",
    "        if hasattr(model, 'get_params'):\n",
    "            mlflow.log_params(model.get_params())\n",
    "\n",
    "        # Log Accuracy\n",
    "        mlflow.log_metric(\"accuracy\",acc)\n",
    "\n",
    "        # Log classification report\n",
    "        for label, metrics in report_dict.items():\n",
    "            if isinstance(metrics, dict):\n",
    "                for metric_name, value in metrics.items():\n",
    "                    mlflow.log_metric(f\"{label}_{metric_name}\", value)\n",
    "\n",
    "        # save model / log model\n",
    "        if name=='XGBoost':\n",
    "            mlflow.xgboost.log_model(model,\"model\")\n",
    "        elif name==\"LightGBM\":\n",
    "            mlflow.lightgbm.log_model(model,\"model\")\n",
    "        else:\n",
    "            mlflow.sklearn.log_model(model,\"model\")\n",
    "\n",
    "        model_results[name]=acc\n",
    "        print(f\"Accuracy:{acc:.4f}\")\n",
    "        "
   ]
  },
  {
   "cell_type": "code",
   "execution_count": 133,
   "id": "62e322e5-47da-4841-9be0-8d5944b47185",
   "metadata": {},
   "outputs": [
    {
     "name": "stdout",
     "output_type": "stream",
     "text": [
      "Classification_report: {'0': {'precision': 0.9041666666666667, 'recall': 0.8994818652849741, 'f1-score': 0.9018181818181819, 'support': 1930.0}, '1': {'precision': 0.8930150309460654, 'recall': 0.9086819613135403, 'f1-score': 0.9007803790412486, 'support': 2223.0}, '2': {'precision': 0.9601163273784794, 'recall': 0.9510288065843622, 'f1-score': 0.9555509613396733, 'support': 2430.0}, '3': {'precision': 0.92, 'recall': 0.9139072847682119, 'f1-score': 0.9169435215946844, 'support': 906.0}, 'accuracy': 0.9206836693817599, 'macro avg': {'precision': 0.9193245062478028, 'recall': 0.918274979487772, 'f1-score': 0.9187732609484471, 'support': 7489.0}, 'weighted avg': {'precision': 0.9209262593122547, 'recall': 0.9206836693817599, 'f1-score': 0.9207749419332323, 'support': 7489.0}}\n"
     ]
    }
   ],
   "source": [
    "# print(\"Classification_report:\",report_dict)"
   ]
  },
  {
   "cell_type": "code",
   "execution_count": 138,
   "id": "9a8372b7-5a7e-4e84-8d73-16fcb4aa2816",
   "metadata": {},
   "outputs": [
    {
     "name": "stdout",
     "output_type": "stream",
     "text": [
      "              precision    recall  f1-score   support\n",
      "\n",
      "           0       0.90      0.90      0.90      1930\n",
      "           1       0.89      0.91      0.90      2223\n",
      "           2       0.96      0.95      0.96      2430\n",
      "           3       0.92      0.91      0.92       906\n",
      "\n",
      "    accuracy                           0.92      7489\n",
      "   macro avg       0.92      0.92      0.92      7489\n",
      "weighted avg       0.92      0.92      0.92      7489\n",
      "\n"
     ]
    }
   ],
   "source": [
    "# print(classification_report(y_test, y_pred))"
   ]
  },
  {
   "cell_type": "code",
   "execution_count": 142,
   "id": "bfec53a6-439d-4fce-a4be-434a740e619f",
   "metadata": {},
   "outputs": [
    {
     "name": "stdout",
     "output_type": "stream",
     "text": [
      "0_precision 0.9041666666666667\n",
      "0_recall 0.8994818652849741\n",
      "0_f1-score 0.9018181818181819\n",
      "0_support 1930.0\n",
      "1_precision 0.8930150309460654\n",
      "1_recall 0.9086819613135403\n",
      "1_f1-score 0.9007803790412486\n",
      "1_support 2223.0\n",
      "2_precision 0.9601163273784794\n",
      "2_recall 0.9510288065843622\n",
      "2_f1-score 0.9555509613396733\n",
      "2_support 2430.0\n",
      "3_precision 0.92\n",
      "3_recall 0.9139072847682119\n",
      "3_f1-score 0.9169435215946844\n",
      "3_support 906.0\n",
      "macro avg_precision 0.9193245062478028\n",
      "macro avg_recall 0.918274979487772\n",
      "macro avg_f1-score 0.9187732609484471\n",
      "macro avg_support 7489.0\n",
      "weighted avg_precision 0.9209262593122547\n",
      "weighted avg_recall 0.9206836693817599\n",
      "weighted avg_f1-score 0.9207749419332323\n",
      "weighted avg_support 7489.0\n"
     ]
    }
   ],
   "source": [
    "# for label, metrics in report_dict.items():\n",
    "#     if isinstance(metrics, dict):\n",
    "#         for metric_name, value in metrics.items():\n",
    "#             print(f\"{label}_{metric_name}\",value)"
   ]
  },
  {
   "cell_type": "markdown",
   "id": "a5a4c522-5122-45dd-a46b-a040e015aba8",
   "metadata": {},
   "source": [
    "# Register the Model"
   ]
  },
  {
   "cell_type": "code",
   "execution_count": 168,
   "id": "063c8bc6-360f-4824-b425-45eb3c9b7fae",
   "metadata": {},
   "outputs": [],
   "source": [
    "# mlflow.set_experiment(\"FMCG_Model_Comparison2\")\n",
    "mlflow.set_tracking_uri(\"http://localhost:5000\")\n",
    "# mlflow.search_runs()"
   ]
  },
  {
   "cell_type": "code",
   "execution_count": 169,
   "id": "a79f67db-12f0-43cf-8a69-d66441b5768d",
   "metadata": {},
   "outputs": [
    {
     "name": "stdout",
     "output_type": "stream",
     "text": [
      "Please type RunID d98e63f5215f488b87b0e569298f1acd\n"
     ]
    },
    {
     "name": "stderr",
     "output_type": "stream",
     "text": [
      "Successfully registered model 'XGBoost'.\n",
      "2025/07/22 21:24:09 WARNING mlflow.tracking._model_registry.fluent: Run with id d98e63f5215f488b87b0e569298f1acd has no artifacts at artifact path 'model', registering model based on models:/m-7c121aecacad4166b30125c8c9469622 instead\n",
      "2025/07/22 21:24:09 INFO mlflow.store.model_registry.abstract_store: Waiting up to 300 seconds for model version to finish creation. Model name: XGBoost, version 1\n",
      "Created version '1' of model 'XGBoost'.\n"
     ]
    },
    {
     "name": "stdout",
     "output_type": "stream",
     "text": [
      "🏃 View run XGBoost at: http://localhost:5000/#/experiments/930663568830388562/runs/d98e63f5215f488b87b0e569298f1acd\n",
      "🧪 View experiment at: http://localhost:5000/#/experiments/930663568830388562\n"
     ]
    }
   ],
   "source": [
    "model_name = 'XGBoost'\n",
    "run_id = input('Please type RunID')\n",
    "model_uri = f'runs:/{run_id}/model'\n",
    "\n",
    "with mlflow.start_run(run_id=run_id):\n",
    "    mlflow.register_model(model_uri=model_uri, name=model_name)"
   ]
  },
  {
   "cell_type": "markdown",
   "id": "8a98c2ab-daca-46b2-ae98-8fc1a19010bd",
   "metadata": {},
   "source": [
    "# Load the Model"
   ]
  },
  {
   "cell_type": "code",
   "execution_count": 170,
   "id": "d7a78bab-bbab-41af-abb0-7018d361dff8",
   "metadata": {},
   "outputs": [
    {
     "data": {
      "text/plain": [
       "array([0, 1, 2, 2, 2], dtype=int64)"
      ]
     },
     "execution_count": 170,
     "metadata": {},
     "output_type": "execute_result"
    }
   ],
   "source": [
    "model_version = 1\n",
    "model_uri = f\"models:/{model_name}/{model_version}\"\n",
    "\n",
    "loaded_model = mlflow.xgboost.load_model(model_uri)\n",
    "y_pred = loaded_model.predict(X_test)\n",
    "y_pred[:5]"
   ]
  },
  {
   "cell_type": "markdown",
   "id": "279fa9b5-457f-4555-89f5-463942a8ab67",
   "metadata": {},
   "source": [
    "# Transition the Model to Production"
   ]
  },
  {
   "cell_type": "code",
   "execution_count": 172,
   "id": "1e4479e2-616d-4232-bc89-e7b52f409b26",
   "metadata": {},
   "outputs": [
    {
     "name": "stderr",
     "output_type": "stream",
     "text": [
      "Successfully registered model 'survey_results_production'.\n",
      "Copied version '1' of model 'XGBoost' to version '1' of model 'survey_results_production'.\n"
     ]
    },
    {
     "data": {
      "text/plain": [
       "<ModelVersion: aliases=[], creation_timestamp=1753199736899, current_stage='None', deployment_job_state=<ModelVersionDeploymentJobState: current_task_name='', job_id='', job_state='DEPLOYMENT_JOB_CONNECTION_STATE_UNSPECIFIED', run_id='', run_state='DEPLOYMENT_JOB_RUN_STATE_UNSPECIFIED'>, description='', last_updated_timestamp=1753199736899, metrics=None, model_id=None, name='survey_results_production', params=None, run_id='d98e63f5215f488b87b0e569298f1acd', run_link='', source='models:/XGBoost/1', status='READY', status_message=None, tags={}, user_id='', version='1'>"
      ]
     },
     "execution_count": 172,
     "metadata": {},
     "output_type": "execute_result"
    }
   ],
   "source": [
    "# Register the Model\n",
    "current_model_uri = f\"models:/{model_name}@challenger\"\n",
    "production_model_name='survey_results_production'\n",
    "client=mlflow.MlflowClient()\n",
    "client.copy_model_version(src_model_uri=current_model_uri, dst_name=production_model_name)"
   ]
  },
  {
   "cell_type": "code",
   "execution_count": 174,
   "id": "1cac2a26-fa7e-4cbd-8b1a-decec15679cd",
   "metadata": {},
   "outputs": [
    {
     "data": {
      "text/plain": [
       "array([0, 1, 2, 2, 2], dtype=int64)"
      ]
     },
     "execution_count": 174,
     "metadata": {},
     "output_type": "execute_result"
    }
   ],
   "source": [
    "# Load the model\n",
    "model_version=1\n",
    "prod_model_uri = f\"models:/{production_model_name}@champion\"\n",
    "loaded_model = mlflow.xgboost.load_model(prod_model_uri)\n",
    "y_pred=loaded_model.predict(X_test)\n",
    "y_pred[:5]"
   ]
  },
  {
   "cell_type": "code",
   "execution_count": 175,
   "id": "5e29f384-1e42-410b-8c81-1d7cc1b6f90a",
   "metadata": {},
   "outputs": [
    {
     "name": "stdout",
     "output_type": "stream",
     "text": [
      "******************************************************************************************************************************************************\n",
      "Tracking Models in MLflow using DagsHub\n",
      "******************************************************************************************************************************************************\n"
     ]
    }
   ],
   "source": [
    "print('*'*150)\n",
    "print(\"Tracking Models in MLflow using DagsHub\")\n",
    "print('*'*150)"
   ]
  },
  {
   "cell_type": "raw",
   "id": "c01fa24a-b14f-4a87-ab72-9693bd0201cd",
   "metadata": {},
   "source": [
    "✅ PREREQUISITES\n",
    "\n",
    "Requirement\tDetails                                                                      Yes/No (details) \n",
    "DagsHub Account\t            Create a DagsHub account                                  Already have account\n",
    "Git Repo + DVC Init\t        Initialize your repo with Git + DVC (dvc init)            Yes\n",
    "MLflow Installed\t        pip install mlflow                                        Already done\n",
    "MLflow-DagsHub Integration\tpip install dagshub                                       Already done\n",
    "XGBoost, LightGBM, etc.\t    pip install xgboost lightgbm                             "
   ]
  },
  {
   "cell_type": "code",
   "execution_count": 147,
   "id": "6e105d1d-e0a0-41e6-bee7-1ca9d1ad8f98",
   "metadata": {},
   "outputs": [
    {
     "data": {
      "text/html": [
       "<pre style=\"white-space:pre;overflow-x:auto;line-height:normal;font-family:Menlo,'DejaVu Sans Mono',consolas,'Courier New',monospace\">Initialized MLflow to track repo <span style=\"color: #008000; text-decoration-color: #008000\">\"reachmurali2/mlflow_dagshub_survey_results\"</span>\n",
       "</pre>\n"
      ],
      "text/plain": [
       "Initialized MLflow to track repo \u001b[32m\"reachmurali2/mlflow_dagshub_survey_results\"\u001b[0m\n"
      ]
     },
     "metadata": {},
     "output_type": "display_data"
    },
    {
     "data": {
      "text/html": [
       "<pre style=\"white-space:pre;overflow-x:auto;line-height:normal;font-family:Menlo,'DejaVu Sans Mono',consolas,'Courier New',monospace\">Repository reachmurali2/mlflow_dagshub_survey_results initialized!\n",
       "</pre>\n"
      ],
      "text/plain": [
       "Repository reachmurali2/mlflow_dagshub_survey_results initialized!\n"
      ]
     },
     "metadata": {},
     "output_type": "display_data"
    }
   ],
   "source": [
    "# Dagshub setup\n",
    "import dagshub\n",
    "dagshub.init(repo_owner='reachmurali2', repo_name='mlflow_dagshub_survey_results', mlflow=True)"
   ]
  },
  {
   "cell_type": "code",
   "execution_count": 148,
   "id": "fb881e46-041f-4614-9305-25b984507229",
   "metadata": {},
   "outputs": [],
   "source": [
    "# Tracking Models in MLflow using DagsHub \n",
    "import mlflow                 # Base MLflow module – needed for setting up experiments, runs, and logging\n",
    "import mlflow.sklearn         # Logging scikit-learn models using mlflow.sklearn.log_model(...)  , For models like LogisticRegression, RandomForestClassifier, SVC, etc.\n",
    "import mlflow.xgboost         # Logging XGBoost models using mlflow.xgboost.log_model(...) , If you're using XGBClassifier()\n",
    "import mlflow.lightgbm        # Logging LightGBM models using mlflow.lightgbm.log_model(...) , If you're using LGBMClassifier()"
   ]
  },
  {
   "cell_type": "code",
   "execution_count": 151,
   "id": "df0c9efa-9592-470c-a71e-d4af87dfc17c",
   "metadata": {},
   "outputs": [
    {
     "name": "stderr",
     "output_type": "stream",
     "text": [
      "2025/05/01 16:24:19 INFO mlflow.tracking.fluent: Experiment with name 'Survey_Model_Comparison' does not exist. Creating a new experiment.\n"
     ]
    },
    {
     "name": "stdout",
     "output_type": "stream",
     "text": [
      "\n",
      "Training: GaussianNB\n"
     ]
    },
    {
     "name": "stderr",
     "output_type": "stream",
     "text": [
      "2025/05/01 16:24:40 WARNING mlflow.models.model: Model logged without a signature and input example. Please set `input_example` parameter when logging the model to auto infer the model signature.\n"
     ]
    },
    {
     "name": "stdout",
     "output_type": "stream",
     "text": [
      "Accuracy:0.5384\n",
      "🏃 View run GaussianNB at: https://dagshub.com/reachmurali2/mlflow_dagshub_survey_results.mlflow/#/experiments/0/runs/40803876ad2c4e2ba17092fd59c976cb\n",
      "🧪 View experiment at: https://dagshub.com/reachmurali2/mlflow_dagshub_survey_results.mlflow/#/experiments/0\n",
      "\n",
      "Training: LogisticRegression\n"
     ]
    },
    {
     "name": "stderr",
     "output_type": "stream",
     "text": [
      "2025/05/01 16:25:18 WARNING mlflow.models.model: Model logged without a signature and input example. Please set `input_example` parameter when logging the model to auto infer the model signature.\n"
     ]
    },
    {
     "name": "stdout",
     "output_type": "stream",
     "text": [
      "Accuracy:0.8013\n",
      "🏃 View run LogisticRegression at: https://dagshub.com/reachmurali2/mlflow_dagshub_survey_results.mlflow/#/experiments/0/runs/d90b405ba6fa4214844224da5c86cde7\n",
      "🧪 View experiment at: https://dagshub.com/reachmurali2/mlflow_dagshub_survey_results.mlflow/#/experiments/0\n",
      "\n",
      "Training: SVC\n"
     ]
    },
    {
     "name": "stderr",
     "output_type": "stream",
     "text": [
      "2025/05/01 16:26:15 WARNING mlflow.models.model: Model logged without a signature and input example. Please set `input_example` parameter when logging the model to auto infer the model signature.\n"
     ]
    },
    {
     "name": "stdout",
     "output_type": "stream",
     "text": [
      "Accuracy:0.7520\n",
      "🏃 View run SVC at: https://dagshub.com/reachmurali2/mlflow_dagshub_survey_results.mlflow/#/experiments/0/runs/88ecdca5a688456abdc392b5b87407cb\n",
      "🧪 View experiment at: https://dagshub.com/reachmurali2/mlflow_dagshub_survey_results.mlflow/#/experiments/0\n",
      "\n",
      "Training: RandomForest\n"
     ]
    },
    {
     "name": "stderr",
     "output_type": "stream",
     "text": [
      "2025/05/01 16:26:52 WARNING mlflow.models.model: Model logged without a signature and input example. Please set `input_example` parameter when logging the model to auto infer the model signature.\n"
     ]
    },
    {
     "name": "stdout",
     "output_type": "stream",
     "text": [
      "Accuracy:0.8938\n",
      "🏃 View run RandomForest at: https://dagshub.com/reachmurali2/mlflow_dagshub_survey_results.mlflow/#/experiments/0/runs/8d2fc23f8d5a4bee8f89943d56563008\n",
      "🧪 View experiment at: https://dagshub.com/reachmurali2/mlflow_dagshub_survey_results.mlflow/#/experiments/0\n",
      "\n",
      "Training: XGBoost\n"
     ]
    },
    {
     "name": "stderr",
     "output_type": "stream",
     "text": [
      "C:\\Users\\reach\\AppData\\Local\\Programs\\Python\\Python310\\lib\\site-packages\\xgboost\\core.py:158: UserWarning: [16:27:11] WARNING: C:\\buildkite-agent\\builds\\buildkite-windows-cpu-autoscaling-group-i-08cbc0333d8d4aae1-1\\xgboost\\xgboost-ci-windows\\src\\learner.cc:740: \n",
      "Parameters: { \"use_label_encoder\" } are not used.\n",
      "\n",
      "  warnings.warn(smsg, UserWarning)\n",
      "C:\\Users\\reach\\AppData\\Local\\Programs\\Python\\Python310\\lib\\site-packages\\xgboost\\core.py:158: UserWarning: [16:27:30] WARNING: C:\\buildkite-agent\\builds\\buildkite-windows-cpu-autoscaling-group-i-08cbc0333d8d4aae1-1\\xgboost\\xgboost-ci-windows\\src\\c_api\\c_api.cc:1374: Saving model in the UBJSON format as default.  You can use file extension: `json`, `ubj` or `deprecated` to choose between formats.\n",
      "  warnings.warn(smsg, UserWarning)\n",
      "2025/05/01 16:27:37 WARNING mlflow.models.model: Model logged without a signature and input example. Please set `input_example` parameter when logging the model to auto infer the model signature.\n"
     ]
    },
    {
     "name": "stdout",
     "output_type": "stream",
     "text": [
      "Accuracy:0.9207\n",
      "🏃 View run XGBoost at: https://dagshub.com/reachmurali2/mlflow_dagshub_survey_results.mlflow/#/experiments/0/runs/6b29ccd1ea9143f4bb5d245377ad1f9d\n",
      "🧪 View experiment at: https://dagshub.com/reachmurali2/mlflow_dagshub_survey_results.mlflow/#/experiments/0\n",
      "\n",
      "Training: LightGBM\n",
      "[LightGBM] [Warning] Found whitespace in feature_names, replace with underlines\n",
      "[LightGBM] [Info] Auto-choosing row-wise multi-threading, the overhead of testing was 0.000582 seconds.\n",
      "You can set `force_row_wise=true` to remove the overhead.\n",
      "And if memory is not enough, you can set `force_col_wise=true`.\n",
      "[LightGBM] [Info] Total Bins 136\n",
      "[LightGBM] [Info] Number of data points in the train set: 22467, number of used features: 28\n",
      "[LightGBM] [Info] Start training from score -1.343386\n",
      "[LightGBM] [Info] Start training from score -1.228925\n",
      "[LightGBM] [Info] Start training from score -1.126779\n",
      "[LightGBM] [Info] Start training from score -2.100810\n"
     ]
    },
    {
     "name": "stderr",
     "output_type": "stream",
     "text": [
      "2025/05/01 16:28:12 WARNING mlflow.models.model: Model logged without a signature and input example. Please set `input_example` parameter when logging the model to auto infer the model signature.\n"
     ]
    },
    {
     "name": "stdout",
     "output_type": "stream",
     "text": [
      "Accuracy:0.9207\n",
      "🏃 View run LightGBM at: https://dagshub.com/reachmurali2/mlflow_dagshub_survey_results.mlflow/#/experiments/0/runs/3b0eb14957b644c2b71b367d866d9c3f\n",
      "🧪 View experiment at: https://dagshub.com/reachmurali2/mlflow_dagshub_survey_results.mlflow/#/experiments/0\n"
     ]
    }
   ],
   "source": [
    "# Ideally you will not require following 4 lines if you have started and do not have any previous dagshub credentials on your computer\n",
    "# Publishing to centralized dagshub server \n",
    "import os \n",
    "os.environ['MLFlow_TRACKING_USERNAME']='reachmurali2'\n",
    "os.environ['MLFLOW_TRACKING_PASSWORD']='15c692c817fb35b4abe13a93649923cf3557dd82'\n",
    "os.environ['MLFLOW_TRACKING_URI'] = 'https://dagshub.com/reachmurali2/mlflow_dagshub_survey_results.mlflow'\n",
    "\n",
    "# MLFlow setup using DagsHub\n",
    "mlflow.set_experiment(\"Survey_Model_Comparison\")\n",
    "mlflow.set_tracking_uri(\"https://dagshub.com/reachmurali2/mlflow_dagshub_survey_results.mlflow\")\n",
    "\n",
    "from sklearn.naive_bayes import GaussianNB\n",
    "from sklearn.linear_model import LogisticRegression\n",
    "from sklearn.svm import SVC\n",
    "from sklearn.ensemble import RandomForestClassifier\n",
    "from xgboost import XGBClassifier\n",
    "from lightgbm import LGBMClassifier\n",
    "from sklearn.metrics import accuracy_score, classification_report\n",
    "\n",
    "# Define models \n",
    "models = {\n",
    "    'GaussianNB': GaussianNB(),\n",
    "    'LogisticRegression': LogisticRegression(max_iter=5000),\n",
    "    'SVC': SVC(),\n",
    "    'RandomForest': RandomForestClassifier(),\n",
    "    'XGBoost': XGBClassifier(eval_metric='mlogloss', use_label_encoder=True),\n",
    "    'LightGBM': LGBMClassifier()\n",
    "}\n",
    "model_results={}\n",
    "# Loop through each model\n",
    "for name, model in models.items():\n",
    "    with mlflow.start_run(run_name=name):\n",
    "        print(f\"\\nTraining: {name}\")\n",
    "        model.fit(X_train, y_train)\n",
    "        y_pred = model.predict(X_test)\n",
    "\n",
    "        # Metrics / Accuracy & Report \n",
    "        acc=accuracy_score(y_test, y_pred)\n",
    "        report_dict = classification_report(y_test, y_pred, output_dict=True)\n",
    "\n",
    "        # Log Parameters \n",
    "        if hasattr(model, 'get_params'):           # is used to safely log all hyperparameters of a machine learning model to MLflow, only if the model supports the get_params() method. # Checks if the model object has a method named get_params. This is a safety check.\n",
    "            mlflow.log_params(model.get_params())  # Logs this dictionary to MLflow, so you can track which parameters were used in each experiment run. # Returns a dictionary of all hyperparameters for the model (like C, max_depth, etc.).\n",
    "        # Log accuracy    \n",
    "        mlflow.log_metric(\"accuracy\", acc)\n",
    "\n",
    "        # Log classification report\n",
    "        for label, metrics in report_dict.items():\n",
    "            if isinstance(metrics, dict):\n",
    "                for metric_name, value in metrics.items():\n",
    "                    mlflow.log_metric(f\"{label}_{metric_name}\",value)\n",
    "        \n",
    "        # Log model / save model  \n",
    "        if name =='XGBoost':\n",
    "            mlflow.xgboost.log_model(model,\"model\")\n",
    "        elif name == 'LightGBM':\n",
    "            mlflow.lightgbm.log_model(model,\"model\")\n",
    "        else:\n",
    "            mlflow.sklearn.log_model(model, \"model\")\n",
    "\n",
    "        model_results[name]=acc\n",
    "        print(f\"Accuracy:{acc:.4f}\")\n",
    "    "
   ]
  },
  {
   "cell_type": "markdown",
   "id": "1a42ecb3-c3ec-405a-b816-c9a68b8b37b5",
   "metadata": {},
   "source": [
    "<!-- <img src='hasattr.png'> -->"
   ]
  },
  {
   "cell_type": "markdown",
   "id": "0ed21f6b-27a0-4051-91d1-43d8bb2f533f",
   "metadata": {},
   "source": [
    "# Register the model"
   ]
  },
  {
   "cell_type": "code",
   "execution_count": 153,
   "id": "b1be3dd4-95a7-4b4c-b9b0-14c060050bde",
   "metadata": {},
   "outputs": [
    {
     "name": "stdout",
     "output_type": "stream",
     "text": [
      "Please inpput RunID 6b29ccd1ea9143f4bb5d245377ad1f9d\n"
     ]
    },
    {
     "name": "stderr",
     "output_type": "stream",
     "text": [
      "Successfully registered model 'XGBoost'.\n",
      "2025/05/01 16:38:38 INFO mlflow.store.model_registry.abstract_store: Waiting up to 300 seconds for model version to finish creation. Model name: XGBoost, version 1\n",
      "Created version '1' of model 'XGBoost'.\n"
     ]
    },
    {
     "name": "stdout",
     "output_type": "stream",
     "text": [
      "🏃 View run XGBoost at: https://dagshub.com/reachmurali2/mlflow_dagshub_survey_results.mlflow/#/experiments/0/runs/6b29ccd1ea9143f4bb5d245377ad1f9d\n",
      "🧪 View experiment at: https://dagshub.com/reachmurali2/mlflow_dagshub_survey_results.mlflow/#/experiments/0\n"
     ]
    }
   ],
   "source": [
    "model_name = 'XGBoost'\n",
    "run_id=input(\"Please inpput RunID\")\n",
    "model_uri=f'runs:/{run_id}/model'\n",
    "with mlflow.start_run(run_id=run_id):\n",
    "    mlflow.register_model(model_uri=model_uri, name=model_name)"
   ]
  },
  {
   "cell_type": "markdown",
   "id": "a4122354-0b57-4eaa-9939-89fef6dfae37",
   "metadata": {},
   "source": [
    "# Load the model"
   ]
  },
  {
   "cell_type": "code",
   "execution_count": 154,
   "id": "0bd70a54-1000-4332-9fdc-6ecad09852fa",
   "metadata": {},
   "outputs": [
    {
     "data": {
      "application/vnd.jupyter.widget-view+json": {
       "model_id": "dc5c76a472924a7b8b4fea0baa51bc4f",
       "version_major": 2,
       "version_minor": 0
      },
      "text/plain": [
       "Downloading artifacts:   0%|          | 0/5 [00:00<?, ?it/s]"
      ]
     },
     "metadata": {},
     "output_type": "display_data"
    },
    {
     "data": {
      "text/plain": [
       "array([0, 1, 2, 2, 2, 3], dtype=int64)"
      ]
     },
     "execution_count": 154,
     "metadata": {},
     "output_type": "execute_result"
    }
   ],
   "source": [
    "model_version=1\n",
    "model_uri=f\"models:/{model_name}/{model_version}\"\n",
    "loaded_model = mlflow.xgboost.load_model(model_uri)\n",
    "y_pred=loaded_model.predict(X_test)\n",
    "y_pred[:6]"
   ]
  },
  {
   "cell_type": "markdown",
   "id": "45c8819c-4f50-45b8-97ab-2c7f156b9f82",
   "metadata": {},
   "source": [
    "# Transition the Model to Prodution"
   ]
  },
  {
   "cell_type": "code",
   "execution_count": 155,
   "id": "fafdd9d4-745a-4d7a-b15d-abb1fcd79695",
   "metadata": {},
   "outputs": [
    {
     "name": "stderr",
     "output_type": "stream",
     "text": [
      "Successfully registered model 'survey_production'.\n",
      "Copied version '1' of model 'XGBoost' to version '1' of model 'survey_production'.\n"
     ]
    },
    {
     "data": {
      "text/plain": [
       "<ModelVersion: aliases=[], creation_timestamp=1746098040025, current_stage='None', description='', last_updated_timestamp=1746098040025, name='survey_production', run_id='6b29ccd1ea9143f4bb5d245377ad1f9d', run_link='', source='models:/XGBoost/1', status='READY', status_message=None, tags={}, user_id='', version='1'>"
      ]
     },
     "execution_count": 155,
     "metadata": {},
     "output_type": "execute_result"
    }
   ],
   "source": [
    "# Copy the model \n",
    "current_model_uri = f\"models:/{model_name}@challenger\"\n",
    "production_model_name=\"survey_production\"\n",
    "client=mlflow.MlflowClient()\n",
    "client.copy_model_version(src_model_uri=current_model_uri, dst_name=production_model_name)"
   ]
  },
  {
   "cell_type": "code",
   "execution_count": 156,
   "id": "6ff5bb6c-d985-4eae-833a-045bd6c3b8fb",
   "metadata": {},
   "outputs": [
    {
     "data": {
      "application/vnd.jupyter.widget-view+json": {
       "model_id": "c7d46263a56d4609abe61657a49bb307",
       "version_major": 2,
       "version_minor": 0
      },
      "text/plain": [
       "Downloading artifacts:   0%|          | 0/5 [00:00<?, ?it/s]"
      ]
     },
     "metadata": {},
     "output_type": "display_data"
    },
    {
     "data": {
      "text/plain": [
       "array([0, 1, 2, 2, 2, 3], dtype=int64)"
      ]
     },
     "execution_count": 156,
     "metadata": {},
     "output_type": "execute_result"
    }
   ],
   "source": [
    "# Load the model copied earlier\n",
    "model_version=1 \n",
    "prod_model_uri = f\"models:/{production_model_name}@champion\"\n",
    "loaded_model = mlflow.xgboost.load_model(prod_model_uri)\n",
    "y_pred = loaded_model.predict(X_test)\n",
    "y_pred[:6]"
   ]
  },
  {
   "cell_type": "code",
   "execution_count": null,
   "id": "92224258-03fd-484b-b988-993392e2a2a5",
   "metadata": {},
   "outputs": [],
   "source": []
  },
  {
   "cell_type": "code",
   "execution_count": null,
   "id": "835b8044-1827-4a90-a4fb-5830f41125ba",
   "metadata": {},
   "outputs": [],
   "source": []
  },
  {
   "cell_type": "code",
   "execution_count": null,
   "id": "87430288-d0b9-4d44-990e-fd4d9841c69e",
   "metadata": {},
   "outputs": [],
   "source": []
  },
  {
   "cell_type": "code",
   "execution_count": null,
   "id": "86488898-cf9a-4cf9-8188-8a4e7203d8e1",
   "metadata": {},
   "outputs": [],
   "source": []
  }
 ],
 "metadata": {
  "kernelspec": {
   "display_name": "Python 3 (ipykernel)",
   "language": "python",
   "name": "python3"
  },
  "language_info": {
   "codemirror_mode": {
    "name": "ipython",
    "version": 3
   },
   "file_extension": ".py",
   "mimetype": "text/x-python",
   "name": "python",
   "nbconvert_exporter": "python",
   "pygments_lexer": "ipython3",
   "version": "3.10.11"
  }
 },
 "nbformat": 4,
 "nbformat_minor": 5
}
